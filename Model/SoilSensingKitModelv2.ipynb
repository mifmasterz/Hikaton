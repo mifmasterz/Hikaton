{
 "cells": [
  {
   "cell_type": "code",
   "execution_count": 1,
   "metadata": {},
   "outputs": [
    {
     "data": {
      "text/html": [
       "Installing package Microsoft.ML, version 1.4.0-preview...............................................done!"
      ]
     },
     "metadata": {},
     "output_type": "display_data"
    },
    {
     "data": {
      "text/html": [
       "Successfully added reference to package Microsoft.ML, version 1.4.0-preview"
      ]
     },
     "metadata": {},
     "output_type": "display_data"
    },
    {
     "data": {
      "text/html": [
       "Installing package MathNet.Numerics....done!"
      ]
     },
     "metadata": {},
     "output_type": "display_data"
    },
    {
     "data": {
      "text/html": [
       "Successfully added reference to package MathNet.Numerics, version 4.9.0"
      ]
     },
     "metadata": {},
     "output_type": "display_data"
    },
    {
     "data": {
      "text/html": [
       "Installing package System.Data.Common....done!"
      ]
     },
     "metadata": {},
     "output_type": "display_data"
    },
    {
     "data": {
      "text/html": [
       "Successfully added reference to package System.Data.Common, version 4.3.0"
      ]
     },
     "metadata": {},
     "output_type": "display_data"
    },
    {
     "data": {
      "text/html": [
       "Installing package Microsoft.ML.AutoML....done!"
      ]
     },
     "metadata": {},
     "output_type": "display_data"
    },
    {
     "data": {
      "text/html": [
       "Successfully added reference to package Microsoft.ML.AutoML, version 0.15.1"
      ]
     },
     "metadata": {},
     "output_type": "display_data"
    },
    {
     "data": {
      "text/html": [
       "Installing package Microsoft.Data.DataFrame, version 0.1.1-e190920-1......done!"
      ]
     },
     "metadata": {},
     "output_type": "display_data"
    },
    {
     "data": {
      "text/html": [
       "Successfully added reference to package Microsoft.Data.DataFrame, version 0.1.1-e190920-1"
      ]
     },
     "metadata": {},
     "output_type": "display_data"
    }
   ],
   "source": [
    "#r \"nuget:Microsoft.ML,1.4.0-preview\"\n",
    "#r \"nuget:MathNet.Numerics\"\n",
    "#r \"nuget:System.Data.Common\"\n",
    "#r \"nuget:Microsoft.ML.AutoML\"\n",
    "#r \"nuget:Microsoft.Data.DataFrame,0.1.1-e190920-1\""
   ]
  },
  {
   "cell_type": "code",
   "execution_count": 2,
   "metadata": {},
   "outputs": [],
   "source": [
    "using System;\n",
    "using Microsoft.ML;\n",
    "using Microsoft.ML.Data;\n",
    "using Microsoft.ML.AutoML;\n",
    "using System.IO;\n",
    "using System.Collections.Generic;\n",
    "using System.Data;\n",
    "using System.Text.RegularExpressions;\n",
    "using System.Text;\n",
    "using MathNet.Numerics.LinearAlgebra;\n",
    "using System.Linq;\n",
    "using System.Reflection;\n",
    "using Microsoft.Data;\n",
    "using XPlot.Plotly;"
   ]
  },
  {
   "cell_type": "code",
   "execution_count": 3,
   "metadata": {},
   "outputs": [],
   "source": [
    "using Microsoft.AspNetCore.Html;\n",
    "Formatter<DataFrame>.Register((df, writer) =>\n",
    "{\n",
    "    var headers = new List<IHtmlContent>();\n",
    "    headers.Add(th(i(\"index\")));\n",
    "    headers.AddRange(df.Columns.Select(c => (IHtmlContent) th(c)));\n",
    "    var rows = new List<List<IHtmlContent>>();\n",
    "    var take = 20;\n",
    "    for (var i = 0; i < Math.Min(take, df.RowCount); i++)\n",
    "    {\n",
    "        var cells = new List<IHtmlContent>();\n",
    "        cells.Add(td(i));\n",
    "        foreach (var obj in df[i])\n",
    "        {\n",
    "            cells.Add(td(obj));\n",
    "        }\n",
    "        rows.Add(cells);\n",
    "    }\n",
    "    \n",
    "    var t = table(\n",
    "        thead(\n",
    "            headers),\n",
    "        tbody(\n",
    "            rows.Select(\n",
    "                r => tr(r))));\n",
    "    \n",
    "    writer.Write(t);\n",
    "}, \"text/html\");"
   ]
  },
  {
   "cell_type": "markdown",
   "metadata": {},
   "source": [
    "## Models"
   ]
  },
  {
   "cell_type": "code",
   "execution_count": 4,
   "metadata": {},
   "outputs": [],
   "source": [
    "public class ResultPrediction\n",
    "    {\n",
    "        public string ElementName { get; set; }\n",
    "        public float ElementValue { get; set; }\n",
    "    }\n",
    "    public class ModelOutput\n",
    "    {\n",
    "        public float Score { get; set; }\n",
    "    }\n",
    "    public class ModelInput\n",
    "    {\n",
    "        [ColumnName(\"ElementValue\"), LoadColumn(0)]\n",
    "        public float ElementValue { get; set; }\n",
    "\n",
    "\n",
    "        [LoadColumn(1, 154)]\n",
    "        [VectorType(154)]\n",
    "        public float[] FeatureVector;\n",
    "    }"
   ]
  },
  {
   "cell_type": "markdown",
   "metadata": {},
   "source": [
    "## Helpers"
   ]
  },
  {
   "cell_type": "code",
   "execution_count": 5,
   "metadata": {},
   "outputs": [],
   "source": [
    "   public class MathExt\n",
    "    {\n",
    "        public static double StdDev(IEnumerable<double> values)\n",
    "        {\n",
    "            double ret = 0;\n",
    "            int count = values.Count();\n",
    "            if (count > 1)\n",
    "            {\n",
    "                //Compute the Average\n",
    "                double avg = values.Average();\n",
    "\n",
    "                //Perform the Sum of (value-avg)^2\n",
    "                double sum = values.Sum(d => (d - avg) * (d - avg));\n",
    "\n",
    "                //Put it all together\n",
    "                ret = Math.Sqrt(sum / count);\n",
    "            }\n",
    "            return ret;\n",
    "        }\n",
    "    }\n",
    "    public class SavitzkyGolayFilter\n",
    "    {\n",
    "        private int SidePoints { get; set; }\n",
    "\n",
    "        private Matrix<double> Coefficients { get; set; }\n",
    "\n",
    "        public SavitzkyGolayFilter(int sidePoints, int polynomialOrder)\n",
    "        {\n",
    "            this.SidePoints = sidePoints;\n",
    "            this.Design(polynomialOrder);\n",
    "        }\n",
    "\n",
    "        /// <summary>\n",
    "        /// Smoothes the input samples.\n",
    "        /// </summary>\n",
    "        /// <param name=\"samples\"></param>\n",
    "        /// <returns></returns>\n",
    "        public double[] Process(double[] samples)\n",
    "        {\n",
    "            int length = samples.Length;\n",
    "            double[] output = new double[length];\n",
    "            int frameSize = (this.SidePoints << 1) + 1;\n",
    "            double[] frame = new double[frameSize];\n",
    "\n",
    "            for (int i = 0; i <= this.SidePoints; ++i)\n",
    "            {\n",
    "                Array.Copy(samples, frame, frameSize);\n",
    "                output[i] = this.Coefficients.Column(i).DotProduct(Vector<double>.Build.DenseOfArray(frame));\n",
    "            }\n",
    "\n",
    "            for (int n = this.SidePoints + 1; n < length - this.SidePoints; ++n)\n",
    "            {\n",
    "                Array.ConstrainedCopy(samples, n - this.SidePoints, frame, 0, frameSize);\n",
    "                output[n] = this.Coefficients.Column(this.SidePoints + 1).DotProduct(Vector<double>.Build.DenseOfArray(frame));\n",
    "            }\n",
    "\n",
    "            for (int i = 0; i <= this.SidePoints; ++i)\n",
    "            {\n",
    "                Array.ConstrainedCopy(samples, length - (this.SidePoints << 1), frame, 0, this.SidePoints << 1);\n",
    "                output[length - 1 - this.SidePoints + i] = this.Coefficients.Column(this.SidePoints + i).DotProduct(Vector<double>.Build.DenseOfArray(frame));\n",
    "            }\n",
    "\n",
    "            return output;\n",
    "        }\n",
    "\n",
    "        private void Design(int polynomialOrder)\n",
    "        {\n",
    "            double[,] a = new double[(this.SidePoints << 1) + 1, polynomialOrder + 1];\n",
    "\n",
    "            for (int m = -this.SidePoints; m <= this.SidePoints; ++m)\n",
    "            {\n",
    "                for (int i = 0; i <= polynomialOrder; ++i)\n",
    "                {\n",
    "                    a[m + this.SidePoints, i] = Math.Pow(m, i);\n",
    "                }\n",
    "            }\n",
    "\n",
    "            Matrix<double> s = Matrix<double>.Build.DenseOfArray(a);\n",
    "            this.Coefficients = s.Multiply(s.TransposeThisAndMultiply(s).Inverse()).Multiply(s.Transpose());\n",
    "        }\n",
    "    }\n",
    "    public class ConsoleHelper\n",
    "    {\n",
    "        public static EventHandler<string> PrintData;\n",
    "        public static void Print(string Message)\n",
    "        {\n",
    "            PrintData?.Invoke(null, Message);\n",
    "        }\n",
    "        public static void Print(string Message, params string[] Param)\n",
    "        {\n",
    "            var Msg = string.Format(Message, Param);\n",
    "            PrintData?.Invoke(null, Msg);\n",
    "        }\n",
    "    }"
   ]
  },
  {
   "cell_type": "markdown",
   "metadata": {},
   "source": [
    "## Helper Methods"
   ]
  },
  {
   "cell_type": "code",
   "execution_count": 7,
   "metadata": {},
   "outputs": [],
   "source": [
    "static MLContext mlContext = new MLContext(seed: 1);\n",
    "/// <summary>\n",
    "/// Data input yang dimasukkan dari array 0 - akhir itu nilai reflectance dari wave length: 2501.982414 sampe 1350.724346\n",
    "/// </summary>\n",
    "/// <param name=\"DataReflectance\"></param>\n",
    "public static List<ResultPrediction> Predict(string ModelFolder, List<float> DataReflectance)\n",
    "{\n",
    "    if (DataReflectance == null || DataReflectance.Count != 154) return null; \n",
    "    var datas = new List<ResultPrediction>();\n",
    "\n",
    "    // Create sample data to do a single prediction with it \n",
    "    ModelInput inputData = PreProcessData(DataReflectance);\n",
    "    var fileCsvs = Directory.GetFiles(ModelFolder, \"*.csv\");\n",
    "    foreach (var file in fileCsvs)\n",
    "    {\n",
    "        var modelName = Path.GetFileNameWithoutExtension(file);\n",
    "        ITransformer mlModel = mlContext.Model.Load(GetAbsolutePath(file), out DataViewSchema inputSchema);\n",
    "        var predEngine = mlContext.Model.CreatePredictionEngine<ModelInput, ModelOutput>(mlModel);\n",
    "\n",
    "        // Try a single prediction\n",
    "        ModelOutput predictionResult = predEngine.Predict(inputData);\n",
    "\n",
    "        ConsoleHelper.Print($\"Prediction [{modelName}] --> Predicted value: {predictionResult.Score}\");\n",
    "        datas.Add(new ResultPrediction() { ElementName = modelName, ElementValue = predictionResult.Score });\n",
    "    }\n",
    "    return datas;\n",
    "}\n",
    "\n",
    "/// <summary>\n",
    "/// Data input yang dimasukkan dari array 0 - akhir itu nilai reflectance dari wave length: 2501.982414 sampe 1350.724346\n",
    "/// </summary>\n",
    "/// <param name=\"DataReflectance\"></param>\n",
    "/// <returns></returns>\n",
    "static ModelInput PreProcessData(List<float> DataReflectance)\n",
    "{\n",
    "    try\n",
    "    {\n",
    "        var item = new ModelInput();\n",
    "        //convert to absorbance\n",
    "\n",
    "        for (int col = 0; col < DataReflectance.Count; col++)\n",
    "        {\n",
    "            DataReflectance[col] = (float)Math.Log(1 / DataReflectance[col]);\n",
    "        }\n",
    "\n",
    "\n",
    "        //sav gol filter\n",
    "        SavitzkyGolayFilter filter = new SavitzkyGolayFilter(11, 2);\n",
    "\n",
    "        List<double> rowDatas = new List<double>();\n",
    "        for (int col = 0; col < DataReflectance.Count; col++)\n",
    "        {\n",
    "            rowDatas.Add(DataReflectance[col]);\n",
    "        }\n",
    "        var filteredRow = filter.Process(rowDatas.ToArray());\n",
    "        for (int col = 0; col < DataReflectance.Count; col++)\n",
    "        {\n",
    "            DataReflectance[col] = (float)filteredRow[col];\n",
    "        }\n",
    "\n",
    "\n",
    "        //SNV\n",
    "\n",
    "        rowDatas = new List<double>();\n",
    "        for (int col = 0; col < DataReflectance.Count; col++)\n",
    "        {\n",
    "            rowDatas.Add(DataReflectance[col]);\n",
    "        }\n",
    "        var mean = rowDatas.Average();\n",
    "        var stdDev = MathExt.StdDev(rowDatas);\n",
    "        for (int col = 0; col < DataReflectance.Count; col++)\n",
    "        {\n",
    "            DataReflectance[col] = (float)((DataReflectance[col] - mean) / stdDev);\n",
    "        }\n",
    "\n",
    "        item.FeatureVector = DataReflectance.ToArray();\n",
    "\n",
    "        return item;\n",
    "    }\n",
    "    catch\n",
    "    {\n",
    "        return null;\n",
    "    }\n",
    "}\n",
    "static void DoAutoML(string DatasetFolder, string ModelFolder, uint TrainDuration=60)\n",
    "{\n",
    "    if (!Directory.Exists(ModelFolder)) Directory.CreateDirectory(ModelFolder);\n",
    "    var fileCsvs = Directory.GetFiles(DatasetFolder, \"*.csv\");\n",
    "    foreach (var file in fileCsvs)\n",
    "    {\n",
    "        ConsoleHelper.Print($\"Do AutoML for {Path.GetFileNameWithoutExtension(file)} in {TrainDuration} secs\");\n",
    "        IDataView trainingDataView = mlContext.Data.LoadFromTextFile<ModelInput>(\n",
    "                                         path: file,\n",
    "                                         hasHeader: true,\n",
    "                                         separatorChar: ',',\n",
    "                                         allowQuoting: true,\n",
    "                                         allowSparse: false);\n",
    "        var split = mlContext.Data.TrainTestSplit(trainingDataView, testFraction: 0.25 );\n",
    "        var experiment = mlContext.Auto().CreateRegressionExperiment(maxExperimentTimeInSeconds: TrainDuration);\n",
    "\n",
    "        var result = experiment.Execute(split.TrainSet, labelColumnName: \"ElementValue\");\n",
    "\n",
    "        ConsoleHelper.Print($\"Best Trainer:{result.BestRun.TrainerName}\");\n",
    "\n",
    "        PrintRegressionMetrics(result.BestRun.ValidationMetrics);\n",
    "\n",
    "        // Save model\n",
    "        SaveModel(mlContext, result.BestRun.Model, ModelFolder+\"\\\\\" + Path.GetFileNameWithoutExtension(file)+ \".zip\", trainingDataView.Schema);\n",
    "\n",
    "        //show chart\n",
    "        var scatters = result.RunDetails.Where(d => d.ValidationMetrics != null).GroupBy(    \n",
    "            r => r.TrainerName,\n",
    "            (name, details) => new Graph.Scattergl()\n",
    "            {\n",
    "                name = name,\n",
    "                x = details.Select(r => r.RuntimeInSeconds),\n",
    "                y = details.Select(r => r.ValidationMetrics.MeanAbsoluteError),\n",
    "                mode = \"markers\",\n",
    "                marker = new Graph.Marker() { size = 12 }\n",
    "            });\n",
    "\n",
    "        var chart = Chart.Plot(scatters);\n",
    "        chart.WithXTitle(\"Training Time\");\n",
    "        chart.WithYTitle(\"Error\");\n",
    "        display(chart);\n",
    "\n",
    "        var testResults = result.BestRun.Model.Transform(split.TestSet);\n",
    "\n",
    "        var trueValues = testResults.GetColumn<float>(\"ElementValue\");\n",
    "        var predictedValues = testResults.GetColumn<float>(\"Score\");\n",
    "        \n",
    "        var predictedVsTrue = new Graph.Scattergl()\n",
    "        {\n",
    "            x = trueValues,\n",
    "            y = predictedValues,\n",
    "            mode = \"markers\",\n",
    "        };\n",
    "\n",
    "        var maximumValue = Math.Max(trueValues.Max(), predictedValues.Max());\n",
    "\n",
    "        var perfectLine = new Graph.Scattergl()\n",
    "        {\n",
    "            x = new[] {0, maximumValue},\n",
    "            y = new[] {0, maximumValue},\n",
    "            mode = \"lines\",\n",
    "        };\n",
    "\n",
    "        var chart2 = Chart.Plot(new[] {predictedVsTrue, perfectLine });\n",
    "        chart2.WithXTitle(\"True Values\");\n",
    "        chart2.WithYTitle(\"Predicted Values\");\n",
    "        chart2.WithLegend(false);\n",
    "        chart2.Width = 600;\n",
    "        chart2.Height = 600;\n",
    "        display(chart2);\n",
    "    }\n",
    "}\n",
    "private static void Evaluate(MLContext mlContext, IDataView trainingDataView, IEstimator<ITransformer> trainingPipeline)\n",
    "{\n",
    "    // Cross-Validate with single dataset (since we don't have two datasets, one for training and for evaluate)\n",
    "    // in order to evaluate and get the model's accuracy metrics\n",
    "    ConsoleHelper.Print(\"=============== Cross-validating to get model's accuracy metrics ===============\");\n",
    "    var crossValidationResults = mlContext.Regression.CrossValidate(trainingDataView, trainingPipeline, numberOfFolds: 5, labelColumnName: \"ElementValue\");\n",
    "    PrintRegressionFoldsAverageMetrics(crossValidationResults);\n",
    "}\n",
    "public static void PrintRegressionFoldsAverageMetrics(IEnumerable<TrainCatalogBase.CrossValidationResult<RegressionMetrics>> crossValidationResults)\n",
    "{\n",
    "    var L1 = crossValidationResults.Select(r => r.Metrics.MeanAbsoluteError);\n",
    "    var L2 = crossValidationResults.Select(r => r.Metrics.MeanSquaredError);\n",
    "    var RMS = crossValidationResults.Select(r => r.Metrics.RootMeanSquaredError);\n",
    "    var lossFunction = crossValidationResults.Select(r => r.Metrics.LossFunction);\n",
    "    var R2 = crossValidationResults.Select(r => r.Metrics.RSquared);\n",
    "\n",
    "    ConsoleHelper.Print($\"*************************************************************************************************************\");\n",
    "    ConsoleHelper.Print($\"*       Metrics for Regression model      \");\n",
    "    ConsoleHelper.Print($\"*------------------------------------------------------------------------------------------------------------\");\n",
    "    ConsoleHelper.Print($\"*       Average L1 Loss:       {L1.Average():0.###} \");\n",
    "    ConsoleHelper.Print($\"*       Average L2 Loss:       {L2.Average():0.###}  \");\n",
    "    ConsoleHelper.Print($\"*       Average RMS:           {RMS.Average():0.###}  \");\n",
    "    ConsoleHelper.Print($\"*       Average Loss Function: {lossFunction.Average():0.###}  \");\n",
    "    ConsoleHelper.Print($\"*       Average R-squared:     {R2.Average():0.###}  \");\n",
    "    ConsoleHelper.Print($\"*************************************************************************************************************\");\n",
    "}\n",
    "public static void PrintRegressionMetrics(RegressionMetrics metrics)\n",
    "{\n",
    "    ConsoleHelper.Print($\"*************************************************\");\n",
    "    ConsoleHelper.Print($\"*       Metrics for regression model      \");\n",
    "    ConsoleHelper.Print($\"*------------------------------------------------\");\n",
    "    ConsoleHelper.Print($\"*       LossFn:        {metrics.LossFunction:0.##}\");\n",
    "    ConsoleHelper.Print($\"*       R2 Score:      {metrics.RSquared:0.##}\");\n",
    "    ConsoleHelper.Print($\"*       Absolute loss: {metrics.MeanAbsoluteError:#.##}\");\n",
    "    ConsoleHelper.Print($\"*       Squared loss:  {metrics.MeanSquaredError:#.##}\");\n",
    "    ConsoleHelper.Print($\"*       RMS loss:      {metrics.RootMeanSquaredError:#.##}\");\n",
    "    ConsoleHelper.Print($\"*************************************************\");\n",
    "}\n",
    "private static void SaveModel(MLContext mlContext, ITransformer mlModel, string modelRelativePath, DataViewSchema modelInputSchema)\n",
    "{\n",
    "    // Save/persist the trained model to a .ZIP file\n",
    "    ConsoleHelper.Print($\"=============== Saving the model  ===============\");\n",
    "    mlContext.Model.Save(mlModel, modelInputSchema, GetAbsolutePath(modelRelativePath));\n",
    "    ConsoleHelper.Print(\"The model is saved to {0}\", GetAbsolutePath(modelRelativePath));\n",
    "}\n",
    "\n",
    "public static string GetAbsolutePath(string relativePath)\n",
    "{\n",
    "    //FileInfo _dataRoot = new FileInfo(this.GetType().Assembly.Location);\n",
    "    string assemblyFolderPath = System.IO.Directory.GetCurrentDirectory();\n",
    "\n",
    "    string fullPath = Path.Combine(assemblyFolderPath, relativePath);\n",
    "\n",
    "    return fullPath;\n",
    "}\n",
    "static void PreProcessed(string TargetFolder, string PreProcessFolder)\n",
    "{\n",
    "    if (!Directory.Exists(PreProcessFolder)) Directory.CreateDirectory(PreProcessFolder);\n",
    "    var fileCsvs = Directory.GetFiles(TargetFolder, \"*.csv\");\n",
    "    foreach (var file in fileCsvs)\n",
    "    {\n",
    "        var dt = ConvertCSVtoDataTable(file);\n",
    "        //convert to absorbance\n",
    "        foreach (DataRow dr in dt.Rows)\n",
    "        {\n",
    "            for (int col = 1; col < dt.Columns.Count; col++)\n",
    "            {\n",
    "                dr[col] = Math.Log(1 / double.Parse(dr[col].ToString()));\n",
    "            }\n",
    "        }\n",
    "        dt.AcceptChanges();\n",
    "        //sav gol filter\n",
    "        SavitzkyGolayFilter filter = new SavitzkyGolayFilter(11, 2);\n",
    "        foreach (DataRow dr in dt.Rows)\n",
    "        {\n",
    "            List<double> rowDatas = new List<double>();\n",
    "            for (int col = 1; col < dt.Columns.Count; col++)\n",
    "            {\n",
    "                rowDatas.Add(double.Parse(dr[col].ToString()));\n",
    "            }\n",
    "            var filteredRow = filter.Process(rowDatas.ToArray());\n",
    "            for (int col = 1; col < dt.Columns.Count; col++)\n",
    "            {\n",
    "                dr[col] = filteredRow[col - 1];\n",
    "            }\n",
    "        }\n",
    "        dt.AcceptChanges();\n",
    "        //SNV\n",
    "        foreach (DataRow dr in dt.Rows)\n",
    "        {\n",
    "            List<double> rowDatas = new List<double>();\n",
    "            for (int col = 1; col < dt.Columns.Count; col++)\n",
    "            {\n",
    "                rowDatas.Add(double.Parse(dr[col].ToString()));\n",
    "            }\n",
    "            var mean = rowDatas.Average();\n",
    "            var stdDev = MathExt.StdDev(rowDatas);\n",
    "            for (int col = 1; col < dt.Columns.Count; col++)\n",
    "            {\n",
    "                dr[col] = (double.Parse(dr[col].ToString()) - mean) / stdDev;\n",
    "            }\n",
    "        }\n",
    "        dt.AcceptChanges();\n",
    "        //save to file\n",
    "        {\n",
    "            var col = 0;\n",
    "            StringBuilder sb = new StringBuilder();\n",
    "            //print column name\n",
    "\n",
    "            sb.Append(dt.Columns[col].ColumnName);\n",
    "            for (int x = 1; x < dt.Columns.Count; x++)\n",
    "            {\n",
    "                sb.Append(\",\" + dt.Columns[x].ColumnName);\n",
    "            }\n",
    "            sb.Append(Environment.NewLine);\n",
    "            //print data column\n",
    "            foreach (DataRow dr in dt.Rows)\n",
    "            {\n",
    "                sb.Append(dr[col].ToString());\n",
    "                for (int x = 1; x < dt.Columns.Count; x++)\n",
    "                {\n",
    "                    sb.Append(\",\" + dr[x].ToString());\n",
    "                }\n",
    "                sb.Append(Environment.NewLine);\n",
    "            }\n",
    "            var PathStr = PreProcessFolder + \"\\\\\" + dt.Columns[col].ColumnName + \".csv\";\n",
    "            File.WriteAllText(PathStr, sb.ToString());\n",
    "            ConsoleHelper.Print($\"{dt.Columns[col].ColumnName} - file generated.\");\n",
    "        }\n",
    "    }\n",
    "}\n",
    "static void SplitToMultipleCSV(string FileName, string TargetFolder)\n",
    "{\n",
    "    if (File.Exists(FileName))\n",
    "    {\n",
    "        var dt = ConvertCSVtoDataTable(FileName);\n",
    "        if (!Directory.Exists(TargetFolder)) Directory.CreateDirectory(TargetFolder);\n",
    "        var RemovedCols = new List<string>();\n",
    "        for (int col = 25; col < dt.Columns.Count; col++)\n",
    "        {\n",
    "            var ColName = double.Parse(dt.Columns[col].ColumnName);\n",
    "            if (!(1350 < ColName && ColName < 2510))\n",
    "            {\n",
    "                RemovedCols.Add(dt.Columns[col].ColumnName);\n",
    "            }\n",
    "        }\n",
    "        foreach (var str in RemovedCols)\n",
    "        {\n",
    "            dt.Columns.Remove(str);\n",
    "        }\n",
    "        dt.AcceptChanges();\n",
    "\n",
    "        for (int col = 4; col < 25; col++)\n",
    "        {\n",
    "            StringBuilder sb = new StringBuilder();\n",
    "            //print column name\n",
    "\n",
    "            sb.Append(dt.Columns[col].ColumnName);\n",
    "            for (int x = 25; x < dt.Columns.Count; x++)\n",
    "            {\n",
    "                sb.Append(\",\" + dt.Columns[x].ColumnName);\n",
    "            }\n",
    "            sb.Append(Environment.NewLine);\n",
    "            //print data column\n",
    "            foreach (DataRow dr in dt.Rows)\n",
    "            {\n",
    "                if (dr[col].ToString() == \"NA\") continue;\n",
    "                sb.Append(dr[col].ToString());\n",
    "                for (int x = 25; x < dt.Columns.Count; x++)\n",
    "                {\n",
    "                    sb.Append(\",\" + dr[x].ToString());\n",
    "                }\n",
    "                sb.Append(Environment.NewLine);\n",
    "            }\n",
    "            var PathStr = TargetFolder + \"\\\\\" + dt.Columns[col].ColumnName + \".csv\";\n",
    "            File.WriteAllText(PathStr, sb.ToString());\n",
    "            ConsoleHelper.Print($\"{ dt.Columns[col].ColumnName} csv generated\");\n",
    "        }\n",
    "\n",
    "\n",
    "    }\n",
    "}\n",
    "public static DataTable ConvertCSVtoDataTable(string strFilePath)\n",
    "{\n",
    "    StreamReader sr = new StreamReader(strFilePath);\n",
    "    string[] headers = sr.ReadLine().Split(',');\n",
    "    DataTable dt = new DataTable();\n",
    "    foreach (string header in headers)\n",
    "    {\n",
    "        dt.Columns.Add(header);\n",
    "    }\n",
    "    while (!sr.EndOfStream)\n",
    "    {\n",
    "        string[] rows = Regex.Split(sr.ReadLine(), \",(?=(?:[^\\\"]*\\\"[^\\\"]*\\\")*[^\\\"]*$)\");\n",
    "        DataRow dr = dt.NewRow();\n",
    "        for (int i = 0; i < headers.Length; i++)\n",
    "        {\n",
    "            dr[i] = rows[i];\n",
    "        }\n",
    "        dt.Rows.Add(dr);\n",
    "    }\n",
    "    return dt;\n",
    "}"
   ]
  },
  {
   "cell_type": "markdown",
   "metadata": {},
   "source": [
    "## Main Programs"
   ]
  },
  {
   "cell_type": "code",
   "execution_count": 6,
   "metadata": {},
   "outputs": [
    {
     "data": {
      "text/plain": [
       "c:\\jobs\\BalitTanah.SoilSensingv2\\BalitTanah.SoilSensingKit.Modelv2\\Notebook"
      ]
     },
     "metadata": {},
     "output_type": "display_data"
    }
   ],
   "source": [
    "string CurrentPath = System.IO.Directory.GetCurrentDirectory();\n",
    "display(CurrentPath);"
   ]
  },
  {
   "cell_type": "code",
   "execution_count": 8,
   "metadata": {},
   "outputs": [
    {
     "data": {
      "text/plain": [
       "Start AutoML"
      ]
     },
     "metadata": {},
     "output_type": "display_data"
    },
    {
     "data": {
      "text/plain": [
       "Do AutoML for Bray1_P2O5 in 60 secs"
      ]
     },
     "metadata": {},
     "output_type": "display_data"
    },
    {
     "data": {
      "text/plain": [
       "Best Trainer:FastTreeTweedieRegression"
      ]
     },
     "metadata": {},
     "output_type": "display_data"
    },
    {
     "data": {
      "text/plain": [
       "*************************************************"
      ]
     },
     "metadata": {},
     "output_type": "display_data"
    },
    {
     "data": {
      "text/plain": [
       "*       Metrics for regression model      "
      ]
     },
     "metadata": {},
     "output_type": "display_data"
    },
    {
     "data": {
      "text/plain": [
       "*------------------------------------------------"
      ]
     },
     "metadata": {},
     "output_type": "display_data"
    },
    {
     "data": {
      "text/plain": [
       "*       LossFn:        407.75"
      ]
     },
     "metadata": {},
     "output_type": "display_data"
    },
    {
     "data": {
      "text/plain": [
       "*       R2 Score:      0.04"
      ]
     },
     "metadata": {},
     "output_type": "display_data"
    },
    {
     "data": {
      "text/plain": [
       "*       Absolute loss: 8.42"
      ]
     },
     "metadata": {},
     "output_type": "display_data"
    },
    {
     "data": {
      "text/plain": [
       "*       Squared loss:  407.75"
      ]
     },
     "metadata": {},
     "output_type": "display_data"
    },
    {
     "data": {
      "text/plain": [
       "*       RMS loss:      20.19"
      ]
     },
     "metadata": {},
     "output_type": "display_data"
    },
    {
     "data": {
      "text/plain": [
       "*************************************************"
      ]
     },
     "metadata": {},
     "output_type": "display_data"
    },
    {
     "data": {
      "text/plain": [
       "=============== Saving the model  ==============="
      ]
     },
     "metadata": {},
     "output_type": "display_data"
    },
    {
     "data": {
      "text/plain": [
       "The model is saved to c:\\jobs\\BalitTanah.SoilSensingv2\\BalitTanah.SoilSensingKit.Modelv2\\Notebook\\..\\CSModel\\MLModels\\Bray1_P2O5.zip"
      ]
     },
     "metadata": {},
     "output_type": "display_data"
    },
    {
     "data": {
      "text/html": [
       "<div id=\"b59f4958-97cf-4e06-a10c-0500a44c6bff\" style=\"width: 900px; height: 500px;\"></div><script type=\"text/javascript\">\r\n",
       "\r\n",
       "var renderPlotly = function() {\r\n",
       "    var xplotRequire = requirejs.config({context:'xplot-2.0.0',paths:{plotly:'https://cdn.plot.ly/plotly-1.49.2.min'}});\r\n",
       "    xplotRequire(['plotly'], function(Plotly) {\r\n",
       "\n",
       "            var data = [{\"type\":\"scattergl\",\"x\":[4.292006,0.6466476,0.6201325999999999,0.8873067],\"y\":[7.294964776705887,6.754186071076636,12.245467607851152,11.672492399618223],\"mode\":\"markers\",\"marker\":{\"size\":12},\"name\":\"SdcaRegression\"},{\"type\":\"scattergl\",\"x\":[4.0536373],\"y\":[13.434583502033583],\"mode\":\"markers\",\"marker\":{\"size\":12},\"name\":\"LightGbmRegression\"},{\"type\":\"scattergl\",\"x\":[5.7928038],\"y\":[15.606020718359376],\"mode\":\"markers\",\"marker\":{\"size\":12},\"name\":\"FastTreeRegression\"},{\"type\":\"scattergl\",\"x\":[5.3665690999999995,7.9303424,6.7985367,28.2196234],\"y\":[19.28879574968897,8.417057549024557,21.163084446215162,5.902527973300121],\"mode\":\"markers\",\"marker\":{\"size\":12},\"name\":\"FastTreeTweedieRegression\"},{\"type\":\"scattergl\",\"x\":[4.6343857,2.3387037999999998,1.7131151],\"y\":[7.0886500917248805,8.818749979138374,12.94206193302359],\"mode\":\"markers\",\"marker\":{\"size\":12},\"name\":\"FastForestRegression\"},{\"type\":\"scattergl\",\"x\":[1.2441094],\"y\":[7.549494058904001],\"mode\":\"markers\",\"marker\":{\"size\":12},\"name\":\"LbfgsPoissonRegression\"},{\"type\":\"scattergl\",\"x\":[0.6686249],\"y\":[503430.0907390555],\"mode\":\"markers\",\"marker\":{\"size\":12},\"name\":\"OnlineGradientDescentRegression\"}];\n",
       "            var layout = {\"xaxis\":{\"title\":\"Training Time\",\"_isSubplotObj\":true},\"yaxis\":{\"title\":\"Error\",\"_isSubplotObj\":true}};\n",
       "            Plotly.newPlot('b59f4958-97cf-4e06-a10c-0500a44c6bff', data, layout);\n",
       "        });\r\n",
       "};\r\n",
       "if ((typeof(requirejs) !==  typeof(Function)) || (typeof(requirejs.config) !== typeof(Function))) { \r\n",
       "    var script = document.createElement(\"script\"); \r\n",
       "    script.setAttribute(\"src\", \"https://cdnjs.cloudflare.com/ajax/libs/require.js/2.3.6/require.min.js\"); \r\n",
       "    script.onload = function(){\r\n",
       "        renderPlotly();\r\n",
       "    };\r\n",
       "    document.getElementsByTagName(\"head\")[0].appendChild(script); \r\n",
       "}\r\n",
       "else {\r\n",
       "    renderPlotly();\r\n",
       "}\r\n",
       "</script>"
      ]
     },
     "metadata": {},
     "output_type": "display_data"
    },
    {
     "data": {
      "text/html": [
       "<div id=\"4a7aedd7-70bd-4670-8b04-86cdaf8f6886\" style=\"width: 600px; height: 600px;\"></div><script type=\"text/javascript\">\r\n",
       "\r\n",
       "var renderPlotly = function() {\r\n",
       "    var xplotRequire = requirejs.config({context:'xplot-2.0.0',paths:{plotly:'https://cdn.plot.ly/plotly-1.49.2.min'}});\r\n",
       "    xplotRequire(['plotly'], function(Plotly) {\r\n",
       "\n",
       "            var data = [{\"type\":\"scattergl\",\"x\":[1.2,1.8,5.9,3.7391539,3.1,2.6,4.3,1.8,1.1,6.1,3.1,3.6,1.7,51.02735,3.9,2.3,2.8,1.9,1.2,18.2,8.295436,10.1,3.6,0.8,1.2,1.4,1.9574225,7.466392,1.1380224,2.2,2.003684,1.9435046,1.6,1.8445307,1.6652976,0.7533321,7.994521,5.9,2.4070125,3.0,3.2,7.8,1.255124,0.8,96.08173,6.1453047,0.9,0.2,0.5,3.2,9.2,1.5,1.5,2.2,26.0,4.5,1.2,1.8,3.4,7.6,23.9,8.2,3.4,2.2,1.5,4.149329,0.9662097,7.6473637,1.8,1.3364695,2.864973,1.8,2.204707,4.2140727,3.2,9.1,4.3,4.7,2.5,6.1,5.9911814,4.383833,2.2691262,3.6353567,4.4059763,8.631896,3.9047055,3.4540074,103.66282,5.521711,2.5779638,2.4073763,2.9177313,4.8132906,5.153472,3.6673875,4.341986,4.610917,2.9820974,5.001939,1.6699917,12.754275,2.393182,4.2144685,10.096211,2.635334,2.785068,8.890962,10.823045,2.5782523,16.639389,3.321602,1.9685526,4.8917437,9.601694,3.5759366,4.5,3.9,2.1,3.2,2.8,2.5,2.8,8.3,7.1,7.7,44.3,4.327575,17.8633,2.5,4.2,6.018982,7.310159,7.788976,4.217749,4.23977,10.05518,5.936808,6.640671,15.5,2.824447,7.219275,4.292103,50.09765,6.5,0.9786483,9.621579,3.966749,7.525274,9.124839,9.314297,7.1,10.76163,6.722079,5.986008,11.7,3.81755,4.135377,30.49784,123.4642,5.923122,454.6,15.22616,2.057061,7.986496,3.127561,4.9,3.9,176.3744,25.38118,3.395581,2.040963,2.171898,16.89251,7.821024,57.07513,12.98933,3.2,9.969115,16.2,9.539338],\"y\":[5.2098575,2.44004,14.244796,15.559592,4.854713,5.458797,4.3005853,3.4651616,2.1466749,13.391612,10.035064,26.146841,2.6001081,22.762728,7.5499387,9.055948,9.844509,2.7117875,3.2673898,10.197529,20.751614,2.8437243,4.8706784,3.6186218,16.333885,4.516847,3.3082395,3.9786804,3.18868,3.1540601,1.8980466,1.8665812,1.8873873,10.7546,4.4918447,5.233133,12.274826,9.611198,13.6738,3.2926214,1.9301804,4.3936386,4.7157264,4.444628,14.874461,18.106241,3.0392823,15.001538,1.9773855,3.6556566,7.2237267,7.538855,13.2474375,5.0944505,5.189436,4.287745,14.765363,2.5187664,9.935208,17.167892,21.470844,10.038263,5.108805,2.9355617,16.292633,10.37321,2.9746015,7.9541287,4.9466414,3.177777,5.2743835,8.200764,3.5116,5.1586747,3.1822066,2.434511,17.435907,13.488554,2.5728092,2.4412298,5.8955793,2.438821,5.6713424,12.353025,5.4477854,6.308476,4.19357,5.334663,5.8733263,5.5856543,27.024963,3.900803,23.288301,4.228126,5.4178596,2.5570626,17.042343,17.286829,2.4137876,5.1353703,4.2377,12.745836,12.891256,3.8113632,9.694868,7.538855,9.262916,19.544043,6.4027247,6.283126,6.338138,6.512265,5.244267,4.4757514,3.102432,3.1791124,6.19213,14.244796,8.167812,17.942705,7.2237267,11.859209,14.879612,21.333868,13.8531,11.818147,8.345738,6.6722727,10.390695,4.054527,17.6135,5.8120728,6.337319,6.979965,14.847884,16.702261,22.148684,23.999777,13.913001,11.742896,11.973796,8.966155,6.5490074,17.86595,11.496075,16.494362,6.702683,2.8502808,10.500645,21.857565,5.994944,5.115311,13.312026,4.445757,17.28558,17.297695,17.747654,13.034284,13.367019,12.017121,3.7700508,17.058216,10.995992,2.8057404,18.784952,4.83344,6.590937,14.889651,6.2561917,16.494362,6.451726,9.979886,19.252476,14.90798,6.081656,4.474128,5.7922225,14.5088825,19.72098,33.807014,2.3701494],\"mode\":\"markers\"},{\"type\":\"scattergl\",\"x\":[0.0,454.6],\"y\":[0.0,454.6],\"mode\":\"lines\"}];\n",
       "            var layout = {\"showlegend\":false,\"xaxis\":{\"title\":\"True Values\",\"_isSubplotObj\":true},\"yaxis\":{\"title\":\"Predicted Values\",\"_isSubplotObj\":true}};\n",
       "            Plotly.newPlot('4a7aedd7-70bd-4670-8b04-86cdaf8f6886', data, layout);\n",
       "        });\r\n",
       "};\r\n",
       "if ((typeof(requirejs) !==  typeof(Function)) || (typeof(requirejs.config) !== typeof(Function))) { \r\n",
       "    var script = document.createElement(\"script\"); \r\n",
       "    script.setAttribute(\"src\", \"https://cdnjs.cloudflare.com/ajax/libs/require.js/2.3.6/require.min.js\"); \r\n",
       "    script.onload = function(){\r\n",
       "        renderPlotly();\r\n",
       "    };\r\n",
       "    document.getElementsByTagName(\"head\")[0].appendChild(script); \r\n",
       "}\r\n",
       "else {\r\n",
       "    renderPlotly();\r\n",
       "}\r\n",
       "</script>"
      ]
     },
     "metadata": {},
     "output_type": "display_data"
    },
    {
     "data": {
      "text/plain": [
       "Do AutoML for Ca in 60 secs"
      ]
     },
     "metadata": {},
     "output_type": "display_data"
    },
    {
     "data": {
      "text/plain": [
       "Best Trainer:LbfgsPoissonRegression"
      ]
     },
     "metadata": {},
     "output_type": "display_data"
    },
    {
     "data": {
      "text/plain": [
       "*************************************************"
      ]
     },
     "metadata": {},
     "output_type": "display_data"
    },
    {
     "data": {
      "text/plain": [
       "*       Metrics for regression model      "
      ]
     },
     "metadata": {},
     "output_type": "display_data"
    },
    {
     "data": {
      "text/plain": [
       "*------------------------------------------------"
      ]
     },
     "metadata": {},
     "output_type": "display_data"
    },
    {
     "data": {
      "text/plain": [
       "*       LossFn:        103.37"
      ]
     },
     "metadata": {},
     "output_type": "display_data"
    },
    {
     "data": {
      "text/plain": [
       "*       R2 Score:      0.65"
      ]
     },
     "metadata": {},
     "output_type": "display_data"
    },
    {
     "data": {
      "text/plain": [
       "*       Absolute loss: 6.09"
      ]
     },
     "metadata": {},
     "output_type": "display_data"
    },
    {
     "data": {
      "text/plain": [
       "*       Squared loss:  103.37"
      ]
     },
     "metadata": {},
     "output_type": "display_data"
    },
    {
     "data": {
      "text/plain": [
       "*       RMS loss:      10.17"
      ]
     },
     "metadata": {},
     "output_type": "display_data"
    },
    {
     "data": {
      "text/plain": [
       "*************************************************"
      ]
     },
     "metadata": {},
     "output_type": "display_data"
    },
    {
     "data": {
      "text/plain": [
       "=============== Saving the model  ==============="
      ]
     },
     "metadata": {},
     "output_type": "display_data"
    },
    {
     "data": {
      "text/plain": [
       "The model is saved to c:\\jobs\\BalitTanah.SoilSensingv2\\BalitTanah.SoilSensingKit.Modelv2\\Notebook\\..\\CSModel\\MLModels\\Ca.zip"
      ]
     },
     "metadata": {},
     "output_type": "display_data"
    },
    {
     "data": {
      "text/html": [
       "<div id=\"d12c2536-74b4-4650-bb21-9a0911fd83cd\" style=\"width: 900px; height: 500px;\"></div><script type=\"text/javascript\">\r\n",
       "\r\n",
       "var renderPlotly = function() {\r\n",
       "    var xplotRequire = requirejs.config({context:'xplot-2.0.0',paths:{plotly:'https://cdn.plot.ly/plotly-1.49.2.min'}});\r\n",
       "    xplotRequire(['plotly'], function(Plotly) {\r\n",
       "\n",
       "            var data = [{\"type\":\"scattergl\",\"x\":[3.6751568999999997],\"y\":[7.173667025744406],\"mode\":\"markers\",\"marker\":{\"size\":12},\"name\":\"SdcaRegression\"},{\"type\":\"scattergl\",\"x\":[6.878538,6.0533543,2.172583,6.3663874],\"y\":[5.992972827812498,6.0684832383332585,6.748240400168855,6.256457590722833],\"mode\":\"markers\",\"marker\":{\"size\":12},\"name\":\"LightGbmRegression\"},{\"type\":\"scattergl\",\"x\":[6.7495217,3.5818035,4.7994515,13.577520699999999],\"y\":[6.214814734787254,8.256142232076142,7.2001378039518995,6.2611562926637925],\"mode\":\"markers\",\"marker\":{\"size\":12},\"name\":\"FastTreeRegression\"},{\"type\":\"scattergl\",\"x\":[7.0529006999999995],\"y\":[5.893307100665772],\"mode\":\"markers\",\"marker\":{\"size\":12},\"name\":\"FastTreeTweedieRegression\"},{\"type\":\"scattergl\",\"x\":[5.7961336999999995],\"y\":[6.569663330797077],\"mode\":\"markers\",\"marker\":{\"size\":12},\"name\":\"FastForestRegression\"},{\"type\":\"scattergl\",\"x\":[1.5465071,0.9723259999999999,1.7089892],\"y\":[6.144223682329816,6.208774885257422,6.089841047964864],\"mode\":\"markers\",\"marker\":{\"size\":12},\"name\":\"LbfgsPoissonRegression\"},{\"type\":\"scattergl\",\"x\":[0.7723055],\"y\":[11560.292159346927],\"mode\":\"markers\",\"marker\":{\"size\":12},\"name\":\"OnlineGradientDescentRegression\"}];\n",
       "            var layout = {\"xaxis\":{\"title\":\"Training Time\",\"_isSubplotObj\":true},\"yaxis\":{\"title\":\"Error\",\"_isSubplotObj\":true}};\n",
       "            Plotly.newPlot('d12c2536-74b4-4650-bb21-9a0911fd83cd', data, layout);\n",
       "        });\r\n",
       "};\r\n",
       "if ((typeof(requirejs) !==  typeof(Function)) || (typeof(requirejs.config) !== typeof(Function))) { \r\n",
       "    var script = document.createElement(\"script\"); \r\n",
       "    script.setAttribute(\"src\", \"https://cdnjs.cloudflare.com/ajax/libs/require.js/2.3.6/require.min.js\"); \r\n",
       "    script.onload = function(){\r\n",
       "        renderPlotly();\r\n",
       "    };\r\n",
       "    document.getElementsByTagName(\"head\")[0].appendChild(script); \r\n",
       "}\r\n",
       "else {\r\n",
       "    renderPlotly();\r\n",
       "}\r\n",
       "</script>"
      ]
     },
     "metadata": {},
     "output_type": "display_data"
    },
    {
     "data": {
      "text/html": [
       "<div id=\"34540a6e-adc7-4f08-aa9a-dac1c321340a\" style=\"width: 600px; height: 600px;\"></div><script type=\"text/javascript\">\r\n",
       "\r\n",
       "var renderPlotly = function() {\r\n",
       "    var xplotRequire = requirejs.config({context:'xplot-2.0.0',paths:{plotly:'https://cdn.plot.ly/plotly-1.49.2.min'}});\r\n",
       "    xplotRequire(['plotly'], function(Plotly) {\r\n",
       "\n",
       "            var data = [{\"type\":\"scattergl\",\"x\":[13.91,7.68,13.19,23.12,6.71,1.81,0.25,0.27,0.31,14.62,40.77,1.54,17.71,17.03,3.98,5.97,2.94,4.05,1.79,6.28,9.64,11.28,0.76,0.68,15.32,60.6,49.95,18.08,2.21,4.32,53.91,1.73,2.22,8.75,6.74,2.38,10.85,10.57,10.81,3.13,11.99,4.67,1.87,1.58,2.04,1.85,1.81,0.91,3.06,6.93,2.38,1.69,1.66,22.62,21.27,1.76,6.26,16.7,3.54,3.59,3.27,2.2,1.85,5.55,1.69,0.42,0.21,2.18,12.63,6.78,4.72,4.81,5.33,20.7,6.34,2.25,14.49,14.49,16.46,8.64,11.86,4.98,10.27,9.74,4.5,12.27,3.85,5.85,6.15,5.62,6.75,4.9,19.93,31.65,35.78,38.24,20.48,30.74,22.65,47.6,11.61,8.23,11.3,17.69,2.53,14.17,20.75,24.51,48.15,10.62,7.05,9.56,9.89,14.72,29.05,31.64,18.73,1.54,0.54,0.4,3.79,6.9,7.44,32.99,46.65,4.67,8.89,7.75,7.29,41.96,65.55,9.35,7.86,12.0,11.96,7.99,10.99,9.72,4.39,4.47,0.25,0.13,3.17,2.65,18.1,34.99,8.26,2.67,45.21,47.45,14.27,11.66,12.76,21.93,0.58,0.67,0.2,0.26,7.3,1.96,1.94,0.34,0.36,0.3,6.86,2.24,0.62,0.4,11.17,1.49,3.29,2.52,3.86,3.65,3.21,2.67,6.05,2.93,4.63,25.73,11.88,46.22,58.01,7.17,8.33,8.27,10.11,16.41,10.7,43.26,45.77,7.92,37.54,0.56,0.55,2.35,6.16,21.91,8.63,7.3,14.11,51.46,59.1,62.54,34.09,38.97,44.95,41.88,42.53,30.15,61.79,59.22,10.82,14.99,19.79,39.77,5.39,4.29,54.14,77.44,28.06,21.44,6.1,3.86,33.99,36.35,33.09,37.66,1.69,27.76,28.91,24.08,22.7,17.6,3.95,19.41,21.9,11.29,2.91,1.82,13.64,8.68,13.13,10.07,17.1,4.57,41.84,16.37,18.85,22.73,67.7,23.54,16.87,17.29,12.54,7.05,22.6,4.4,7.47,7.38,2.35,8.21,3.82,10.28,25.24,5.24,11.49,13.59,1.4,1.66,1.06,0.66,2.16,10.8,8.22,27.46,25.49,60.49,40.44,47.0,6.66,3.89,20.07,5.75,7.02,6.41,2.87,1.5,2.82,1.69,1.9,0.56,4.07,17.04,19.26,17.32,16.41,25.43,23.67,3.29,3.42,4.25,4.89,5.74,6.09,1.83,2.97,10.65,4.44,5.55,18.48,25.76,7.87,11.69,8.88,6.51,11.08,17.36,12.7,35.16,22.48,6.45,45.37,7.38,20.04,7.02,71.51,28.88,35.75,10.3,20.91,11.53,38.27,1.62,32.1,6.77,19.28,29.12,39.21,3.17,0.78,8.53,26.06,31.18,10.41,34.14,34.49,27.78,39.83,33.78,5.78,26.68,4.34,3.7,4.5,7.06,1.95,2.1,1.43,15.35,0.34,7.08,1.85,2.65,17.45,21.71,28.64,22.63,7.3,3.95,7.74,7.12,3.34,2.82,8.48,8.04,10.29,53.97,67.74,4.22,11.7,26.32,27.62,25.11,27.38,11.2,8.68,0.72,5.61,45.36,19.65,67.15,27.23,8.91,1.07,6.03,1.29,0.95,1.65,2.22,2.73],\"y\":[19.030056,34.351425,31.22547,23.601027,13.798348,4.6536303,3.6539884,8.451928,9.947643,12.349577,5.715548,26.168314,13.346233,15.770627,5.7627707,5.1672587,6.0955267,7.2735987,5.687406,7.311648,9.6230345,10.328732,3.6474679,4.3038206,13.514164,37.286377,35.73985,15.67441,11.4261,4.847895,31.320505,4.4211874,10.234606,10.246007,12.539252,4.781331,12.398751,10.11521,8.757196,4.6298327,17.271103,8.606784,11.983044,3.6331744,4.8343644,6.109882,6.208819,7.6334314,6.823185,16.649494,4.3114758,12.071889,13.4112215,10.939648,14.458343,5.4307127,4.9644074,26.146997,9.151486,7.6302853,4.122164,6.576465,6.6752954,12.742694,1.7214907,2.035669,6.4011397,6.5952616,23.634523,10.790529,5.874864,13.513126,10.411955,17.354076,11.155546,10.580101,36.75244,31.163458,27.138779,14.379347,26.196428,9.550994,12.933125,8.065718,8.588183,19.172361,11.143424,10.10978,13.772131,16.100864,12.087084,9.297649,15.439426,38.850685,25.359959,31.969543,28.374853,30.532896,25.737648,58.37306,1.652357,4.95325,13.391794,20.543142,8.075811,13.882798,35.672478,31.287592,45.074673,8.356201,5.3713126,8.443665,7.7863927,19.622643,22.092196,23.29953,28.379902,10.165109,18.945803,15.88846,10.000758,21.628508,6.200054,17.560848,35.1171,10.064795,9.85667,10.191397,9.49184,23.4809,42.043655,7.557443,8.94269,15.796818,15.29822,9.6538925,12.165343,8.394973,12.916278,8.632443,4.710688,9.084972,8.458214,6.1064863,41.86453,26.32709,4.8826914,11.209786,39.734715,40.571712,22.862913,23.979685,10.250748,28.876842,11.929836,12.375287,5.503301,2.8546994,17.592382,18.557846,5.017632,0.8975995,1.2825562,1.6837717,10.787406,4.3024306,4.0980334,3.947415,3.9867482,2.5069177,2.3004072,2.2880507,8.770896,9.096828,5.544878,3.1328309,6.648769,6.4888906,10.877266,38.751514,33.366795,32.095036,33.294575,9.198706,12.156045,10.897434,10.02053,19.201094,12.910109,36.718845,38.868362,8.18975,39.14798,1.3965805,3.9738736,3.8113246,4.5693088,21.682028,28.771381,25.992071,7.39933,58.05974,37.33943,54.78571,38.096355,36.24469,33.647694,36.84811,29.54598,14.915475,53.08112,55.040565,12.633474,34.454807,20.158117,48.53671,17.764313,16.816565,48.862206,56.24826,59.052975,16.443031,7.7890887,6.671252,27.596737,29.916405,27.732927,36.148537,13.47612,17.952217,18.536453,13.363529,19.989065,42.64155,4.7915545,30.123566,31.492876,13.098052,8.226442,3.1559858,9.32283,13.645773,17.95807,12.96196,28.657955,7.65687,34.69207,23.62814,31.351809,13.631989,39.783703,10.130883,12.954446,18.452763,11.342859,21.917393,19.005291,3.5824046,4.677554,5.0491824,5.673702,4.985724,9.540941,6.3898745,10.6253395,8.162974,8.910643,7.3508525,1.5909128,3.0791712,2.3212228,4.725843,9.892413,6.9038258,6.9000683,25.816813,20.743902,22.893122,12.424538,29.92435,4.0998363,8.0409,6.8749447,7.634196,5.8806243,6.5490613,2.7564013,3.4700036,3.9661891,2.9482205,2.587418,3.12208,3.873615,74.97279,27.264225,24.113157,18.857103,27.35422,25.801533,5.659833,3.176508,16.52203,4.7919216,6.4250665,5.532809,5.1835666,3.1605587,17.885235,4.6788707,6.0480638,17.632685,13.525472,6.8012342,5.8600225,11.625321,9.153014,9.1509495,17.842686,9.64097,46.98636,10.585076,4.514615,9.412999,11.425103,24.756075,6.900751,64.3447,38.120197,30.980211,10.154862,21.17927,13.592518,36.70848,2.0066605,47.20347,8.735121,22.313305,40.92193,24.924086,4.6515017,1.3337679,2.0663886,32.6856,25.163626,7.7340074,45.319458,35.568153,27.923689,61.71477,19.83671,5.017396,11.459441,3.6341512,3.9780724,3.078143,10.985114,2.5668259,2.816014,2.0394485,3.3341517,3.0038857,12.889631,2.9105334,1.7142873,47.534645,39.088963,27.925726,24.971836,8.291076,2.250222,6.0797167,6.6287766,3.5165458,12.060963,8.507862,4.901331,7.089632,30.885134,34.49671,3.6687891,10.591531,20.781364,16.93491,18.722565,19.323303,4.08789,15.461879,6.1376266,6.9398913,59.412186,19.497679,38.07064,25.211462,32.293728,2.8519874,7.6803513,2.4832606,2.1882446,2.0811203,6.4659476,6.9225035],\"mode\":\"markers\"},{\"type\":\"scattergl\",\"x\":[0.0,77.44],\"y\":[0.0,77.44],\"mode\":\"lines\"}];\n",
       "            var layout = {\"showlegend\":false,\"xaxis\":{\"title\":\"True Values\",\"_isSubplotObj\":true},\"yaxis\":{\"title\":\"Predicted Values\",\"_isSubplotObj\":true}};\n",
       "            Plotly.newPlot('34540a6e-adc7-4f08-aa9a-dac1c321340a', data, layout);\n",
       "        });\r\n",
       "};\r\n",
       "if ((typeof(requirejs) !==  typeof(Function)) || (typeof(requirejs.config) !== typeof(Function))) { \r\n",
       "    var script = document.createElement(\"script\"); \r\n",
       "    script.setAttribute(\"src\", \"https://cdnjs.cloudflare.com/ajax/libs/require.js/2.3.6/require.min.js\"); \r\n",
       "    script.onload = function(){\r\n",
       "        renderPlotly();\r\n",
       "    };\r\n",
       "    document.getElementsByTagName(\"head\")[0].appendChild(script); \r\n",
       "}\r\n",
       "else {\r\n",
       "    renderPlotly();\r\n",
       "}\r\n",
       "</script>"
      ]
     },
     "metadata": {},
     "output_type": "display_data"
    },
    {
     "data": {
      "text/plain": [
       "Do AutoML for CLAY in 60 secs"
      ]
     },
     "metadata": {},
     "output_type": "display_data"
    },
    {
     "data": {
      "text/plain": [
       "Best Trainer:LbfgsPoissonRegression"
      ]
     },
     "metadata": {},
     "output_type": "display_data"
    },
    {
     "data": {
      "text/plain": [
       "*************************************************"
      ]
     },
     "metadata": {},
     "output_type": "display_data"
    },
    {
     "data": {
      "text/plain": [
       "*       Metrics for regression model      "
      ]
     },
     "metadata": {},
     "output_type": "display_data"
    },
    {
     "data": {
      "text/plain": [
       "*------------------------------------------------"
      ]
     },
     "metadata": {},
     "output_type": "display_data"
    },
    {
     "data": {
      "text/plain": [
       "*       LossFn:        243.57"
      ]
     },
     "metadata": {},
     "output_type": "display_data"
    },
    {
     "data": {
      "text/plain": [
       "*       R2 Score:      0.46"
      ]
     },
     "metadata": {},
     "output_type": "display_data"
    },
    {
     "data": {
      "text/plain": [
       "*       Absolute loss: 12.8"
      ]
     },
     "metadata": {},
     "output_type": "display_data"
    },
    {
     "data": {
      "text/plain": [
       "*       Squared loss:  243.57"
      ]
     },
     "metadata": {},
     "output_type": "display_data"
    },
    {
     "data": {
      "text/plain": [
       "*       RMS loss:      15.61"
      ]
     },
     "metadata": {},
     "output_type": "display_data"
    },
    {
     "data": {
      "text/plain": [
       "*************************************************"
      ]
     },
     "metadata": {},
     "output_type": "display_data"
    },
    {
     "data": {
      "text/plain": [
       "=============== Saving the model  ==============="
      ]
     },
     "metadata": {},
     "output_type": "display_data"
    },
    {
     "data": {
      "text/plain": [
       "The model is saved to c:\\jobs\\BalitTanah.SoilSensingv2\\BalitTanah.SoilSensingKit.Modelv2\\Notebook\\..\\CSModel\\MLModels\\CLAY.zip"
      ]
     },
     "metadata": {},
     "output_type": "display_data"
    },
    {
     "data": {
      "text/html": [
       "<div id=\"fcd104b9-8e94-4352-9919-f7216d091efc\" style=\"width: 900px; height: 500px;\"></div><script type=\"text/javascript\">\r\n",
       "\r\n",
       "var renderPlotly = function() {\r\n",
       "    var xplotRequire = requirejs.config({context:'xplot-2.0.0',paths:{plotly:'https://cdn.plot.ly/plotly-1.49.2.min'}});\r\n",
       "    xplotRequire(['plotly'], function(Plotly) {\r\n",
       "\n",
       "            var data = [{\"type\":\"scattergl\",\"x\":[4.6903524999999995],\"y\":[12.953848628674523],\"mode\":\"markers\",\"marker\":{\"size\":12},\"name\":\"SdcaRegression\"},{\"type\":\"scattergl\",\"x\":[5.680143],\"y\":[12.816041776689433],\"mode\":\"markers\",\"marker\":{\"size\":12},\"name\":\"LightGbmRegression\"},{\"type\":\"scattergl\",\"x\":[6.9299029,4.5280149,2.7391763],\"y\":[11.924204794027037,12.772758841514587,14.674018229468395],\"mode\":\"markers\",\"marker\":{\"size\":12},\"name\":\"FastTreeRegression\"},{\"type\":\"scattergl\",\"x\":[6.6689649,3.8555905,19.421037],\"y\":[12.328623084698693,12.342764268155959,12.466308755534035],\"mode\":\"markers\",\"marker\":{\"size\":12},\"name\":\"FastTreeTweedieRegression\"},{\"type\":\"scattergl\",\"x\":[6.2293354999999995],\"y\":[12.74806547164917],\"mode\":\"markers\",\"marker\":{\"size\":12},\"name\":\"FastForestRegression\"},{\"type\":\"scattergl\",\"x\":[1.6290923,0.9170997],\"y\":[12.795501712272907,12.614611337924826],\"mode\":\"markers\",\"marker\":{\"size\":12},\"name\":\"LbfgsPoissonRegression\"},{\"type\":\"scattergl\",\"x\":[0.7431603999999999],\"y\":[152848.23405172414],\"mode\":\"markers\",\"marker\":{\"size\":12},\"name\":\"OnlineGradientDescentRegression\"}];\n",
       "            var layout = {\"xaxis\":{\"title\":\"Training Time\",\"_isSubplotObj\":true},\"yaxis\":{\"title\":\"Error\",\"_isSubplotObj\":true}};\n",
       "            Plotly.newPlot('fcd104b9-8e94-4352-9919-f7216d091efc', data, layout);\n",
       "        });\r\n",
       "};\r\n",
       "if ((typeof(requirejs) !==  typeof(Function)) || (typeof(requirejs.config) !== typeof(Function))) { \r\n",
       "    var script = document.createElement(\"script\"); \r\n",
       "    script.setAttribute(\"src\", \"https://cdnjs.cloudflare.com/ajax/libs/require.js/2.3.6/require.min.js\"); \r\n",
       "    script.onload = function(){\r\n",
       "        renderPlotly();\r\n",
       "    };\r\n",
       "    document.getElementsByTagName(\"head\")[0].appendChild(script); \r\n",
       "}\r\n",
       "else {\r\n",
       "    renderPlotly();\r\n",
       "}\r\n",
       "</script>"
      ]
     },
     "metadata": {},
     "output_type": "display_data"
    },
    {
     "data": {
      "text/html": [
       "<div id=\"35f1ee87-5ed1-495c-810a-2664db0d911b\" style=\"width: 600px; height: 600px;\"></div><script type=\"text/javascript\">\r\n",
       "\r\n",
       "var renderPlotly = function() {\r\n",
       "    var xplotRequire = requirejs.config({context:'xplot-2.0.0',paths:{plotly:'https://cdn.plot.ly/plotly-1.49.2.min'}});\r\n",
       "    xplotRequire(['plotly'], function(Plotly) {\r\n",
       "\n",
       "            var data = [{\"type\":\"scattergl\",\"x\":[30.0,30.0,65.0,78.0,42.0,76.0,31.0,36.0,33.0,38.0,41.0,11.0,49.0,40.0,36.0,37.0,32.0,37.0,43.0,42.0,45.0,27.0,48.0,44.0,28.0,50.0,48.0,37.0,65.0,30.0,70.0,45.0,41.0,57.0,57.0,85.0,30.0,33.0,39.0,54.0,32.0,8.0,51.0,54.0,49.0,43.0,74.0,72.0,74.0,56.0,74.0,51.0,52.0,63.0,60.0,76.0,92.0,74.0,72.0,68.0,41.0,30.0,28.0,34.0,29.0,16.0,35.0,47.0,23.0,65.0,61.0,66.0,56.0,38.0,65.0,27.0,44.0,44.0,40.0,40.0,52.0,54.0,63.0,48.0,80.0,53.0,95.0,28.0,34.0,32.0,30.0,44.0,48.0,64.0,48.0,55.0,45.0,45.0,62.0,78.0,32.0,38.0,27.0,18.0,8.0,16.0,12.0,11.0,85.0,25.0,49.0,52.0,40.0,33.0,49.0,59.0,45.0,36.0,29.0,39.0,50.0,78.0,78.0,69.0,68.0,42.0,72.0,73.0,78.0,40.0,36.0,78.0,73.0,64.0,65.0,58.0,70.0,63.0,85.0,82.0,20.0,4.0,17.0,32.0,31.0,40.0,11.0,18.0,69.0,68.0,38.0,43.0,42.0,49.0,16.0,29.0,65.0,35.0,66.0,42.0,60.0,5.0,4.0,8.0,43.0,33.0,42.0,36.0,49.0,21.0,41.0,23.0,57.0,63.0,28.0,12.0,13.0,17.0,35.0,55.0,6.0,55.0,56.0,85.0,92.0,81.0,81.0,44.0,43.0,71.0,60.0,60.0,59.0,31.0,16.0,19.0,33.0,37.0,43.0,40.0,27.0,32.0,27.0,28.0,44.0,37.0,41.0,35.0,38.0,47.0,42.0,42.0,35.0,39.0,31.0,29.0,29.0,29.0,70.0,67.0,38.0,48.0,41.0,27.0,33.0,38.0,32.0,26.0,20.0,27.0,20.0,24.0,33.0,29.0,34.0,48.0,48.0,20.0,30.0,16.0,22.0,29.0,41.0,29.0,52.0,14.0,64.0,43.0,29.0,69.0,74.0,56.0,31.0,53.0,27.0,51.0,43.0,11.0,47.0,15.0,16.0,32.0,24.0,46.0,27.0,27.0,49.0,12.0,22.0,19.0,23.0,47.0,37.0,55.0,81.0,61.0,27.0,75.0,70.0,59.0,29.0,22.0,41.0,30.0,21.0,45.0,49.0,25.0,35.0,50.0,42.0,36.0,36.0,48.0,45.0,31.0,40.0,49.0,52.0,25.0,17.0,26.0,21.0,47.0,31.0,12.0,15.0,15.0,22.0,35.0,44.0,34.0,28.0,54.0,48.0,30.0,42.0,26.0,56.0,43.0,68.0,68.0,20.0,38.0,51.0,15.0,38.0,30.0,34.0,35.0,56.0,36.0,41.0,34.0,57.0,34.0,20.0,24.0,66.0,16.0,20.0,16.0,41.0,21.0,28.0,69.0,53.0,43.0,53.0,27.0,20.0,30.0,81.0,20.0,6.0,23.0,35.0,69.0,36.0,52.0,36.0,23.0,17.7,9.1,36.0,30.0,73.0,66.0,7.0,12.0,24.0,26.0,30.0,9.0,60.0,31.0,31.0,26.0,29.0,10.0,20.0,19.0,43.0,26.0,22.0,24.0,42.0,26.0,22.0,73.0,36.0,63.0,51.0,39.0,29.0,64.0,20.0,38.0,42.0,31.0,50.0],\"y\":[30.94643,54.0216,64.42026,60.825573,48.44911,68.409195,20.948456,34.54207,39.717674,42.38516,57.226746,42.91704,38.435997,39.83036,56.02881,40.6018,46.229534,44.62595,61.916092,59.732494,66.67916,43.145283,24.319506,30.684366,47.812626,54.502712,57.660484,49.019463,58.610302,50.937065,62.81072,37.422592,36.789387,45.69796,53.453022,70.82003,30.146765,49.574543,52.13849,52.876293,40.75042,16.579931,40.958603,53.85626,46.891033,46.13779,54.19609,56.652348,58.641357,49.28159,54.950905,38.44661,48.643475,44.792812,52.454227,53.32461,45.971386,61.48317,62.201595,56.6818,38.170315,48.442017,48.468967,43.67979,30.871565,15.677224,42.270214,49.154354,19.898602,42.201416,41.945286,47.171303,55.253353,45.96595,57.595333,38.38661,38.207047,38.00606,44.48032,35.483295,40.671974,47.54887,53.93743,46.094307,55.990246,47.8057,65.61436,31.804146,36.42237,40.28639,37.583523,42.30261,44.27891,47.396908,40.269142,50.409184,51.527237,52.350216,54.785763,54.598255,11.920588,17.047512,28.932842,32.49883,19.750143,31.34157,49.49912,42.14556,54.799324,44.680054,47.012333,50.621265,51.962902,41.028423,55.56054,56.50701,53.275547,27.611893,41.82584,48.666466,31.16134,41.994606,60.259945,58.61016,58.123974,51.98714,62.30546,64.48376,65.54534,41.256527,40.91481,61.63331,59.656494,51.011967,54.602993,50.577736,51.712753,52.706078,58.53179,51.12647,37.823128,45.878613,27.746008,35.63407,39.43027,38.00112,14.107143,22.759169,35.023075,57.5763,36.091053,49.01517,41.942326,35.945076,28.229864,36.342438,40.530113,42.061092,55.896587,48.411648,52.81777,24.301258,33.260895,30.703722,54.504326,43.82539,38.92376,38.42874,45.95967,36.088963,42.522198,37.928013,56.044975,56.376694,41.939816,30.425768,32.458168,15.869356,41.208237,39.086437,34.863766,51.12599,50.56134,64.089294,66.40578,62.31975,66.405365,46.649982,50.007217,55.95379,52.78155,47.71574,51.81148,38.198048,36.622025,20.197723,9.469029,46.94588,50.69297,48.89915,17.989763,61.82101,57.95963,61.45576,48.86887,50.513084,48.560566,52.52055,62.429592,57.99817,57.87032,56.802475,47.434113,47.251774,45.76438,60.931614,38.176487,38.060696,57.81626,62.291203,57.82594,42.77699,48.990055,22.002043,42.932854,40.745018,42.07332,48.09,50.709095,35.07603,24.425413,34.537266,39.570736,50.773174,45.384884,53.1362,49.222748,33.954426,48.71722,19.958483,37.95136,37.022507,39.73031,46.222736,42.105427,32.34272,55.178764,52.41726,32.794914,52.044014,51.65947,44.06776,33.121952,49.14764,29.154537,40.502502,40.752625,16.941502,36.138084,12.122137,19.74777,15.688722,24.4483,35.085346,32.765717,40.629192,39.12763,16.549706,29.336777,24.8972,34.717373,46.18462,44.80405,53.739727,58.233944,53.69311,52.77088,48.825268,50.566113,49.593254,35.314457,40.763847,19.960714,33.592464,33.157166,31.521881,51.997528,45.00542,36.957138,51.69296,52.921005,45.807175,45.905342,74.312386,43.991474,47.63055,39.464252,28.342264,41.435055,40.220245,20.856455,25.773092,17.087471,38.027042,16.757889,22.486546,20.194141,33.867447,21.292185,42.832687,25.771303,34.604187,44.396175,55.925594,42.66164,28.007587,53.56977,34.665417,40.930264,46.165443,49.171738,51.448254,30.321459,47.507088,41.27072,16.87785,55.995132,34.21883,40.632446,45.708412,39.43265,47.890583,46.115677,37.42735,54.202305,64.97089,38.508957,44.671127,55.479156,45.99328,11.875997,19.000534,40.35826,21.192493,29.144127,59.267086,52.678764,41.376495,54.400127,39.88698,22.45158,19.634127,64.07646,22.026249,9.07482,42.274014,31.699049,39.274994,39.28402,28.133842,59.21302,31.468237,22.545317,23.120405,41.962208,40.91352,52.899837,52.654842,20.737078,9.474786,29.428293,56.984615,54.880466,22.501589,67.0926,41.888332,45.838585,42.525574,45.085724,28.897326,27.41599,39.820904,44.98341,30.757889,39.560566,13.208444,45.493664,34.833134,37.12127,60.29826,50.13789,53.26695,43.69779,44.801357,39.477814,51.77334,40.79855,37.713387,43.12091,40.39805,45.95223],\"mode\":\"markers\"},{\"type\":\"scattergl\",\"x\":[0.0,95.0],\"y\":[0.0,95.0],\"mode\":\"lines\"}];\n",
       "            var layout = {\"showlegend\":false,\"xaxis\":{\"title\":\"True Values\",\"_isSubplotObj\":true},\"yaxis\":{\"title\":\"Predicted Values\",\"_isSubplotObj\":true}};\n",
       "            Plotly.newPlot('35f1ee87-5ed1-495c-810a-2664db0d911b', data, layout);\n",
       "        });\r\n",
       "};\r\n",
       "if ((typeof(requirejs) !==  typeof(Function)) || (typeof(requirejs.config) !== typeof(Function))) { \r\n",
       "    var script = document.createElement(\"script\"); \r\n",
       "    script.setAttribute(\"src\", \"https://cdnjs.cloudflare.com/ajax/libs/require.js/2.3.6/require.min.js\"); \r\n",
       "    script.onload = function(){\r\n",
       "        renderPlotly();\r\n",
       "    };\r\n",
       "    document.getElementsByTagName(\"head\")[0].appendChild(script); \r\n",
       "}\r\n",
       "else {\r\n",
       "    renderPlotly();\r\n",
       "}\r\n",
       "</script>"
      ]
     },
     "metadata": {},
     "output_type": "display_data"
    },
    {
     "data": {
      "text/plain": [
       "Do AutoML for C_N in 60 secs"
      ]
     },
     "metadata": {},
     "output_type": "display_data"
    },
    {
     "data": {
      "text/plain": [
       "Best Trainer:SdcaRegression"
      ]
     },
     "metadata": {},
     "output_type": "display_data"
    },
    {
     "data": {
      "text/plain": [
       "*************************************************"
      ]
     },
     "metadata": {},
     "output_type": "display_data"
    },
    {
     "data": {
      "text/plain": [
       "*       Metrics for regression model      "
      ]
     },
     "metadata": {},
     "output_type": "display_data"
    },
    {
     "data": {
      "text/plain": [
       "*------------------------------------------------"
      ]
     },
     "metadata": {},
     "output_type": "display_data"
    },
    {
     "data": {
      "text/plain": [
       "*       LossFn:        10.69"
      ]
     },
     "metadata": {},
     "output_type": "display_data"
    },
    {
     "data": {
      "text/plain": [
       "*       R2 Score:      0.17"
      ]
     },
     "metadata": {},
     "output_type": "display_data"
    },
    {
     "data": {
      "text/plain": [
       "*       Absolute loss: 2.13"
      ]
     },
     "metadata": {},
     "output_type": "display_data"
    },
    {
     "data": {
      "text/plain": [
       "*       Squared loss:  10.69"
      ]
     },
     "metadata": {},
     "output_type": "display_data"
    },
    {
     "data": {
      "text/plain": [
       "*       RMS loss:      3.27"
      ]
     },
     "metadata": {},
     "output_type": "display_data"
    },
    {
     "data": {
      "text/plain": [
       "*************************************************"
      ]
     },
     "metadata": {},
     "output_type": "display_data"
    },
    {
     "data": {
      "text/plain": [
       "=============== Saving the model  ==============="
      ]
     },
     "metadata": {},
     "output_type": "display_data"
    },
    {
     "data": {
      "text/plain": [
       "The model is saved to c:\\jobs\\BalitTanah.SoilSensingv2\\BalitTanah.SoilSensingKit.Modelv2\\Notebook\\..\\CSModel\\MLModels\\C_N.zip"
      ]
     },
     "metadata": {},
     "output_type": "display_data"
    },
    {
     "data": {
      "text/html": [
       "<div id=\"e145cee6-4b8f-4c36-9e85-be37c78e53cf\" style=\"width: 900px; height: 500px;\"></div><script type=\"text/javascript\">\r\n",
       "\r\n",
       "var renderPlotly = function() {\r\n",
       "    var xplotRequire = requirejs.config({context:'xplot-2.0.0',paths:{plotly:'https://cdn.plot.ly/plotly-1.49.2.min'}});\r\n",
       "    xplotRequire(['plotly'], function(Plotly) {\r\n",
       "\n",
       "            var data = [{\"type\":\"scattergl\",\"x\":[4.239241,0.844619,0.8666189],\"y\":[2.1253770106547587,2.1102861307435115,2.698851459710173],\"mode\":\"markers\",\"marker\":{\"size\":12},\"name\":\"SdcaRegression\"},{\"type\":\"scattergl\",\"x\":[5.35511],\"y\":[2.4933825816426958],\"mode\":\"markers\",\"marker\":{\"size\":12},\"name\":\"LightGbmRegression\"},{\"type\":\"scattergl\",\"x\":[7.0488731],\"y\":[2.295183955012141],\"mode\":\"markers\",\"marker\":{\"size\":12},\"name\":\"FastTreeRegression\"},{\"type\":\"scattergl\",\"x\":[6.8336345],\"y\":[2.381937598359996],\"mode\":\"markers\",\"marker\":{\"size\":12},\"name\":\"FastTreeTweedieRegression\"},{\"type\":\"scattergl\",\"x\":[6.4186298,9.143389299999999,30.1182898],\"y\":[1.703185666840652,2.2893207443171533,2.379402649604668],\"mode\":\"markers\",\"marker\":{\"size\":12},\"name\":\"FastForestRegression\"},{\"type\":\"scattergl\",\"x\":[1.1525618,1.5088176],\"y\":[2.130664791072811,2.1646938925390846],\"mode\":\"markers\",\"marker\":{\"size\":12},\"name\":\"LbfgsPoissonRegression\"},{\"type\":\"scattergl\",\"x\":[0.7474347],\"y\":[14661.097419723135],\"mode\":\"markers\",\"marker\":{\"size\":12},\"name\":\"OnlineGradientDescentRegression\"}];\n",
       "            var layout = {\"xaxis\":{\"title\":\"Training Time\",\"_isSubplotObj\":true},\"yaxis\":{\"title\":\"Error\",\"_isSubplotObj\":true}};\n",
       "            Plotly.newPlot('e145cee6-4b8f-4c36-9e85-be37c78e53cf', data, layout);\n",
       "        });\r\n",
       "};\r\n",
       "if ((typeof(requirejs) !==  typeof(Function)) || (typeof(requirejs.config) !== typeof(Function))) { \r\n",
       "    var script = document.createElement(\"script\"); \r\n",
       "    script.setAttribute(\"src\", \"https://cdnjs.cloudflare.com/ajax/libs/require.js/2.3.6/require.min.js\"); \r\n",
       "    script.onload = function(){\r\n",
       "        renderPlotly();\r\n",
       "    };\r\n",
       "    document.getElementsByTagName(\"head\")[0].appendChild(script); \r\n",
       "}\r\n",
       "else {\r\n",
       "    renderPlotly();\r\n",
       "}\r\n",
       "</script>"
      ]
     },
     "metadata": {},
     "output_type": "display_data"
    },
    {
     "data": {
      "text/html": [
       "<div id=\"1b4d8ee3-ab69-42cc-b8ba-71e6ccae29d2\" style=\"width: 600px; height: 600px;\"></div><script type=\"text/javascript\">\r\n",
       "\r\n",
       "var renderPlotly = function() {\r\n",
       "    var xplotRequire = requirejs.config({context:'xplot-2.0.0',paths:{plotly:'https://cdn.plot.ly/plotly-1.49.2.min'}});\r\n",
       "    xplotRequire(['plotly'], function(Plotly) {\r\n",
       "\n",
       "            var data = [{\"type\":\"scattergl\",\"x\":[14.333333,10.6470585,8.6,11.333333,10.5,9.4,10.229167,11.848485,11.32,7.5,8.75,11.0,10.888889,10.230769,14.0,9.0,9.0,15.0,9.0,13.0,10.0,13.0,25.0,14.0,13.0,11.0,9.0,11.0,15.0,10.0,9.0,12.0,10.631579,12.9,8.333333,9.333333,13.0,17.25,17.8,18.666666,13.5,14.0,11.0,13.0,16.333334,14.5,12.0,11.8,13.083333,10.272727,10.777778,10.714286,9.142858,11.857142,8.909091,10.090909,11.8,10.272727,11.5,11.5,13.833333,13.666667,11.0,11.571428,14.909091,12.818182,19.222221,9.222222,12.333333,9.9,13.75,10.1,9.4,9.681818,8.571428,13.518518,10.75,10.75,8.875,10.769231,8.75,8.625,10.2,10.142858,10.166667,10.4,13.0,11.444445,9.888889,11.25,10.0,13.666667,10.571428,14.428572,12.090909,11.538462,9.666667,9.333333,9.666667,12.222222,8.0,9.0,8.0,9.0,9.0,12.0,11.0,10.0,13.0,11.0,13.0,14.0,11.0,14.0,12.0,14.0,11.0,16.509434,15.738095,18.647058,12.36,12.218182,13.0,13.545455,15.75,14.5,14.4,13.0,12.6,10.642858,10.05,8.714286,8.75,8.25,7.611111,8.65,7.6923075,8.090909,8.285714,7.714286,13.0,7.5,13.153846,8.6,8.0,9.666667,12.6,11.0,14.1,11.166667,13.909091,10.75,10.333333,13.416667,16.9375,10.0,12.5,8.0,10.857142,9.0,7.8333335,15.0,8.0,9.0,13.125,15.090909,14.666667,14.0,9.625,13.0,15.333333,12.5,15.5,13.0,9.0,11.888889,13.333333,9.857142,11.0,10.1,10.666667,11.666667,9.666667,13.0,8.0,9.0,9.0,9.333333,9.0,10.363636,8.4,8.0,8.0,9.2,11.2,14.3529415,14.054054,9.25,13.083333,10.181818,14.0,10.111111,10.571428,9.857142,13.5,10.333333,12.111111,10.333333,11.0,11.875,9.5,8.5,9.421053,9.5,11.142858,10.666667,15.0,11.0,9.875,11.666667,11.0,15.0,14.0,11.0,10.0,10.0,9.0,11.0,14.0,10.0,11.0,10.0,9.0,10.0,9.0,9.0,10.0,14.0,8.5,15.0,9.85,9.954545,13.57143,11.6,10.73333,12.57143,11.71429,12.5,9.909091,11.8,9.69697,10.84615,12.8125,15.55556,17.92308,12.08696,16.03448,12.14286,12.94444,11.46667,13.9,13.07692,14.9,14.04762,17.05263,12.6,14.53571,14.77778,14.0,14.22222,14.61538,8.0,11.91304,15.2,10.3,9.615385,11.28571,12.80952,9.88,9.545455,10.78571,8.5,16.2,13.44444,11.92857,12.74257,14.42857,11.85714,12.42857,9.833333,10.21429,13.57143,9.181818,13.0,12.13333,11.75,10.875,11.94118,13.91667,11.83333,13.71429,10.6,12.71429,9.541667,10.48148,18.75,14.33333,16.28571,13.66667,15.2,18.54545,17.41667,12.25,16.2,14.0,13.71429,12.90909,12.95238,14.21429,12.4,20.23944,19.35294,14.04225,15.77778,11.61111,8.0,10.9,9.583333,10.6,11.88889,13.70588,9.2,11.21739,18.55556,12.9375,12.27273,13.8125,14.9,13.16327,20.0,17.4,12.0,10.0,11.0,14.0,11.18182,21.36364,9.375,12.8,14.48,16.5,11.75,13.8,18.86667,16.64286,10.64286,22.0,37.28571,30.63636,25.66667,16.1,10.2,10.33333,12.77778,10.28571,9.6,11.5,8.578947,11.5625,10.41176,8.266667,9.142857,10.05556,10.25,10.0,13.92308,11.36364,9.766667,19.35484,11.55556,12.02703,10.16667,11.0,12.6,12.42857,12.05263,9.375,8.428571,14.75,8.0,9.347826,10.69231,8.0,7.5625,25.76923,15.2,9.636364,10.5,11.16667,15.57143,14.25],\"y\":[11.00445,10.669849,10.992786,10.864231,10.667427,12.391318,13.862417,13.136543,11.987155,11.219442,11.836103,10.826496,11.067571,11.151176,12.508047,11.228021,11.479333,11.419289,11.752701,11.804307,11.228695,10.37875,15.203942,15.221413,11.014389,11.355368,11.251181,11.036909,11.682524,13.050817,10.831888,15.336216,14.350845,11.737311,10.596323,12.528298,12.696092,12.0085125,11.903674,12.858836,11.199184,10.859531,10.444676,12.012955,12.963533,12.839675,11.727991,11.6700325,12.478271,11.530762,11.585574,11.035189,10.9084425,10.777901,10.369347,11.800434,11.212968,11.594784,11.742937,11.516398,11.963325,10.818848,10.351416,11.22066,14.463971,16.043268,14.13583,11.137014,11.239697,11.095718,10.821894,10.997072,11.183153,11.642609,11.3658905,14.1720705,11.271244,9.926041,11.620729,10.295708,9.995922,10.500689,10.384553,11.8466625,10.414886,9.805813,10.940895,12.871183,11.904263,11.887922,12.039438,11.930592,11.492153,11.02597,11.1029,11.814982,11.042965,10.5960045,11.263887,10.3527565,13.419323,13.43961,11.304116,10.551174,11.350355,9.817261,11.841854,11.224167,10.203033,11.148296,11.161199,10.835874,11.480822,11.043858,10.201202,10.1970825,11.536346,13.869366,13.374978,12.259688,13.545231,12.297332,11.51166,11.322135,10.828432,11.905322,11.197756,11.20364,11.056301,11.747119,11.168004,11.498468,11.354891,11.5707035,11.483992,11.172731,10.814115,10.730818,10.849409,10.030961,12.7267275,12.524222,13.85655,11.530268,10.975351,10.532238,15.200867,11.659566,12.938988,10.375296,12.475624,11.691473,13.020922,12.155355,12.3623905,12.100311,11.792143,11.2367935,11.310019,10.394167,12.194924,12.065652,12.128675,13.4490595,11.644645,11.992356,11.9515,12.0585,16.1946,13.372711,12.681,12.699887,10.8572445,10.875538,12.047328,13.407151,11.44045,11.326031,10.476735,10.611376,11.411111,10.9268055,10.673127,11.586958,11.606175,11.366045,11.447966,11.32193,11.436946,11.585939,11.072489,12.066741,11.142208,11.92498,12.38171,12.986685,13.89586,10.469902,12.013964,11.917543,11.679087,10.904333,11.270912,10.837553,10.991281,11.206633,11.379471,11.443377,11.218154,11.49963,10.300909,10.229948,11.52071,10.955121,10.877592,10.9619875,10.867192,10.670619,10.738011,10.632036,10.482056,12.044482,11.778683,13.3855295,11.411339,11.827821,11.919413,11.709854,12.945247,11.424616,11.40432,12.439703,12.126036,11.499196,12.888403,10.001785,10.00464,10.962468,10.71609,11.605938,12.39463,11.240044,11.151641,10.651155,11.474478,13.188424,11.330114,10.081502,10.713496,11.504789,11.720231,11.969124,13.921683,12.82854,15.303293,12.433687,12.539398,14.934816,12.681909,14.592387,13.322214,14.325777,13.741231,15.536711,13.219678,13.967532,13.177751,13.956007,15.676924,15.933124,16.452562,12.952669,10.527117,12.409523,11.477317,11.215644,9.788625,11.574989,12.297063,11.0239105,13.3202305,11.345749,14.754189,13.999436,14.8232975,15.9924965,12.606084,12.449594,11.869389,12.163615,12.49704,12.955783,12.528019,12.097092,11.1613655,11.239944,11.150248,10.967058,11.521415,15.128541,14.532068,12.728762,12.765227,12.936791,14.7978115,14.320475,15.281056,12.878667,13.883211,12.4447565,13.437558,12.263245,12.959746,12.385453,11.964841,13.155777,12.3600025,13.125844,12.921426,12.162691,13.792176,12.534967,14.8522,11.450392,11.333006,10.788462,10.426267,11.466664,12.65657,12.232506,11.80728,9.152782,12.357639,13.152516,11.664511,12.968008,12.425839,11.344767,12.604208,14.7025,12.250238,12.90128,10.581446,10.458934,13.1538515,11.30486,10.838816,11.060093,10.875991,13.488696,13.48274,12.951824,13.0738125,15.000523,11.868677,11.083178,15.38817,14.745359,13.847009,14.495346,17.028215,11.332749,13.162563,13.907914,11.223209,10.339881,11.417244,11.556223,13.384676,13.859375,13.672619,12.023575,11.130895,13.595983,11.693369,12.3287325,11.410577,11.831285,12.281742,11.338846,13.066334,10.455204,11.047321,11.765957,11.487587,12.973537,11.23123,11.820481,12.197775,10.680834,10.774096,10.988517,11.629676,12.299382,14.051376,11.047595,13.049731,13.500871,13.223213,12.010164,12.1991415],\"mode\":\"markers\"},{\"type\":\"scattergl\",\"x\":[0.0,37.28571],\"y\":[0.0,37.28571],\"mode\":\"lines\"}];\n",
       "            var layout = {\"showlegend\":false,\"xaxis\":{\"title\":\"True Values\",\"_isSubplotObj\":true},\"yaxis\":{\"title\":\"Predicted Values\",\"_isSubplotObj\":true}};\n",
       "            Plotly.newPlot('1b4d8ee3-ab69-42cc-b8ba-71e6ccae29d2', data, layout);\n",
       "        });\r\n",
       "};\r\n",
       "if ((typeof(requirejs) !==  typeof(Function)) || (typeof(requirejs.config) !== typeof(Function))) { \r\n",
       "    var script = document.createElement(\"script\"); \r\n",
       "    script.setAttribute(\"src\", \"https://cdnjs.cloudflare.com/ajax/libs/require.js/2.3.6/require.min.js\"); \r\n",
       "    script.onload = function(){\r\n",
       "        renderPlotly();\r\n",
       "    };\r\n",
       "    document.getElementsByTagName(\"head\")[0].appendChild(script); \r\n",
       "}\r\n",
       "else {\r\n",
       "    renderPlotly();\r\n",
       "}\r\n",
       "</script>"
      ]
     },
     "metadata": {},
     "output_type": "display_data"
    },
    {
     "data": {
      "text/plain": [
       "Do AutoML for HCl25_K2O in 60 secs"
      ]
     },
     "metadata": {},
     "output_type": "display_data"
    },
    {
     "data": {
      "text/plain": [
       "Best Trainer:FastForestRegression"
      ]
     },
     "metadata": {},
     "output_type": "display_data"
    },
    {
     "data": {
      "text/plain": [
       "*************************************************"
      ]
     },
     "metadata": {},
     "output_type": "display_data"
    },
    {
     "data": {
      "text/plain": [
       "*       Metrics for regression model      "
      ]
     },
     "metadata": {},
     "output_type": "display_data"
    },
    {
     "data": {
      "text/plain": [
       "*------------------------------------------------"
      ]
     },
     "metadata": {},
     "output_type": "display_data"
    },
    {
     "data": {
      "text/plain": [
       "*       LossFn:        1543.02"
      ]
     },
     "metadata": {},
     "output_type": "display_data"
    },
    {
     "data": {
      "text/plain": [
       "*       R2 Score:      0.23"
      ]
     },
     "metadata": {},
     "output_type": "display_data"
    },
    {
     "data": {
      "text/plain": [
       "*       Absolute loss: 22.28"
      ]
     },
     "metadata": {},
     "output_type": "display_data"
    },
    {
     "data": {
      "text/plain": [
       "*       Squared loss:  1543.02"
      ]
     },
     "metadata": {},
     "output_type": "display_data"
    },
    {
     "data": {
      "text/plain": [
       "*       RMS loss:      39.28"
      ]
     },
     "metadata": {},
     "output_type": "display_data"
    },
    {
     "data": {
      "text/plain": [
       "*************************************************"
      ]
     },
     "metadata": {},
     "output_type": "display_data"
    },
    {
     "data": {
      "text/plain": [
       "=============== Saving the model  ==============="
      ]
     },
     "metadata": {},
     "output_type": "display_data"
    },
    {
     "data": {
      "text/plain": [
       "The model is saved to c:\\jobs\\BalitTanah.SoilSensingv2\\BalitTanah.SoilSensingKit.Modelv2\\Notebook\\..\\CSModel\\MLModels\\HCl25_K2O.zip"
      ]
     },
     "metadata": {},
     "output_type": "display_data"
    },
    {
     "data": {
      "text/html": [
       "<div id=\"14e92b1b-4b6f-4a5b-8a57-49e5b6f69147\" style=\"width: 900px; height: 500px;\"></div><script type=\"text/javascript\">\r\n",
       "\r\n",
       "var renderPlotly = function() {\r\n",
       "    var xplotRequire = requirejs.config({context:'xplot-2.0.0',paths:{plotly:'https://cdn.plot.ly/plotly-1.49.2.min'}});\r\n",
       "    xplotRequire(['plotly'], function(Plotly) {\r\n",
       "\n",
       "            var data = [{\"type\":\"scattergl\",\"x\":[3.8104009999999997,0.8699906,1.3344951999999999,1.3411488999999999,8.157401199999999],\"y\":[20.410233310431487,20.167053498621062,23.470713963875404,22.239179279050255,21.463914857460903],\"mode\":\"markers\",\"marker\":{\"size\":12},\"name\":\"SdcaRegression\"},{\"type\":\"scattergl\",\"x\":[5.9668527],\"y\":[23.714085078646995],\"mode\":\"markers\",\"marker\":{\"size\":12},\"name\":\"LightGbmRegression\"},{\"type\":\"scattergl\",\"x\":[7.0727671999999995],\"y\":[23.75129241235236],\"mode\":\"markers\",\"marker\":{\"size\":12},\"name\":\"FastTreeRegression\"},{\"type\":\"scattergl\",\"x\":[6.9270800999999995],\"y\":[19.52382791584188],\"mode\":\"markers\",\"marker\":{\"size\":12},\"name\":\"FastTreeTweedieRegression\"},{\"type\":\"scattergl\",\"x\":[5.90018,2.9288954,4.1811665,2.9676288,11.488174899999999],\"y\":[22.284134218835423,23.775580711321,23.879236547513443,23.741011733358558,23.289992778729168],\"mode\":\"markers\",\"marker\":{\"size\":12},\"name\":\"FastForestRegression\"},{\"type\":\"scattergl\",\"x\":[1.8544303,0.9848733,1.6789573,0.8876210999999999],\"y\":[18.28801838418712,21.98585050330203,18.448141627424345,22.49069645262172],\"mode\":\"markers\",\"marker\":{\"size\":12},\"name\":\"LbfgsPoissonRegression\"},{\"type\":\"scattergl\",\"x\":[0.7266117],\"y\":[26286.54726283367],\"mode\":\"markers\",\"marker\":{\"size\":12},\"name\":\"OnlineGradientDescentRegression\"}];\n",
       "            var layout = {\"xaxis\":{\"title\":\"Training Time\",\"_isSubplotObj\":true},\"yaxis\":{\"title\":\"Error\",\"_isSubplotObj\":true}};\n",
       "            Plotly.newPlot('14e92b1b-4b6f-4a5b-8a57-49e5b6f69147', data, layout);\n",
       "        });\r\n",
       "};\r\n",
       "if ((typeof(requirejs) !==  typeof(Function)) || (typeof(requirejs.config) !== typeof(Function))) { \r\n",
       "    var script = document.createElement(\"script\"); \r\n",
       "    script.setAttribute(\"src\", \"https://cdnjs.cloudflare.com/ajax/libs/require.js/2.3.6/require.min.js\"); \r\n",
       "    script.onload = function(){\r\n",
       "        renderPlotly();\r\n",
       "    };\r\n",
       "    document.getElementsByTagName(\"head\")[0].appendChild(script); \r\n",
       "}\r\n",
       "else {\r\n",
       "    renderPlotly();\r\n",
       "}\r\n",
       "</script>"
      ]
     },
     "metadata": {},
     "output_type": "display_data"
    },
    {
     "data": {
      "text/html": [
       "<div id=\"21ac3cda-c415-461d-bad6-c25366ac595c\" style=\"width: 600px; height: 600px;\"></div><script type=\"text/javascript\">\r\n",
       "\r\n",
       "var renderPlotly = function() {\r\n",
       "    var xplotRequire = requirejs.config({context:'xplot-2.0.0',paths:{plotly:'https://cdn.plot.ly/plotly-1.49.2.min'}});\r\n",
       "    xplotRequire(['plotly'], function(Plotly) {\r\n",
       "\n",
       "            var data = [{\"type\":\"scattergl\",\"x\":[155.44748,28.543983,28.0,14.0,2.0,2.0,9.0,16.0,16.0,15.0,12.693538,21.296331,24.0,34.0,3.0,12.0,10.0,15.0,17.0,7.0,6.0,15.0,5.0,4.0,6.0,55.0,54.0,8.0,3.0,5.0,33.0,3.0,7.780761,16.0,4.0,2.0,7.0,16.298067,27.476803,10.9469,13.329846,35.11211,4.0,1.0,7.0,5.0,20.0,9.0,1.6820719,10.0,3.0,15.0,22.0,11.0,3.0,3.0,8.0,12.0,33.871223,28.482239,5.000475,6.0468864,6.405376,7.635938,1.9153278,2.0,2.0,0.874997,42.008244,5.539568,3.0,2.0,1.1449903,4.0,2.0,7.0287156,17.8111,17.8111,23.902323,9.0,12.0,1.7332957,3.0,10.0,2.0,3.0,7.0,7.9215474,8.611497,7.8352118,6.0,6.0,24.0,23.66442,14.0,15.0,129.15479,52.53965,18.0,21.0,18.0,8.0,21.0,31.0,5.0,17.0,19.0,28.0,37.0,23.0,9.0,8.0,8.0,15.0,8.0,9.0,23.0,5.0,6.0,2.5351799,3.8957999,9.0,13.0,7.0,8.0,37.27228,20.0,6.0,5.0,9.533281,38.40618,3.955952,5.0,3.4849932,3.306089,14.0,7.0,12.0,21.0,11.0,2.3798478,6.4143305,9.050222,15.487411,9.423657,7.936975,4.57099,16.139278,16.705927,13.520579,14.15906,8.025955,10.113043,2.7374887,1.6556073,8.3228245,2.3308325,8.920258,173.73993,161.48346,0.59847414,1.0,2.0,5.0,5.8782015,5.3156676,2.8846054,2.871145,1.5041957,24.310598,22.1993,17.446913,13.782933,6.0,3.9193642,2.41535,7.3613114,6.381258,133.90906,94.69418,47.520008,40.806747,30.380997,4.0967636,30.244602,19.182808,20.873167,19.073895,36.70475,15.0,11.0,7.5234523,2.0,3.0,5.0,6.0785565,12.27323,12.839881,42.544815,35.38755,33.96384,98.231735,51.71497,195.83476,195.17899,58.836094,17.0,10.0,4.0,4.0,7.0,7.0,18.0,30.362902,7.0,45.0,61.324276,56.188858,89.0,8.0,14.0,5.0,5.0,45.0,5.0,5.0,5.0,3.0,4.0,47.0,50.0,20.0,19.0,42.0,15.0,4.467027,4.771877,3.718002,20.95636,7.0,12.32205,6.254628,26.0,3.68404,4.220905,37.84437,7.4625,18.85018,5.771894,56.97667,33.07705,22.27793,15.03183,45.94711,28.15886,27.06229,62.0,14.94051,4.339749,5.0,6.0,14.4172,4.657006,3.284059,7.0,5.0,67.5746,20.405,4.574654,6.659551,14.0,11.87973,11.87973,13.57132,30.4157,4.155619,8.215944,10.54706,20.01379,6.015249,29.67319,165.1056,3.0,9.0,10.14867,8.847426,1.191373,2.0,3.299418,2.68518,6.065782,8.0,31.23846,43.4622,21.29204,5.990913,6.731493,10.42212,31.29477,8.655287,14.09361,188.0175,64.17564,71.84223,158.1484,8.0,23.84741,16.02166,5.0,6.0,10.0,54.85808,4.194977,46.82263,20.94807,23.09825,4.899757,3.423284,4.035204,13.60191,14.0,8.2346,44.66652,177.075,11.98886,4.959844,64.06879,196.2886,138.3733,2.0,5.626136,5.798624,4.327281,50.03392,5.878366,38.2994,15.0,70.29949,117.0,5.0,2.704726,5.968828,35.68368,40.58027,32.85246,134.8837,142.9671,94.76595,11.79111,3.74722,76.72014,29.0087,42.88112,69.84139,18.50259,4.419371,100.0938,62.53846,11.25056,139.4885,162.1407,178.6953,6.977327,5.67989,4.716256,9.752657,34.03951,2.0,22.97047,6.293868,3.553934,18.13746,43.59076,81.64027,19.112,123.7241,116.0,152.0,92.29119,21.23485,26.95365,4.579056,19.39034,8.232661,16.39662,32.03696,9.031872,1.732256,46.26151,25.75235,16.72264,2.231279,26.53829,20.65434,1.052245,10.8404,8.960402,8.541237],\"y\":[39.284958,29.572521,29.190561,30.262503,33.745045,8.562599,43.85215,23.380478,40.055027,26.262817,10.512174,34.67624,46.723392,29.378408,11.548619,15.309139,11.896082,9.773386,9.622096,8.665624,10.749737,14.239358,27.58742,26.75457,41.363262,41.133583,38.341843,24.053577,19.849176,10.614955,21.09224,25.401909,43.404247,27.492373,10.991034,8.70601,47.15627,10.273189,17.585485,11.772017,34.857132,63.445156,17.250069,9.552317,10.62584,12.377555,8.6233635,8.6233635,8.6233635,16.816431,8.676983,21.856575,15.196743,14.105319,14.942444,16.274094,21.669502,13.090534,8.6233635,8.6233635,10.103669,8.6233635,8.722469,26.004128,10.120926,27.836908,29.59648,8.650584,84.19372,12.416095,26.391747,14.139527,15.671478,26.075691,14.76289,15.420499,57.162323,40.98586,33.447315,57.33847,27.98518,14.710474,15.484696,16.533588,9.066233,17.696196,9.845765,37.39078,29.03928,29.924047,30.911543,23.12287,29.303595,63.871235,30.308191,43.321373,29.313251,26.986895,27.919436,41.147823,31.412151,25.326014,39.369553,47.274952,28.085115,53.98307,36.81703,38.719795,49.06815,26.982372,21.395866,14.593385,11.16383,25.978039,14.38358,15.344645,34.963505,42.56135,21.932714,21.77763,19.901716,22.650063,8.6233635,13.617283,29.533607,15.204179,8.665624,9.102398,8.666994,35.224064,37.71667,12.106251,9.892625,15.760367,13.65648,13.994725,14.412917,10.752602,21.75246,18.723934,8.562599,8.6233635,10.309364,43.45677,67.39593,56.73178,64.94834,37.304718,42.302593,25.251198,24.746729,56.089874,51.962284,37.255882,37.64307,8.6233635,8.562599,8.679724,18.401295,42.987373,8.562599,9.716409,9.446161,8.562599,8.57533,8.562599,8.57533,8.562599,8.562599,8.562599,8.703094,8.885916,14.575537,11.539258,10.6437845,8.6233635,9.545627,13.96379,71.4509,52.56936,42.67859,38.775185,35.367474,9.297815,10.573921,13.914659,33.259876,37.659443,39.610973,11.379535,23.09669,25.58546,8.562599,15.366558,11.086317,29.38855,31.125462,37.678135,43.190132,39.95865,41.300827,31.414513,31.565208,38.9523,40.83111,43.284683,8.6233635,8.754131,8.678839,9.84169,8.6233635,8.6233635,15.163911,36.0843,21.90119,40.16584,40.441055,63.097923,35.699253,26.550182,31.063086,29.430384,26.515528,44.560825,25.37696,26.82555,25.005486,25.452991,26.405262,29.179777,13.378736,36.098385,22.683813,33.988026,34.539757,44.363358,40.615883,32.354504,9.671127,25.701492,23.291784,9.383277,21.333303,8.562599,12.904462,29.903261,14.122812,37.262882,14.5877285,29.43411,39.902206,47.54836,21.030855,41.42024,36.99596,47.946632,10.767405,10.3544655,31.10582,29.056358,13.098493,37.658634,25.424185,16.955997,22.219448,33.97159,31.663803,10.158099,28.29182,10.193247,8.562599,22.490576,20.91151,8.6233635,44.31755,14.20482,36.136272,9.797351,11.043826,8.562599,28.697004,30.301098,22.691956,48.619827,8.699976,46.59869,8.562599,8.562599,11.331783,8.562599,21.934866,68.24401,76.00843,25.066002,29.788877,58.18486,33.037437,69.06918,27.740803,26.125141,49.87172,52.473377,39.523632,28.04888,44.522793,47.51835,39.255753,26.571575,33.448326,23.271889,32.03543,45.88043,30.111135,13.625925,34.94972,73.00344,21.552027,10.756025,8.562599,28.755316,26.12772,27.52256,60.314556,81.35315,88.128525,22.515312,97.69625,52.134438,35.162235,16.66394,39.484737,35.57904,38.225643,60.448837,46.130062,39.800922,8.562599,26.249056,40.48141,79.84923,18.623075,8.6233635,42.34663,48.38915,50.08547,66.14313,73.51197,48.493267,10.192088,47.492485,25.084404,22.681135,23.59666,47.079525,8.649761,8.562599,23.761599,47.963943,22.125547,100.11771,98.41867,98.3274,26.706633,8.6233635,48.772022,20.158352,35.59494,20.49877,16.315985,9.870472,34.953224,27.731165,29.108772,37.09132,33.29137,35.579533,54.080013,68.75872,49.23749,16.972414,8.649761,13.324813,36.919598,40.225834,16.205257,18.68787,17.5687,8.6233635,47.125553,11.913085,42.40337,8.562599,11.201634,38.075974,10.071676,14.813676,8.926722,9.0829525],\"mode\":\"markers\"},{\"type\":\"scattergl\",\"x\":[0.0,196.2886],\"y\":[0.0,196.2886],\"mode\":\"lines\"}];\n",
       "            var layout = {\"showlegend\":false,\"xaxis\":{\"title\":\"True Values\",\"_isSubplotObj\":true},\"yaxis\":{\"title\":\"Predicted Values\",\"_isSubplotObj\":true}};\n",
       "            Plotly.newPlot('21ac3cda-c415-461d-bad6-c25366ac595c', data, layout);\n",
       "        });\r\n",
       "};\r\n",
       "if ((typeof(requirejs) !==  typeof(Function)) || (typeof(requirejs.config) !== typeof(Function))) { \r\n",
       "    var script = document.createElement(\"script\"); \r\n",
       "    script.setAttribute(\"src\", \"https://cdnjs.cloudflare.com/ajax/libs/require.js/2.3.6/require.min.js\"); \r\n",
       "    script.onload = function(){\r\n",
       "        renderPlotly();\r\n",
       "    };\r\n",
       "    document.getElementsByTagName(\"head\")[0].appendChild(script); \r\n",
       "}\r\n",
       "else {\r\n",
       "    renderPlotly();\r\n",
       "}\r\n",
       "</script>"
      ]
     },
     "metadata": {},
     "output_type": "display_data"
    },
    {
     "data": {
      "text/plain": [
       "Do AutoML for HCl25_P2O5 in 60 secs"
      ]
     },
     "metadata": {},
     "output_type": "display_data"
    },
    {
     "data": {
      "text/plain": [
       "Best Trainer:FastForestRegression"
      ]
     },
     "metadata": {},
     "output_type": "display_data"
    },
    {
     "data": {
      "text/plain": [
       "*************************************************"
      ]
     },
     "metadata": {},
     "output_type": "display_data"
    },
    {
     "data": {
      "text/plain": [
       "*       Metrics for regression model      "
      ]
     },
     "metadata": {},
     "output_type": "display_data"
    },
    {
     "data": {
      "text/plain": [
       "*------------------------------------------------"
      ]
     },
     "metadata": {},
     "output_type": "display_data"
    },
    {
     "data": {
      "text/plain": [
       "*       LossFn:        2043.14"
      ]
     },
     "metadata": {},
     "output_type": "display_data"
    },
    {
     "data": {
      "text/plain": [
       "*       R2 Score:      0.3"
      ]
     },
     "metadata": {},
     "output_type": "display_data"
    },
    {
     "data": {
      "text/plain": [
       "*       Absolute loss: 33.86"
      ]
     },
     "metadata": {},
     "output_type": "display_data"
    },
    {
     "data": {
      "text/plain": [
       "*       Squared loss:  2043.14"
      ]
     },
     "metadata": {},
     "output_type": "display_data"
    },
    {
     "data": {
      "text/plain": [
       "*       RMS loss:      45.2"
      ]
     },
     "metadata": {},
     "output_type": "display_data"
    },
    {
     "data": {
      "text/plain": [
       "*************************************************"
      ]
     },
     "metadata": {},
     "output_type": "display_data"
    },
    {
     "data": {
      "text/plain": [
       "=============== Saving the model  ==============="
      ]
     },
     "metadata": {},
     "output_type": "display_data"
    },
    {
     "data": {
      "text/plain": [
       "The model is saved to c:\\jobs\\BalitTanah.SoilSensingv2\\BalitTanah.SoilSensingKit.Modelv2\\Notebook\\..\\CSModel\\MLModels\\HCl25_P2O5.zip"
      ]
     },
     "metadata": {},
     "output_type": "display_data"
    },
    {
     "data": {
      "text/html": [
       "<div id=\"177ac133-cba8-4f83-a7a0-cafc3084a9e1\" style=\"width: 900px; height: 500px;\"></div><script type=\"text/javascript\">\r\n",
       "\r\n",
       "var renderPlotly = function() {\r\n",
       "    var xplotRequire = requirejs.config({context:'xplot-2.0.0',paths:{plotly:'https://cdn.plot.ly/plotly-1.49.2.min'}});\r\n",
       "    xplotRequire(['plotly'], function(Plotly) {\r\n",
       "\n",
       "            var data = [{\"type\":\"scattergl\",\"x\":[4.402207199999999,1.3464502999999999,8.7105363],\"y\":[34.896384500224016,35.77291263932856,34.1803840234739],\"mode\":\"markers\",\"marker\":{\"size\":12},\"name\":\"SdcaRegression\"},{\"type\":\"scattergl\",\"x\":[5.7310608],\"y\":[33.84747757788362],\"mode\":\"markers\",\"marker\":{\"size\":12},\"name\":\"LightGbmRegression\"},{\"type\":\"scattergl\",\"x\":[7.2519032],\"y\":[33.956020068377256],\"mode\":\"markers\",\"marker\":{\"size\":12},\"name\":\"FastTreeRegression\"},{\"type\":\"scattergl\",\"x\":[7.2644918999999994],\"y\":[36.72256029170492],\"mode\":\"markers\",\"marker\":{\"size\":12},\"name\":\"FastTreeTweedieRegression\"},{\"type\":\"scattergl\",\"x\":[6.3943898,10.4673286,4.035097599999999],\"y\":[33.85563732878915,34.72979646427878,36.036661932797266],\"mode\":\"markers\",\"marker\":{\"size\":12},\"name\":\"FastForestRegression\"},{\"type\":\"scattergl\",\"x\":[2.1171721,0.904732,1.0060261],\"y\":[34.832073108492224,35.5312064224276,35.30355132078302],\"mode\":\"markers\",\"marker\":{\"size\":12},\"name\":\"LbfgsPoissonRegression\"},{\"type\":\"scattergl\",\"x\":[0.767509],\"y\":[24731.709194253643],\"mode\":\"markers\",\"marker\":{\"size\":12},\"name\":\"OnlineGradientDescentRegression\"}];\n",
       "            var layout = {\"xaxis\":{\"title\":\"Training Time\",\"_isSubplotObj\":true},\"yaxis\":{\"title\":\"Error\",\"_isSubplotObj\":true}};\n",
       "            Plotly.newPlot('177ac133-cba8-4f83-a7a0-cafc3084a9e1', data, layout);\n",
       "        });\r\n",
       "};\r\n",
       "if ((typeof(requirejs) !==  typeof(Function)) || (typeof(requirejs.config) !== typeof(Function))) { \r\n",
       "    var script = document.createElement(\"script\"); \r\n",
       "    script.setAttribute(\"src\", \"https://cdnjs.cloudflare.com/ajax/libs/require.js/2.3.6/require.min.js\"); \r\n",
       "    script.onload = function(){\r\n",
       "        renderPlotly();\r\n",
       "    };\r\n",
       "    document.getElementsByTagName(\"head\")[0].appendChild(script); \r\n",
       "}\r\n",
       "else {\r\n",
       "    renderPlotly();\r\n",
       "}\r\n",
       "</script>"
      ]
     },
     "metadata": {},
     "output_type": "display_data"
    },
    {
     "data": {
      "text/html": [
       "<div id=\"55a003d6-dd43-48e7-a9de-d3f96a2d0251\" style=\"width: 600px; height: 600px;\"></div><script type=\"text/javascript\">\r\n",
       "\r\n",
       "var renderPlotly = function() {\r\n",
       "    var xplotRequire = requirejs.config({context:'xplot-2.0.0',paths:{plotly:'https://cdn.plot.ly/plotly-1.49.2.min'}});\r\n",
       "    xplotRequire(['plotly'], function(Plotly) {\r\n",
       "\n",
       "            var data = [{\"type\":\"scattergl\",\"x\":[67.12823,77.73344,51.182114,39.201725,36.963642,39.77668,114.92545,114.1062,126.83922,189.62538,67.72791,77.14638,55.70145,36.963886,57.0,97.0,108.0,128.0,97.0,60.0,78.0,110.0,151.0,131.0,168.0,86.0,85.0,84.0,41.0,118.0,23.0,65.0,19.934967,120.832504,27.139942,108.81617,72.0,25.480429,64.98921,232.49513,57.316647,148.39903,47.0,65.0,226.0,135.0,103.0,79.0,52.86082,90.89715,109.53379,25.279135,15.142254,24.112694,15.663916,36.18069,141.14233,45.39338,36.243813,45.93985,40.363865,5.3991146,5.8231864,5.4804487,2.7909882,6.592924,120.9882,64.71242,12.498007,5.070159,48.9518,56.725006,14.814335,18.478085,51.389828,57.402885,205.58414,33.259293,22.166988,32.949703,57.917427,43.6803,52.961544,13.5714245,50.378227,44.24224,63.110714,129.58626,121.12682,140.9401,46.37831,20.83502,125.5652,46.675274,25.412773,57.039806,108.0,89.0,85.0,75.0,217.0,79.0,80.0,51.0,135.0,105.0,77.0,48.0,101.0,50.0,58.0,63.0,67.0,81.0,105.0,90.0,149.639,19.492428,26.738567,25.1873,99.76203,120.92826,22.867914,27.0,90.30182,45.182102,44.309803,46.169437,49.372158,52.914845,95.34102,21.433691,39.499916,46.33968,49.87087,61.50044,59.994934,49.737373,153.83603,135.50508,9.170184,65.974915,76.815895,50.65271,20.182655,51.312557,8.106165,12.807991,11.276561,70.896904,72.045845,7.3460317,5.783304,6.0816317,21.123428,7.598417,42.960472,9.411803,35.761116,101.6987,1.0,1.0,6.7458653,19.077234,8.352832,3.5369546,184.57457,44.8786,17.344261,17.287424,16.495928,28.691013,14.959172,5.6744,2.6474698,6.1745424,152.43602,131.52489,133.42073,124.228516,42.960907,127.73999,135.5712,112.72307,113.54558,84.97426,81.502556,92.70672,155.63312,195.03969,162.24556,38.84832,2.650186,7.82195,4.8953085,68.62608,124.35485,83.17731,71.56334,76.86573,121.80572,167.91452,101.11988,98.14339,93.14372,154.39314,30.398226,28.52074,25.970745,29.880556,39.91823,29.516943,134.85295,65.39939,94.0,77.0,102.96392,221.90385,59.0,50.0,79.0,146.0,79.0,118.0,23.0,19.0,116.0,123.0,150.0,75.0,71.0,45.0,80.0,13.0,11.0,22.65294,25.75685,49.53415,32.64503,97.68169,156.5884,72.69187,286.0055,50.79053,74.25146,59.4873,88.84219,246.0889,90.06328,184.3988,41.53981,14.07641,47.58188,23.49457,134.0,86.8644,41.23618,9.906705,21.49178,21.75883,58.35614,107.5901,44.19819,64.67177,91.10035,60.79648,167.6033,29.07496,6.009164,11.63734,5.0,2.125278,7.782733,34.18351,12.56798,176.3995,20.85619,43.47519,21.56136,13.46003,34.85797,11.16519,181.1445,49.56704,44.23143,26.52328,42.2691,26.93945,12.43714,60.31786,13.10219,29.68249,96.81873,99.4997,51.95023,66.04517,198.9345,31.36833,61.562,11.06171,40.92721,65.82564,78.5733,68.59463,8.674202,59.88297,35.03798,51.68907,104.8528,42.86512,116.373,58.35167,36.13524,38.00696,43.88674,30.98933,28.90046,39.19074,24.20359,52.59105,17.25231,11.87832,91.54086,87.18303,27.63349,91.40293,152.4415,163.4638,4.382724,44.53714,64.35158,211.1657,147.542,23.40757,39.08334,45.21215,17.95528,147.0,119.0,5.597899,170.5366,181.3491,117.7058,296.7677,144.1379,64.34983,23.0928,146.9574,134.607,51.2843,47.53368,135.2354,6.738807,4.82113,3.287156,7.107154,257.2331,228.9542,267.1033,177.035,33.13399,91.20189,142.5027,44.24926,72.48496,55.86479,39.05691,70.51545,67.62807,47.37379,291.186,114.7228,169.454,283.708,255.5146,29.63137,15.44046,29.99978,12.99062,134.4304,45.7097,12.40871,48.42435,9.411804,62.4003,21.33633,157.8277,15.25355,2.91768,182.7561,44.67804,9.965927,19.48986,29.66754,11.4523],\"y\":[72.548584,73.94018,82.04319,44.637375,58.799904,48.190674,124.89596,116.73369,80.04062,84.528206,78.50063,70.87417,76.12297,79.76708,83.45313,48.653507,72.4986,49.92937,79.905396,61.985268,78.58057,68.83046,72.09196,79.02355,85.46038,69.495804,69.486244,63.652252,57.650547,91.327774,51.376984,80.13419,62.208237,56.20981,28.615007,70.2281,53.88893,37.315712,100.581024,84.637695,63.20079,165.2799,70.28256,64.56243,78.909775,77.96949,51.79536,44.713417,59.042442,41.236805,76.09708,69.60073,64.77658,46.06103,37.86846,56.501347,57.854935,30.634165,54.714542,56.8465,23.990124,29.85905,28.587261,76.683495,24.547829,35.861866,101.71529,55.569283,73.270676,28.343,44.028183,40.61965,69.21503,77.842766,77.444305,122.30457,69.66281,85.936455,72.4941,36.736855,76.8623,35.37514,38.47371,28.2912,32.629593,33.880238,60.142277,96.37084,97.22887,83.72681,79.998055,70.06767,124.98444,137.18124,62.552135,73.36812,78.74225,80.419846,80.153786,84.70328,135.99481,127.95578,80.03306,69.751526,74.63218,76.434494,85.57994,74.903076,90.12541,64.406975,30.63365,27.936169,27.490278,158.20833,89.13792,78.153885,91.23971,85.2132,51.160435,76.08877,71.53961,54.39936,72.69122,75.766396,76.63624,58.784092,55.63601,56.019848,63.694805,49.722816,51.25018,52.01815,50.24864,60.37195,85.37287,44.694805,48.598164,91.00557,79.30168,77.01507,29.62624,57.487003,60.90156,37.642418,64.446754,112.06368,83.31048,69.73354,65.89128,42.036392,67.477325,41.562973,75.68852,31.304344,64.172104,23.521118,26.507578,38.685726,80.458664,99.723595,23.521118,28.68818,34.417828,25.85007,23.521118,23.521118,61.448418,23.521118,23.400095,24.195671,24.516657,24.489552,24.097095,29.568083,28.711548,29.104275,158.3663,84.28135,78.14239,87.52381,89.40684,92.003136,85.52666,71.61934,76.83464,88.36328,87.771164,86.54586,79.23421,57.52579,81.22499,53.484623,23.400095,23.550621,23.56353,79.08319,79.36533,89.477875,69.02846,78.2988,77.46689,77.587234,73.21576,74.22358,70.93542,79.25459,59.04023,60.26915,54.556313,75.07864,59.51224,62.076733,83.014435,61.952686,58.699142,68.418015,86.13756,81.946396,74.23158,78.7784,76.218475,132.30621,125.61164,59.718353,67.22608,68.3143,133.89789,121.66277,125.83098,53.57036,79.44227,50.005146,70.44768,52.41975,43.326508,87.961205,119.75379,104.853424,73.3845,64.88605,61.897038,38.040844,41.024105,75.07478,77.67413,93.51148,89.39703,49.05474,67.284004,78.27561,48.082294,71.91539,65.83107,73.98632,99.45899,41.76632,50.213593,62.516407,37.43953,43.627438,51.657963,46.454395,35.24936,50.016346,77.875755,75.98006,74.223045,24.286505,23.630068,38.45584,23.521118,23.400095,23.587719,79.53847,29.908436,72.17379,51.000587,41.5251,65.83594,25.500494,26.172329,44.697155,122.882965,39.42174,55.785675,26.274694,24.430054,24.360785,23.400095,24.299955,39.429222,61.756927,74.361885,89.7464,84.058464,80.105576,91.670334,72.63369,63.746403,78.55466,33.115025,123.54813,36.048138,36.830288,73.21806,75.888,77.35913,87.0239,74.93189,52.78018,88.24879,73.99587,121.30898,60.92517,82.01503,78.23729,74.163284,162.6455,50.739403,174.71365,42.229004,60.446346,83.10131,114.94496,49.733364,153.18544,62.76741,78.62249,23.400095,79.59253,76.7015,79.09775,75.42705,46.6127,55.315025,26.353413,35.861866,131.7687,158.44218,43.08015,67.89527,82.9354,77.84967,73.002205,79.75877,77.95012,36.143677,93.222786,164.30478,117.24449,83.64432,130.63014,25.504284,23.400095,23.400095,130.428,162.66655,160.24356,152.1567,153.14413,65.951416,77.00277,124.72842,67.15619,56.94285,69.27664,60.12012,72.03503,48.443623,76.45615,67.41116,101.40551,69.62776,88.708206,135.69044,68.10192,70.13672,24.249529,26.549578,72.615845,75.137955,84.146194,72.91088,26.033342,83.44171,66.923676,67.903564,23.400095,23.72033,71.534836,55.193913,25.652205,24.915386,23.400095,25.475592],\"mode\":\"markers\"},{\"type\":\"scattergl\",\"x\":[0.0,296.7677],\"y\":[0.0,296.7677],\"mode\":\"lines\"}];\n",
       "            var layout = {\"showlegend\":false,\"xaxis\":{\"title\":\"True Values\",\"_isSubplotObj\":true},\"yaxis\":{\"title\":\"Predicted Values\",\"_isSubplotObj\":true}};\n",
       "            Plotly.newPlot('55a003d6-dd43-48e7-a9de-d3f96a2d0251', data, layout);\n",
       "        });\r\n",
       "};\r\n",
       "if ((typeof(requirejs) !==  typeof(Function)) || (typeof(requirejs.config) !== typeof(Function))) { \r\n",
       "    var script = document.createElement(\"script\"); \r\n",
       "    script.setAttribute(\"src\", \"https://cdnjs.cloudflare.com/ajax/libs/require.js/2.3.6/require.min.js\"); \r\n",
       "    script.onload = function(){\r\n",
       "        renderPlotly();\r\n",
       "    };\r\n",
       "    document.getElementsByTagName(\"head\")[0].appendChild(script); \r\n",
       "}\r\n",
       "else {\r\n",
       "    renderPlotly();\r\n",
       "}\r\n",
       "</script>"
      ]
     },
     "metadata": {},
     "output_type": "display_data"
    },
    {
     "data": {
      "text/plain": [
       "Do AutoML for Jumlah in 60 secs"
      ]
     },
     "metadata": {},
     "output_type": "display_data"
    },
    {
     "data": {
      "text/plain": [
       "Best Trainer:LightGbmRegression"
      ]
     },
     "metadata": {},
     "output_type": "display_data"
    },
    {
     "data": {
      "text/plain": [
       "*************************************************"
      ]
     },
     "metadata": {},
     "output_type": "display_data"
    },
    {
     "data": {
      "text/plain": [
       "*       Metrics for regression model      "
      ]
     },
     "metadata": {},
     "output_type": "display_data"
    },
    {
     "data": {
      "text/plain": [
       "*------------------------------------------------"
      ]
     },
     "metadata": {},
     "output_type": "display_data"
    },
    {
     "data": {
      "text/plain": [
       "*       LossFn:        105.57"
      ]
     },
     "metadata": {},
     "output_type": "display_data"
    },
    {
     "data": {
      "text/plain": [
       "*       R2 Score:      0.7"
      ]
     },
     "metadata": {},
     "output_type": "display_data"
    },
    {
     "data": {
      "text/plain": [
       "*       Absolute loss: 6.66"
      ]
     },
     "metadata": {},
     "output_type": "display_data"
    },
    {
     "data": {
      "text/plain": [
       "*       Squared loss:  105.57"
      ]
     },
     "metadata": {},
     "output_type": "display_data"
    },
    {
     "data": {
      "text/plain": [
       "*       RMS loss:      10.27"
      ]
     },
     "metadata": {},
     "output_type": "display_data"
    },
    {
     "data": {
      "text/plain": [
       "*************************************************"
      ]
     },
     "metadata": {},
     "output_type": "display_data"
    },
    {
     "data": {
      "text/plain": [
       "=============== Saving the model  ==============="
      ]
     },
     "metadata": {},
     "output_type": "display_data"
    },
    {
     "data": {
      "text/plain": [
       "The model is saved to c:\\jobs\\BalitTanah.SoilSensingv2\\BalitTanah.SoilSensingKit.Modelv2\\Notebook\\..\\CSModel\\MLModels\\Jumlah.zip"
      ]
     },
     "metadata": {},
     "output_type": "display_data"
    },
    {
     "data": {
      "text/html": [
       "<div id=\"5496d15e-1202-4869-b893-d7fb0c0f2cac\" style=\"width: 900px; height: 500px;\"></div><script type=\"text/javascript\">\r\n",
       "\r\n",
       "var renderPlotly = function() {\r\n",
       "    var xplotRequire = requirejs.config({context:'xplot-2.0.0',paths:{plotly:'https://cdn.plot.ly/plotly-1.49.2.min'}});\r\n",
       "    xplotRequire(['plotly'], function(Plotly) {\r\n",
       "\n",
       "            var data = [{\"type\":\"scattergl\",\"x\":[4.2959933999999995],\"y\":[8.40517007346664],\"mode\":\"markers\",\"marker\":{\"size\":12},\"name\":\"SdcaRegression\"},{\"type\":\"scattergl\",\"x\":[5.498414899999999,1.9352643999999999,2.9236006999999997],\"y\":[6.658040641592099,13.73541573119593,8.531606466083204],\"mode\":\"markers\",\"marker\":{\"size\":12},\"name\":\"LightGbmRegression\"},{\"type\":\"scattergl\",\"x\":[7.151213299999999,7.48218,3.7013848],\"y\":[7.3202380653499635,10.786026884402547,14.81998734188895],\"mode\":\"markers\",\"marker\":{\"size\":12},\"name\":\"FastTreeRegression\"},{\"type\":\"scattergl\",\"x\":[7.2992558,8.545816,3.3850466999999997],\"y\":[6.877043204939263,7.202758500973384,15.343434394934238],\"mode\":\"markers\",\"marker\":{\"size\":12},\"name\":\"FastTreeTweedieRegression\"},{\"type\":\"scattergl\",\"x\":[6.3826993],\"y\":[7.9057667586257905],\"mode\":\"markers\",\"marker\":{\"size\":12},\"name\":\"FastForestRegression\"},{\"type\":\"scattergl\",\"x\":[1.5686951999999998],\"y\":[7.36292083879997],\"mode\":\"markers\",\"marker\":{\"size\":12},\"name\":\"LbfgsPoissonRegression\"},{\"type\":\"scattergl\",\"x\":[0.7773203],\"y\":[94042.53732313389],\"mode\":\"markers\",\"marker\":{\"size\":12},\"name\":\"OnlineGradientDescentRegression\"}];\n",
       "            var layout = {\"xaxis\":{\"title\":\"Training Time\",\"_isSubplotObj\":true},\"yaxis\":{\"title\":\"Error\",\"_isSubplotObj\":true}};\n",
       "            Plotly.newPlot('5496d15e-1202-4869-b893-d7fb0c0f2cac', data, layout);\n",
       "        });\r\n",
       "};\r\n",
       "if ((typeof(requirejs) !==  typeof(Function)) || (typeof(requirejs.config) !== typeof(Function))) { \r\n",
       "    var script = document.createElement(\"script\"); \r\n",
       "    script.setAttribute(\"src\", \"https://cdnjs.cloudflare.com/ajax/libs/require.js/2.3.6/require.min.js\"); \r\n",
       "    script.onload = function(){\r\n",
       "        renderPlotly();\r\n",
       "    };\r\n",
       "    document.getElementsByTagName(\"head\")[0].appendChild(script); \r\n",
       "}\r\n",
       "else {\r\n",
       "    renderPlotly();\r\n",
       "}\r\n",
       "</script>"
      ]
     },
     "metadata": {},
     "output_type": "display_data"
    },
    {
     "data": {
      "text/html": [
       "<div id=\"bb72d745-ecf6-4610-bbbe-720839b54fa6\" style=\"width: 600px; height: 600px;\"></div><script type=\"text/javascript\">\r\n",
       "\r\n",
       "var renderPlotly = function() {\r\n",
       "    var xplotRequire = requirejs.config({context:'xplot-2.0.0',paths:{plotly:'https://cdn.plot.ly/plotly-1.49.2.min'}});\r\n",
       "    xplotRequire(['plotly'], function(Plotly) {\r\n",
       "\n",
       "            var data = [{\"type\":\"scattergl\",\"x\":[19.86,11.12,41.79,49.12,14.6,2.81,0.6,0.75,0.8,24.35,43.13,2.36,23.75,21.63,4.79,7.72,4.25,5.57,3.11,8.05,12.95,15.5,1.23,1.02,24.8,70.05,53.31,23.14,3.67,6.28,63.83,2.63,8.59,17.03,14.52,3.32,19.52,13.69,16.44,4.69,13.73,7.03,3.5,2.35,2.77,2.48,2.48,1.37,3.66,22.91,3.41,3.58,5.61,39.96,39.98,5.28,12.03,28.03,5.7,5.67,4.69,3.91,3.36,10.0,2.6,0.86,0.47,3.14,17.99,11.17,6.56,6.67,7.23,30.39,9.24,3.33,16.37,16.37,19.22,11.49,16.32,7.87,15.04,16.64,8.46,18.45,6.19,7.13,7.68,6.81,8.09,6.52,25.93,42.93,41.86,45.44,30.83,43.35,29.75,56.57,13.73,9.48,13.14,21.26,3.13,20.29,22.49,27.45,61.27,14.18,10.16,13.57,14.9,22.11,38.65,41.02,30.84,2.15,0.98,0.7,4.22,8.63,11.34,41.59,53.65,7.79,13.8,12.8,12.43,58.74,83.87,12.32,12.78,29.22,29.66,10.31,16.82,14.59,6.8,6.73,0.51,0.31,3.95,6.2,59.14,71.58,12.22,38.0,50.05,60.82,16.48,12.84,13.9,56.08,1.91,0.83,0.42,0.51,18.48,13.01,2.94,0.57,0.57,0.5,12.2,3.94,0.93,0.71,14.08,2.66,5.23,3.95,13.38,13.4,8.39,5.3,10.14,3.82,6.0,50.08,23.93,52.69,67.66,9.74,13.15,13.44,14.56,18.99,15.05,57.71,58.63,12.15,45.38,0.81,0.93,3.03,7.3,27.09,46.14,48.44,19.71,56.94,64.74,68.41,44.17,50.65,57.7,53.8,54.94,33.35,63.36,60.86,16.44,28.78,28.58,47.39,38.61,25.03,58.3,84.26,33.92,29.92,9.92,4.86,46.13,41.29,37.96,43.28,2.57,34.22,35.02,29.63,28.0,22.71,5.05,35.49,37.12,15.02,3.67,2.46,19.87,13.0,19.79,13.47,23.07,6.55,48.47,24.66,26.46,29.69,70.82,24.79,23.25,23.16,19.31,12.45,32.74,5.99,9.86,10.11,4.01,9.22,5.04,13.96,27.62,7.22,15.84,16.31,2.41,2.67,1.68,1.21,3.22,17.23,11.16,39.77,31.82,63.19,42.46,53.81,8.51,5.25,24.17,8.24,11.83,12.66,3.2,2.26,4.01,2.67,2.77,0.8,4.93,22.97,27.61,21.78,23.03,34.67,30.73,4.7,4.62,5.16,5.68,7.23,7.45,2.34,3.66,11.93,7.22,8.47,24.94,31.1,11.09,19.97,15.83,11.22,15.59,30.15,17.58,45.77,30.27,8.28,55.29,11.27,43.36,10.6,82.82,39.56,46.74,13.78,28.25,18.67,50.19,1.97,46.3,10.08,28.09,31.63,44.01,3.6,1.09,12.34,36.24,44.0,13.17,40.45,37.53,30.14,46.14,35.35,6.53,32.23,5.54,5.06,6.22,9.47,2.611,2.68,1.94,96.97,0.78,8.16,3.06,3.86,25.57,29.9,38.82,35.29,7.91,4.37,8.99,9.47,4.29,3.88,10.58,12.18,14.18,55.17,69.44,5.29,21.76,33.48,34.82,31.46,36.38,16.82,11.4,1.07,6.37,60.84,25.51,69.14,35.61,20.15,1.44,8.03,1.51,1.28,1.85,3.72,4.07],\"y\":[24.990276,29.81242,56.975563,42.96978,7.7575264,4.9067764,13.224732,6.8476977,13.496882,28.025126,6.969483,21.93215,21.622698,28.795204,2.70149,6.981274,5.8841534,10.141365,3.5310671,6.599311,8.720042,8.031941,14.334418,0.87561274,18.78228,49.339813,49.61963,16.550495,11.870957,1.5277094,55.281437,6.0897274,6.7884045,14.090117,17.337023,2.4411666,26.932926,8.8931875,14.515968,3.3227403,25.041578,16.657911,25.035452,0.41214067,8.991155,7.8727236,10.017545,13.008492,6.0707827,25.280125,1.155723,16.55207,12.634367,19.38949,17.882626,5.240877,8.952433,26.998873,10.121339,12.5539665,5.7433643,3.6161883,6.927442,16.402855,2.3454564,1.9430792,9.772111,9.294083,21.658354,22.061039,21.334225,17.614523,11.01156,34.210674,13.150062,3.7988405,49.924313,55.436707,57.278275,20.491062,49.930923,4.097555,20.708155,16.264675,13.512831,20.693743,9.229932,16.66766,15.64266,13.911525,16.250673,3.3748055,25.86647,49.020428,42.043537,30.516249,45.4684,29.021538,37.30972,62.40354,7.8403163,9.023256,12.781553,15.8254595,13.207943,17.003485,56.477203,28.891893,50.095592,13.256102,9.814866,7.960056,8.498239,39.53086,34.245335,38.64849,36.056713,27.687716,5.2078876,16.269987,10.369457,9.046221,5.8824267,22.797558,61.31727,15.518936,7.326542,7.938301,7.304704,39.935596,26.535753,10.81474,10.465071,26.870295,27.370214,10.562712,15.965818,6.920512,5.191965,5.547336,3.4291713,13.600285,8.580624,8.029152,66.19052,67.50805,8.588589,21.669365,42.468025,54.258286,26.128393,25.441496,15.174197,35.327305,22.671467,10.493593,5.687188,2.3836863,28.803604,29.721235,5.418353,1.42102,-1.1435652,8.024839,10.203462,9.202659,4.8915076,5.0919952,1.6387181,5.674627,2.252057,3.5904622,7.4174113,5.7002964,3.884353,4.83488,23.0935,10.084626,12.260221,50.868774,31.48371,42.65654,61.91732,10.41832,10.529072,14.652052,13.340463,22.604263,20.447834,54.101315,53.15973,8.862647,38.88514,1.3683407,1.7556566,5.308145,3.3240805,17.208138,26.989948,55.69431,11.792685,59.786804,52.62824,55.209854,55.03481,50.513847,50.570477,54.0902,38.021168,16.413202,68.79502,62.937176,22.913015,47.26097,32.09033,57.647995,49.040745,48.447063,56.50097,65.321785,33.73052,26.912146,10.492866,11.607865,37.586533,20.53812,37.324535,40.023396,14.410876,24.505468,22.518423,23.16422,25.858032,37.264786,4.9918003,50.274185,52.221996,46.790546,29.51382,9.487835,19.08741,30.676441,37.51629,28.903172,33.809494,10.971923,41.209248,35.282066,43.566273,17.99183,53.318825,12.803058,37.159214,15.605756,25.256063,37.657528,41.600044,5.028863,4.2707906,8.034521,10.908641,1.69328,10.902301,3.7960434,18.371714,6.2210064,5.841395,12.406087,2.8106964,6.8360014,0.54026246,4.0712047,12.333981,9.245741,5.149651,41.91418,47.429268,44.923637,15.63918,49.249012,5.2729583,9.029963,5.8992085,9.691032,10.212015,6.123473,2.0734744,1.3792465,4.6742435,1.2656814,2.5621016,2.1534135,5.686787,48.602306,35.36957,22.422129,13.915641,20.487871,42.09074,6.8938103,3.1190102,23.299978,5.443636,6.5960155,2.3104546,4.399511,1.2677715,44.898933,8.806084,8.932556,6.9981937,16.349274,6.6811895,5.3898034,14.558052,11.081176,10.466927,30.918621,14.461918,42.0703,3.4766681,8.392193,13.537359,15.127856,52.40231,5.0821304,57.664223,20.610647,21.543095,10.068518,11.479848,22.613115,20.878698,1.2584906,59.1036,8.277188,54.04802,48.186283,45.060154,4.1433296,2.4290552,7.5265174,40.56315,26.873291,12.159668,64.960464,50.673607,53.26908,54.834225,31.351046,2.5964162,8.208897,1.8864738,8.416428,0.4363011,5.731074,4.8234386,2.844489,2.6350226,10.158153,-2.6066248,14.73375,2.9576442,2.0071318,22.140295,22.767202,37.091053,25.345604,1.3334675,6.5840044,6.829633,2.2612586,0.40431538,20.33867,7.8251348,5.8219223,5.144535,49.443607,46.691124,8.011356,29.127216,19.715317,24.73437,16.372398,20.164236,9.321796,15.638679,-0.2492496,9.548333,74.67416,41.09114,46.646538,48.270416,33.26973,7.317388,10.002113,2.3782792,2.6276522,0.5483426,4.2071095,4.0569367],\"mode\":\"markers\"},{\"type\":\"scattergl\",\"x\":[0.0,96.97],\"y\":[0.0,96.97],\"mode\":\"lines\"}];\n",
       "            var layout = {\"showlegend\":false,\"xaxis\":{\"title\":\"True Values\",\"_isSubplotObj\":true},\"yaxis\":{\"title\":\"Predicted Values\",\"_isSubplotObj\":true}};\n",
       "            Plotly.newPlot('bb72d745-ecf6-4610-bbbe-720839b54fa6', data, layout);\n",
       "        });\r\n",
       "};\r\n",
       "if ((typeof(requirejs) !==  typeof(Function)) || (typeof(requirejs.config) !== typeof(Function))) { \r\n",
       "    var script = document.createElement(\"script\"); \r\n",
       "    script.setAttribute(\"src\", \"https://cdnjs.cloudflare.com/ajax/libs/require.js/2.3.6/require.min.js\"); \r\n",
       "    script.onload = function(){\r\n",
       "        renderPlotly();\r\n",
       "    };\r\n",
       "    document.getElementsByTagName(\"head\")[0].appendChild(script); \r\n",
       "}\r\n",
       "else {\r\n",
       "    renderPlotly();\r\n",
       "}\r\n",
       "</script>"
      ]
     },
     "metadata": {},
     "output_type": "display_data"
    },
    {
     "data": {
      "text/plain": [
       "Do AutoML for K in 60 secs"
      ]
     },
     "metadata": {},
     "output_type": "display_data"
    },
    {
     "data": {
      "text/plain": [
       "Best Trainer:FastForestRegression"
      ]
     },
     "metadata": {},
     "output_type": "display_data"
    },
    {
     "data": {
      "text/plain": [
       "*************************************************"
      ]
     },
     "metadata": {},
     "output_type": "display_data"
    },
    {
     "data": {
      "text/plain": [
       "*       Metrics for regression model      "
      ]
     },
     "metadata": {},
     "output_type": "display_data"
    },
    {
     "data": {
      "text/plain": [
       "*------------------------------------------------"
      ]
     },
     "metadata": {},
     "output_type": "display_data"
    },
    {
     "data": {
      "text/plain": [
       "*       LossFn:        0.11"
      ]
     },
     "metadata": {},
     "output_type": "display_data"
    },
    {
     "data": {
      "text/plain": [
       "*       R2 Score:      0.16"
      ]
     },
     "metadata": {},
     "output_type": "display_data"
    },
    {
     "data": {
      "text/plain": [
       "*       Absolute loss: .2"
      ]
     },
     "metadata": {},
     "output_type": "display_data"
    },
    {
     "data": {
      "text/plain": [
       "*       Squared loss:  .11"
      ]
     },
     "metadata": {},
     "output_type": "display_data"
    },
    {
     "data": {
      "text/plain": [
       "*       RMS loss:      .33"
      ]
     },
     "metadata": {},
     "output_type": "display_data"
    },
    {
     "data": {
      "text/plain": [
       "*************************************************"
      ]
     },
     "metadata": {},
     "output_type": "display_data"
    },
    {
     "data": {
      "text/plain": [
       "=============== Saving the model  ==============="
      ]
     },
     "metadata": {},
     "output_type": "display_data"
    },
    {
     "data": {
      "text/plain": [
       "The model is saved to c:\\jobs\\BalitTanah.SoilSensingv2\\BalitTanah.SoilSensingKit.Modelv2\\Notebook\\..\\CSModel\\MLModels\\K.zip"
      ]
     },
     "metadata": {},
     "output_type": "display_data"
    },
    {
     "data": {
      "text/html": [
       "<div id=\"3552686d-3810-4567-be0f-17608b1d1a96\" style=\"width: 900px; height: 500px;\"></div><script type=\"text/javascript\">\r\n",
       "\r\n",
       "var renderPlotly = function() {\r\n",
       "    var xplotRequire = requirejs.config({context:'xplot-2.0.0',paths:{plotly:'https://cdn.plot.ly/plotly-1.49.2.min'}});\r\n",
       "    xplotRequire(['plotly'], function(Plotly) {\r\n",
       "\n",
       "            var data = [{\"type\":\"scattergl\",\"x\":[3.1091751,1.8728817,0.8290491999999999,1.3333579],\"y\":[0.21812626345267705,0.21212533185141044,0.25767300542184085,0.21672966879968708],\"mode\":\"markers\",\"marker\":{\"size\":12},\"name\":\"SdcaRegression\"},{\"type\":\"scattergl\",\"x\":[4.9488962],\"y\":[0.20949170588105284],\"mode\":\"markers\",\"marker\":{\"size\":12},\"name\":\"LightGbmRegression\"},{\"type\":\"scattergl\",\"x\":[7.53899],\"y\":[0.23553572367162032],\"mode\":\"markers\",\"marker\":{\"size\":12},\"name\":\"FastTreeRegression\"},{\"type\":\"scattergl\",\"x\":[7.3685826],\"y\":[0.19423624465393052],\"mode\":\"markers\",\"marker\":{\"size\":12},\"name\":\"FastTreeTweedieRegression\"},{\"type\":\"scattergl\",\"x\":[6.6640814,11.4990138,6.0455879999999995,13.990610499999999],\"y\":[0.1975184616086812,0.1988740213600726,0.21021700221402892,0.18669712725016524],\"mode\":\"markers\",\"marker\":{\"size\":12},\"name\":\"FastForestRegression\"},{\"type\":\"scattergl\",\"x\":[1.4336221,1.6178587,2.426665],\"y\":[0.2158667436624701,0.21506721246148552,0.17458288755141577],\"mode\":\"markers\",\"marker\":{\"size\":12},\"name\":\"LbfgsPoissonRegression\"},{\"type\":\"scattergl\",\"x\":[0.7832907],\"y\":[2109.3284301189633],\"mode\":\"markers\",\"marker\":{\"size\":12},\"name\":\"OnlineGradientDescentRegression\"}];\n",
       "            var layout = {\"xaxis\":{\"title\":\"Training Time\",\"_isSubplotObj\":true},\"yaxis\":{\"title\":\"Error\",\"_isSubplotObj\":true}};\n",
       "            Plotly.newPlot('3552686d-3810-4567-be0f-17608b1d1a96', data, layout);\n",
       "        });\r\n",
       "};\r\n",
       "if ((typeof(requirejs) !==  typeof(Function)) || (typeof(requirejs.config) !== typeof(Function))) { \r\n",
       "    var script = document.createElement(\"script\"); \r\n",
       "    script.setAttribute(\"src\", \"https://cdnjs.cloudflare.com/ajax/libs/require.js/2.3.6/require.min.js\"); \r\n",
       "    script.onload = function(){\r\n",
       "        renderPlotly();\r\n",
       "    };\r\n",
       "    document.getElementsByTagName(\"head\")[0].appendChild(script); \r\n",
       "}\r\n",
       "else {\r\n",
       "    renderPlotly();\r\n",
       "}\r\n",
       "</script>"
      ]
     },
     "metadata": {},
     "output_type": "display_data"
    },
    {
     "data": {
      "text/html": [
       "<div id=\"8acfa46f-145a-48d5-b8aa-39c97b509c05\" style=\"width: 600px; height: 600px;\"></div><script type=\"text/javascript\">\r\n",
       "\r\n",
       "var renderPlotly = function() {\r\n",
       "    var xplotRequire = requirejs.config({context:'xplot-2.0.0',paths:{plotly:'https://cdn.plot.ly/plotly-1.49.2.min'}});\r\n",
       "    xplotRequire(['plotly'], function(Plotly) {\r\n",
       "\n",
       "            var data = [{\"type\":\"scattergl\",\"x\":[1.06,0.13,0.55,0.27,0.04,0.04,0.17,0.32,0.32,0.29,0.18,0.38,0.47,0.68,0.05,0.23,0.19,0.31,0.34,0.09,0.09,0.28,0.08,0.05,0.07,0.24,0.22,0.09,0.06,0.1,0.31,0.04,0.08,0.31,0.08,0.03,0.12,0.24,0.48,0.15,0.05,0.35,0.07,0.02,0.13,0.1,0.39,0.17,0.03,0.2,0.06,0.29,0.41,0.21,0.05,0.05,0.15,0.24,0.55,0.27,0.07,0.01,0.02,0.03,0.03,0.04,0.03,0.01,0.1,0.06,0.06,0.03,0.02,0.07,0.04,0.12,0.16,0.16,0.2,0.18,0.24,0.02,0.06,0.19,0.04,0.05,0.13,0.05,0.07,0.07,0.06,0.12,0.48,0.42,0.28,0.3,1.92,0.77,0.35,0.41,0.17,0.06,0.3,0.56,0.04,0.29,0.07,0.12,0.61,0.22,0.11,0.11,0.13,0.15,0.1,0.13,0.21,0.1,0.11,0.03,0.07,0.17,0.25,0.13,0.15,0.06,0.39,0.11,0.09,0.14,0.73,0.08,0.1,0.06,0.06,0.27,0.14,0.24,0.41,0.22,0.01,0.02,0.14,0.07,0.72,0.11,0.05,0.04,0.32,0.28,0.12,0.07,0.06,0.1,0.06,0.01,0.04,0.01,0.33,0.65,0.05,0.01,0.01,0.02,0.22,0.11,0.05,0.05,0.13,0.08,0.08,0.08,0.25,0.22,0.27,0.1,0.09,0.06,0.1,1.34,1.07,0.27,0.24,0.06,0.07,0.06,0.07,0.07,0.12,0.34,0.25,0.91,0.24,0.02,0.03,0.08,0.09,0.34,3.68,3.36,0.16,0.29,0.26,0.25,0.86,0.93,0.46,0.37,0.4,0.13,0.26,0.22,1.0,0.31,0.13,0.3,0.77,0.45,0.39,0.49,1.07,0.17,0.37,0.02,0.2,0.21,0.19,0.18,0.16,1.16,0.55,0.09,0.35,0.22,0.05,0.26,0.26,0.05,0.05,0.08,0.34,0.28,0.08,0.21,0.13,0.51,0.21,0.06,0.06,0.11,0.41,0.08,1.27,0.21,0.26,0.43,0.1,0.77,0.71,0.19,0.04,0.05,0.09,0.23,0.22,0.04,1.18,1.06,0.06,0.13,0.04,0.01,0.05,0.41,0.29,0.07,0.04,0.14,0.08,0.07,0.08,0.04,0.09,0.17,3.21,0.3,0.03,0.05,0.07,0.05,0.04,0.05,0.04,0.68,0.39,0.07,0.12,0.16,0.21,0.05,0.03,0.04,0.03,0.14,0.04,0.03,0.02,0.1,0.24,0.06,0.13,0.05,0.06,1.14,0.05,0.06,0.33,0.09,0.19,0.21,0.11,0.05,0.08,0.04,0.5,0.67,1.99,2.02,0.67,0.1,0.31,1.33,0.87,0.02,0.31,0.08,0.64,0.06,0.1,0.07,0.03,0.78,1.85,1.32,0.05,0.21,0.1,0.11,0.36,0.21,0.04,0.18,0.03,0.05,0.17,0.48,0.07,0.04,0.06,1.73,0.05,0.37,0.21,0.35,0.1,0.13,0.09,0.16,0.01,0.02,0.03,0.14,0.02,0.07,0.04,0.13,0.69,0.16,0.11,0.05,0.36,0.23,0.24,0.69,0.71,0.34,0.1,0.04,0.05,0.59,0.64,0.5,0.06,0.5,0.05,0.46,0.03,0.01,0.02,0.05,0.07],\"y\":[0.4601332,0.25745198,0.45926678,0.37913844,0.23372765,0.08395928,0.4666703,0.32216305,0.28300932,0.27152434,0.17298391,0.347456,0.4577868,0.3919351,0.29956502,0.18073729,0.14286917,0.16138063,0.25505862,0.11914038,0.18342863,0.19097957,0.25322223,0.32285202,0.24592334,0.30854404,0.5191056,0.2596027,0.21940947,0.29930717,0.30655858,0.19283746,0.15015294,0.18278402,0.16304724,0.0801711,0.20912239,0.16492262,0.36778766,0.30167046,0.258809,0.60478777,0.26174855,0.17074884,0.16502355,0.17772666,0.11914038,0.11914038,0.11830126,0.22889361,0.18514414,0.25574547,0.24156423,0.20048757,0.17770806,0.18859617,0.21729678,0.17170961,0.11847053,0.11847053,0.08991785,0.11997801,0.12231943,0.2546116,0.080231495,0.09368148,0.43667924,0.11914038,0.44560638,0.1666785,0.22100382,0.19000192,0.1774082,0.2963281,0.2712686,0.18690495,0.3427756,0.4035196,0.28421602,0.3375781,0.27393863,0.18974903,0.20645005,0.2189843,0.12512688,0.1881752,0.15480909,0.18686281,0.21293093,0.18645197,0.20253208,0.25032538,0.33091435,0.44005263,0.43259078,0.2596589,0.4049465,0.24577184,0.3646484,0.30474856,0.45570034,0.31596223,0.58914316,0.6657122,0.29445872,0.52358776,0.42122552,0.44667357,0.31134847,0.30830586,0.21419972,0.22968006,0.1376062,0.30889767,0.19679616,0.19886398,0.3801602,0.35575497,0.24226905,0.26287365,0.25746545,0.2643263,0.15362836,0.17014681,0.27925786,0.25836554,0.11914038,0.11914038,0.11914038,0.31208456,0.30357575,0.17202854,0.16690941,0.17704445,0.17202255,0.16163899,0.23458609,0.1557435,0.23667744,0.23274225,0.12469696,0.13758062,0.15485793,0.16109523,0.4167208,0.2907046,0.111055985,0.34862223,0.31600586,0.23856232,0.4856168,0.24150944,0.13890879,0.33458018,0.23068835,0.34572753,0.11730605,0.07961044,0.2666695,0.2112331,0.20023978,0.07923629,0.07923629,0.08392046,0.16779925,0.080231495,0.082812816,0.08243867,0.080231495,0.080231495,0.07923629,0.07923629,0.13564415,0.14751531,0.080231495,0.08917947,0.21857458,0.21262667,0.21786712,0.39576185,0.54485023,0.33337247,0.40300235,0.17111397,0.17992237,0.15700147,0.13011013,0.27336362,0.25165215,0.53368694,0.6351392,0.20791721,0.4250954,0.07923629,0.14871632,0.28101987,0.34725085,0.29496402,0.2867308,0.69111854,0.26387966,0.4366869,0.41253984,0.44526958,0.28038594,0.4028518,0.49232036,0.35637242,0.28171593,0.15661259,0.28268242,0.31106615,0.25555533,0.44240448,0.35864478,0.3961453,0.3491742,0.3663034,0.39986825,0.455881,0.31665573,0.39399505,0.23673819,0.42117205,0.39260226,0.39094874,0.25610295,0.2627804,0.299168,0.6080019,0.50928,0.22414416,0.26344782,0.33192262,0.08890624,0.21364552,0.22498755,0.34090453,0.4332465,0.7079889,0.23872395,0.32450992,0.30122775,0.23725441,0.3300353,0.25392836,0.3638682,0.23066345,0.4163572,0.19390865,0.35773784,0.16562389,0.23262884,0.18337993,0.21703047,0.26992196,0.23209292,0.11797289,0.14636189,0.19524774,0.2649328,0.12191455,0.29361138,0.097226344,0.20956972,0.13873155,0.16566615,0.3706443,0.080231495,0.084587425,0.07923629,0.08335447,0.24844556,0.16916825,0.16869621,0.36300874,0.27019826,0.34253284,0.26802295,0.46638253,0.090888165,0.16501719,0.09368148,0.12137601,0.1595225,0.15687165,0.083393976,0.07923629,0.12296546,0.080231495,0.07923629,0.080231495,0.080231495,0.24819185,0.4125423,0.3167222,0.39931357,0.5552305,0.35384193,0.08495449,0.085938185,0.4894606,0.14319667,0.0957224,0.120518446,0.09368148,0.09905099,0.3171753,0.22659178,0.1632052,0.40193078,0.40002105,0.23135023,0.30441764,0.189846,0.23507829,0.43059236,0.32355404,0.17101729,0.47425184,0.19469209,0.08526139,0.16945776,0.223882,0.33085907,0.8580159,0.36605152,0.5187115,0.24039024,0.16588478,0.32866982,0.7212826,0.32531074,0.080231495,0.39560887,0.37873095,0.5038009,0.4281639,0.29141438,0.3288364,0.09068159,0.7945446,0.3355405,0.6893273,0.24779797,0.33922532,0.311341,0.34162873,0.35144094,0.32318038,0.110116154,0.25785646,0.08011095,0.0950522,0.40574402,0.40715107,0.07923629,0.07923629,0.07923629,0.12670985,0.07923629,0.30283904,0.42369574,0.1386611,0.4314274,0.24420369,0.41971982,0.24973524,0.26095983,0.44728565,0.28332618,0.51933855,0.34185255,0.37881213,0.1230139,0.17095612,0.2824339,0.31844565,0.25807178,0.33334464,0.28969106,0.5875643,0.30217427,0.30653557,0.45090297,0.7847702,0.2734261,0.13523692,0.16197798,0.2966116,0.39612216,0.3081325,0.43297943,0.5679296,0.080231495,0.17834866,0.096138135,0.080231495,0.080231495,0.14967816,0.17119475],\"mode\":\"markers\"},{\"type\":\"scattergl\",\"x\":[0.0,3.68],\"y\":[0.0,3.68],\"mode\":\"lines\"}];\n",
       "            var layout = {\"showlegend\":false,\"xaxis\":{\"title\":\"True Values\",\"_isSubplotObj\":true},\"yaxis\":{\"title\":\"Predicted Values\",\"_isSubplotObj\":true}};\n",
       "            Plotly.newPlot('8acfa46f-145a-48d5-b8aa-39c97b509c05', data, layout);\n",
       "        });\r\n",
       "};\r\n",
       "if ((typeof(requirejs) !==  typeof(Function)) || (typeof(requirejs.config) !== typeof(Function))) { \r\n",
       "    var script = document.createElement(\"script\"); \r\n",
       "    script.setAttribute(\"src\", \"https://cdnjs.cloudflare.com/ajax/libs/require.js/2.3.6/require.min.js\"); \r\n",
       "    script.onload = function(){\r\n",
       "        renderPlotly();\r\n",
       "    };\r\n",
       "    document.getElementsByTagName(\"head\")[0].appendChild(script); \r\n",
       "}\r\n",
       "else {\r\n",
       "    renderPlotly();\r\n",
       "}\r\n",
       "</script>"
      ]
     },
     "metadata": {},
     "output_type": "display_data"
    },
    {
     "data": {
      "text/plain": [
       "Do AutoML for KB_adjusted in 60 secs"
      ]
     },
     "metadata": {},
     "output_type": "display_data"
    },
    {
     "data": {
      "text/plain": [
       "Best Trainer:LightGbmRegression"
      ]
     },
     "metadata": {},
     "output_type": "display_data"
    },
    {
     "data": {
      "text/plain": [
       "*************************************************"
      ]
     },
     "metadata": {},
     "output_type": "display_data"
    },
    {
     "data": {
      "text/plain": [
       "*       Metrics for regression model      "
      ]
     },
     "metadata": {},
     "output_type": "display_data"
    },
    {
     "data": {
      "text/plain": [
       "*------------------------------------------------"
      ]
     },
     "metadata": {},
     "output_type": "display_data"
    },
    {
     "data": {
      "text/plain": [
       "*       LossFn:        429.35"
      ]
     },
     "metadata": {},
     "output_type": "display_data"
    },
    {
     "data": {
      "text/plain": [
       "*       R2 Score:      0.54"
      ]
     },
     "metadata": {},
     "output_type": "display_data"
    },
    {
     "data": {
      "text/plain": [
       "*       Absolute loss: 15.1"
      ]
     },
     "metadata": {},
     "output_type": "display_data"
    },
    {
     "data": {
      "text/plain": [
       "*       Squared loss:  429.35"
      ]
     },
     "metadata": {},
     "output_type": "display_data"
    },
    {
     "data": {
      "text/plain": [
       "*       RMS loss:      20.72"
      ]
     },
     "metadata": {},
     "output_type": "display_data"
    },
    {
     "data": {
      "text/plain": [
       "*************************************************"
      ]
     },
     "metadata": {},
     "output_type": "display_data"
    },
    {
     "data": {
      "text/plain": [
       "=============== Saving the model  ==============="
      ]
     },
     "metadata": {},
     "output_type": "display_data"
    },
    {
     "data": {
      "text/plain": [
       "The model is saved to c:\\jobs\\BalitTanah.SoilSensingv2\\BalitTanah.SoilSensingKit.Modelv2\\Notebook\\..\\CSModel\\MLModels\\KB_adjusted.zip"
      ]
     },
     "metadata": {},
     "output_type": "display_data"
    },
    {
     "data": {
      "text/html": [
       "<div id=\"8bd22c49-8b01-4700-b633-e1db2c89e752\" style=\"width: 900px; height: 500px;\"></div><script type=\"text/javascript\">\r\n",
       "\r\n",
       "var renderPlotly = function() {\r\n",
       "    var xplotRequire = requirejs.config({context:'xplot-2.0.0',paths:{plotly:'https://cdn.plot.ly/plotly-1.49.2.min'}});\r\n",
       "    xplotRequire(['plotly'], function(Plotly) {\r\n",
       "\n",
       "            var data = [{\"type\":\"scattergl\",\"x\":[4.748239,1.5688464,1.6485516999999998],\"y\":[18.205103498238785,18.257089556791843,18.240215276041603],\"mode\":\"markers\",\"marker\":{\"size\":12},\"name\":\"SdcaRegression\"},{\"type\":\"scattergl\",\"x\":[6.0270155,16.3349422,22.159696699999998],\"y\":[16.307214413659047,15.983738842657058,15.102109144473898],\"mode\":\"markers\",\"marker\":{\"size\":12},\"name\":\"LightGbmRegression\"},{\"type\":\"scattergl\",\"x\":[7.6755303999999995,3.9850998],\"y\":[15.26563558133982,52.76657900163683],\"mode\":\"markers\",\"marker\":{\"size\":12},\"name\":\"FastTreeRegression\"},{\"type\":\"scattergl\",\"x\":[7.4758621],\"y\":[16.161383594315627],\"mode\":\"markers\",\"marker\":{\"size\":12},\"name\":\"FastTreeTweedieRegression\"},{\"type\":\"scattergl\",\"x\":[6.716144099999999],\"y\":[16.923733711242676],\"mode\":\"markers\",\"marker\":{\"size\":12},\"name\":\"FastForestRegression\"},{\"type\":\"scattergl\",\"x\":[1.7025139999999999],\"y\":[18.612426031349052],\"mode\":\"markers\",\"marker\":{\"size\":12},\"name\":\"LbfgsPoissonRegression\"},{\"type\":\"scattergl\",\"x\":[0.7549884],\"y\":[154721.562703815],\"mode\":\"markers\",\"marker\":{\"size\":12},\"name\":\"OnlineGradientDescentRegression\"}];\n",
       "            var layout = {\"xaxis\":{\"title\":\"Training Time\",\"_isSubplotObj\":true},\"yaxis\":{\"title\":\"Error\",\"_isSubplotObj\":true}};\n",
       "            Plotly.newPlot('8bd22c49-8b01-4700-b633-e1db2c89e752', data, layout);\n",
       "        });\r\n",
       "};\r\n",
       "if ((typeof(requirejs) !==  typeof(Function)) || (typeof(requirejs.config) !== typeof(Function))) { \r\n",
       "    var script = document.createElement(\"script\"); \r\n",
       "    script.setAttribute(\"src\", \"https://cdnjs.cloudflare.com/ajax/libs/require.js/2.3.6/require.min.js\"); \r\n",
       "    script.onload = function(){\r\n",
       "        renderPlotly();\r\n",
       "    };\r\n",
       "    document.getElementsByTagName(\"head\")[0].appendChild(script); \r\n",
       "}\r\n",
       "else {\r\n",
       "    renderPlotly();\r\n",
       "}\r\n",
       "</script>"
      ]
     },
     "metadata": {},
     "output_type": "display_data"
    },
    {
     "data": {
      "text/html": [
       "<div id=\"e3b4e378-f4f8-4702-be8e-ba499a84ad73\" style=\"width: 600px; height: 600px;\"></div><script type=\"text/javascript\">\r\n",
       "\r\n",
       "var renderPlotly = function() {\r\n",
       "    var xplotRequire = requirejs.config({context:'xplot-2.0.0',paths:{plotly:'https://cdn.plot.ly/plotly-1.49.2.min'}});\r\n",
       "    xplotRequire(['plotly'], function(Plotly) {\r\n",
       "\n",
       "            var data = [{\"type\":\"scattergl\",\"x\":[100.0,99.91016,100.0,100.0,100.0,22.108576,2.2883296,2.9262583,3.553976,100.0,100.0,100.0,100.0,100.0,29.0,50.0,28.0,31.0,18.0,44.0,72.0,89.0,6.0,5.0,83.0,100.0,100.0,91.0,12.0,36.0,100.0,19.0,78.95221,72.25286,71.491875,32.23301,100.0,100.0,87.12241,42.8702,100.0,100.0,11.0,20.0,14.412071,14.930764,23.005566,13.741223,25.137363,100.0,23.796232,20.056023,33.65327,100.0,100.0,30.03413,66.6113,87.840805,29.426949,30.30465,36.87107,39.178356,30.352304,60.204697,86.666664,16.506718,2.6704545,21.003344,100.0,48.798603,33.04786,37.704918,48.393574,100.0,49.25373,39.548695,100.0,100.0,100.0,57.249626,71.70474,42.130623,62.354893,59.174965,38.29787,55.38877,29.574774,56.542427,66.95728,70.79002,78.8499,32.616306,100.0,100.0,100.0,100.0,84.74436,100.0,100.0,100.0,100.0,100.0,100.0,100.0,100.0,100.0,100.0,100.0,100.0,85.0,69.0,92.0,85.0,91.0,100.0,100.0,100.0,6.679093,3.8750494,3.11804,13.175148,21.366674,64.948456,100.0,100.0,51.149048,52.352047,47.779022,44.680088,100.0,100.0,60.303474,61.88862,93.26524,99.16416,46.948997,70.317726,72.65936,32.771084,34.162437,6.901218,45.588234,37.193974,73.28605,100.0,100.0,100.0,100.0,100.0,100.0,100.0,100.0,100.0,100.0,21.175167,24.62908,3.7366548,7.6576576,100.0,76.12639,44.545456,50.44248,48.71795,74.62687,100.0,46.462265,8.52429,10.725076,100.0,56.71642,90.328156,78.842316,100.0,93.18498,100.0,100.0,100.0,79.583336,79.051384,100.0,100.0,100.0,100.0,52.169254,75.83622,81.60291,89.6,100.0,98.68852,100.0,100.0,95.89582,100.0,27.931034,23.019802,100.0,100.0,100.0,100.0,100.0,100.0,100.0,100.0,100.0,100.0,100.0,100.0,100.0,100.0,100.0,100.0,100.0,66.37061,100.0,100.0,100.0,100.0,100.0,100.0,100.0,100.0,100.0,89.0,100.0,98.0,100.0,100.0,100.0,100.0,100.0,100.0,100.0,95.0,94.0,47.0,85.0,80.0,100.0,44.59295,26.94414,66.16717,52.88853,85.41217,60.40359,85.57122,70.73434,100.0,53.43445,100.0,76.30429,100.0,100.0,87.04605,100.0,48.84898,43.03491,92.25134,66.40798,67.25784,66.86508,48.08153,70.06079,41.96503,56.58695,100.0,45.35176,61.44298,80.86267,41.91304,36.37602,31.75803,42.16028,47.28341,71.28672,58.06452,94.60038,93.892,100.0,100.0,100.0,54.44658,40.98361,100.0,46.18834,60.32636,33.65231,48.78049,41.24088,33.92555,57.66739,47.26962,8.537887,67.44186,100.0,100.0,89.59276,78.73504,94.52017,100.0,52.92793,68.85246,58.04274,70.47146,58.30645,61.82573,56.6586,60.8985,75.12594,72.41725,71.23633,84.31373,100.0,62.16368,65.69079,76.0692,69.21653,69.13525,81.61884,67.45971,100.0,65.79005,45.07349,100.0,66.48968,100.0,81.10176,100.0,100.0,100.0,68.42105,86.89634,81.63533,100.0,29.62406,100.0,58.43478,71.82306,100.0,100.0,23.37662,17.95717,93.0,100.0,100.0,56.0,100.0,100.0,100.0,100.0,100.0,59.09502,100.0,42.97905,47.06977,89.11175,84.93274,24.47866,24.29726,19.46117,100.0,18.56581,56.86411,48.03768,43.17673,75.96554,87.19743,87.41274,84.6486,65.64315,46.68803,46.19733,34.39884,20.60519,42.03684,35.98639,43.75,55.98105,100.0,100.0,35.5272,60.79911,88.548,100.0,85.88589,100.0,71.39219,58.13361,9.052453,39.98745,100.0,64.63137,100.0,100.0,86.55498,23.80984,47.59929,33.55556,28.00875,31.84165,43.61079,34.17296],\"y\":[68.75441,97.541374,98.27014,93.50324,81.54948,41.125458,79.174576,82.51145,49.894802,69.96827,55.58309,87.94816,90.350365,96.10288,35.220406,55.403454,43.700603,56.83967,41.943287,39.53963,64.86858,64.99443,23.860092,14.260701,66.52101,97.22449,96.61498,77.19221,78.95437,28.781088,91.93238,19.076889,61.625885,66.00863,58.248894,40.251682,77.96427,67.554306,61.043392,46.64973,76.14135,84.09035,77.48402,48.91149,49.796146,46.881416,41.131447,45.549034,31.114979,94.627144,38.254833,60.58986,66.26553,83.21866,91.21455,63.14535,55.851875,78.96887,49.799236,49.303913,59.658134,49.716278,44.049957,82.16953,36.54879,33.454567,47.60839,58.38223,95.0052,66.677536,70.18153,81.11101,57.073395,100.13146,82.34931,55.928883,89.35412,97.49926,87.39575,90.576454,87.45848,77.071915,77.31772,88.13239,37.56241,66.92446,47.07861,61.903282,91.928734,92.70225,69.791985,37.6947,89.667725,93.70622,99.74066,102.06214,92.653915,79.527855,98.82074,100.27809,90.105896,101.856186,101.743706,81.72444,95.820946,87.12221,99.123764,101.27869,97.94268,92.33507,47.521572,67.67034,63.28087,83.81793,87.82009,82.16906,95.38463,55.614464,27.57847,76.38831,17.982182,86.021515,54.783943,87.49002,93.571526,72.82291,60.667557,35.59739,48.636623,97.76127,94.27267,69.73908,70.57153,86.38819,80.78022,81.03302,74.18355,43.273975,59.245174,65.81392,32.660072,51.02864,56.122345,58.6181,98.964836,99.287056,82.2652,106.62677,97.684685,99.79768,92.43662,93.978966,70.801254,99.30752,95.37076,48.784595,19.411161,41.974,95.13369,95.88462,66.83134,58.760414,53.942978,41.031475,79.7319,59.738316,37.05795,49.966747,44.586678,54.67621,45.315067,48.013027,70.74546,69.93005,75.43417,55.842804,95.554756,77.516754,82.62674,98.83481,101.34142,100.189316,100.41463,79.93661,62.436787,83.25506,62.732624,93.22934,84.79069,97.30572,97.70468,58.096706,97.686485,34.776867,45.76052,99.44595,99.51882,93.46671,98.62184,99.24259,85.96183,99.81248,96.51675,97.37831,95.57487,98.92609,97.31457,97.275185,100.743774,64.606026,99.312416,99.9185,94.26941,96.78046,101.908035,95.846756,101.016266,99.44743,100.80329,96.239136,99.13591,90.801056,65.83003,89.414024,97.4688,96.54406,94.772545,96.90839,46.047436,85.793465,96.11662,96.95983,91.13874,99.58885,51.445736,98.23071,100.21991,95.360306,73.83071,58.45342,56.316143,78.64725,94.778755,98.18875,98.685036,46.54114,97.75516,89.37052,99.03435,75.129715,95.42402,72.47289,60.782555,58.54069,50.890713,94.57585,99.41192,44.728077,56.011127,99.75318,69.22292,45.917427,82.37871,58.481388,71.52831,60.383015,49.994617,79.50541,52.570408,32.906326,40.5018,38.898163,57.06062,74.00389,56.29161,85.11297,98.78645,94.85704,61.67415,97.66224,49.84349,70.27149,68.66762,54.453953,62.148205,66.192986,52.514416,63.98815,70.23665,60.436028,50.684475,44.62966,64.29306,74.099236,100.38493,98.22111,95.36884,96.095634,94.60629,52.588024,55.72401,96.902306,82.5096,59.80224,69.55052,67.0453,42.363945,94.90514,73.299194,68.4675,81.56065,75.4535,61.122524,60.796375,76.08052,77.53017,52.003674,89.13904,62.96553,101.34586,44.635754,53.30289,66.05014,78.44252,88.39798,71.98878,98.95027,98.76545,84.660416,71.6832,86.74358,93.15146,93.40287,53.84566,99.781525,81.77815,86.9017,96.20928,90.36995,32.867786,58.041485,67.212166,97.70134,87.82626,82.91548,97.78021,99.11451,93.59909,98.12219,90.39656,63.695316,101.29511,41.529564,56.963104,78.2534,66.51825,43.261837,41.41093,37.22882,47.71271,32.902435,89.95806,49.508583,49.300564,96.84174,97.201324,95.372986,98.57609,74.367966,76.95887,71.2143,67.32277,48.65277,72.06009,56.605965,38.30817,71.60878,88.63468,66.81716,72.67285,66.83088,99.6247,95.83587,92.75963,97.04396,72.617,58.425365,46.568306,67.52642,99.07948,81.482994,89.502266,92.12292,96.33292,62.50416,52.158146,49.195328,45.433067,52.971138,54.032013,39.445923],\"mode\":\"markers\"},{\"type\":\"scattergl\",\"x\":[0.0,106.62677],\"y\":[0.0,106.62677],\"mode\":\"lines\"}];\n",
       "            var layout = {\"showlegend\":false,\"xaxis\":{\"title\":\"True Values\",\"_isSubplotObj\":true},\"yaxis\":{\"title\":\"Predicted Values\",\"_isSubplotObj\":true}};\n",
       "            Plotly.newPlot('e3b4e378-f4f8-4702-be8e-ba499a84ad73', data, layout);\n",
       "        });\r\n",
       "};\r\n",
       "if ((typeof(requirejs) !==  typeof(Function)) || (typeof(requirejs.config) !== typeof(Function))) { \r\n",
       "    var script = document.createElement(\"script\"); \r\n",
       "    script.setAttribute(\"src\", \"https://cdnjs.cloudflare.com/ajax/libs/require.js/2.3.6/require.min.js\"); \r\n",
       "    script.onload = function(){\r\n",
       "        renderPlotly();\r\n",
       "    };\r\n",
       "    document.getElementsByTagName(\"head\")[0].appendChild(script); \r\n",
       "}\r\n",
       "else {\r\n",
       "    renderPlotly();\r\n",
       "}\r\n",
       "</script>"
      ]
     },
     "metadata": {},
     "output_type": "display_data"
    },
    {
     "data": {
      "text/plain": [
       "Do AutoML for KJELDAHL_N in 60 secs"
      ]
     },
     "metadata": {},
     "output_type": "display_data"
    },
    {
     "data": {
      "text/plain": [
       "Best Trainer:FastTreeRegression"
      ]
     },
     "metadata": {},
     "output_type": "display_data"
    },
    {
     "data": {
      "text/plain": [
       "*************************************************"
      ]
     },
     "metadata": {},
     "output_type": "display_data"
    },
    {
     "data": {
      "text/plain": [
       "*       Metrics for regression model      "
      ]
     },
     "metadata": {},
     "output_type": "display_data"
    },
    {
     "data": {
      "text/plain": [
       "*------------------------------------------------"
      ]
     },
     "metadata": {},
     "output_type": "display_data"
    },
    {
     "data": {
      "text/plain": [
       "*       LossFn:        0"
      ]
     },
     "metadata": {},
     "output_type": "display_data"
    },
    {
     "data": {
      "text/plain": [
       "*       R2 Score:      0.45"
      ]
     },
     "metadata": {},
     "output_type": "display_data"
    },
    {
     "data": {
      "text/plain": [
       "*       Absolute loss: .05"
      ]
     },
     "metadata": {},
     "output_type": "display_data"
    },
    {
     "data": {
      "text/plain": [
       "*       Squared loss:  "
      ]
     },
     "metadata": {},
     "output_type": "display_data"
    },
    {
     "data": {
      "text/plain": [
       "*       RMS loss:      .07"
      ]
     },
     "metadata": {},
     "output_type": "display_data"
    },
    {
     "data": {
      "text/plain": [
       "*************************************************"
      ]
     },
     "metadata": {},
     "output_type": "display_data"
    },
    {
     "data": {
      "text/plain": [
       "=============== Saving the model  ==============="
      ]
     },
     "metadata": {},
     "output_type": "display_data"
    },
    {
     "data": {
      "text/plain": [
       "The model is saved to c:\\jobs\\BalitTanah.SoilSensingv2\\BalitTanah.SoilSensingKit.Modelv2\\Notebook\\..\\CSModel\\MLModels\\KJELDAHL_N.zip"
      ]
     },
     "metadata": {},
     "output_type": "display_data"
    },
    {
     "data": {
      "text/html": [
       "<div id=\"6c02eca9-514f-4c94-bfa3-191cbdd028ac\" style=\"width: 900px; height: 500px;\"></div><script type=\"text/javascript\">\r\n",
       "\r\n",
       "var renderPlotly = function() {\r\n",
       "    var xplotRequire = requirejs.config({context:'xplot-2.0.0',paths:{plotly:'https://cdn.plot.ly/plotly-1.49.2.min'}});\r\n",
       "    xplotRequire(['plotly'], function(Plotly) {\r\n",
       "\n",
       "            var data = [{\"type\":\"scattergl\",\"x\":[2.8267238999999997],\"y\":[0.050561914771147395],\"mode\":\"markers\",\"marker\":{\"size\":12},\"name\":\"SdcaRegression\"},{\"type\":\"scattergl\",\"x\":[5.6376778,2.645066,2.6463816,2.2933679],\"y\":[0.048646203477097597,0.04704845401505798,0.04550901148468256,0.051366495102778215],\"mode\":\"markers\",\"marker\":{\"size\":12},\"name\":\"LightGbmRegression\"},{\"type\":\"scattergl\",\"x\":[7.7230506,3.5211973999999997,3.8833387,13.710818199999999],\"y\":[0.048564886381803465,0.09184165802314755,0.09069174808288409,0.04925746355691682],\"mode\":\"markers\",\"marker\":{\"size\":12},\"name\":\"FastTreeRegression\"},{\"type\":\"scattergl\",\"x\":[7.6169902],\"y\":[0.04445578060921066],\"mode\":\"markers\",\"marker\":{\"size\":12},\"name\":\"FastTreeTweedieRegression\"},{\"type\":\"scattergl\",\"x\":[7.1017255,4.465856,3.9468178999999997],\"y\":[0.049850429319169214,0.05773034567094368,0.053025047739481065],\"mode\":\"markers\",\"marker\":{\"size\":12},\"name\":\"FastForestRegression\"},{\"type\":\"scattergl\",\"x\":[1.2673851],\"y\":[0.053152257317434184],\"mode\":\"markers\",\"marker\":{\"size\":12},\"name\":\"LbfgsPoissonRegression\"},{\"type\":\"scattergl\",\"x\":[0.7841522],\"y\":[372.64719092239363],\"mode\":\"markers\",\"marker\":{\"size\":12},\"name\":\"OnlineGradientDescentRegression\"}];\n",
       "            var layout = {\"xaxis\":{\"title\":\"Training Time\",\"_isSubplotObj\":true},\"yaxis\":{\"title\":\"Error\",\"_isSubplotObj\":true}};\n",
       "            Plotly.newPlot('6c02eca9-514f-4c94-bfa3-191cbdd028ac', data, layout);\n",
       "        });\r\n",
       "};\r\n",
       "if ((typeof(requirejs) !==  typeof(Function)) || (typeof(requirejs.config) !== typeof(Function))) { \r\n",
       "    var script = document.createElement(\"script\"); \r\n",
       "    script.setAttribute(\"src\", \"https://cdnjs.cloudflare.com/ajax/libs/require.js/2.3.6/require.min.js\"); \r\n",
       "    script.onload = function(){\r\n",
       "        renderPlotly();\r\n",
       "    };\r\n",
       "    document.getElementsByTagName(\"head\")[0].appendChild(script); \r\n",
       "}\r\n",
       "else {\r\n",
       "    renderPlotly();\r\n",
       "}\r\n",
       "</script>"
      ]
     },
     "metadata": {},
     "output_type": "display_data"
    },
    {
     "data": {
      "text/html": [
       "<div id=\"3893c70d-d71c-44d2-95a8-458d5bb6e41e\" style=\"width: 600px; height: 600px;\"></div><script type=\"text/javascript\">\r\n",
       "\r\n",
       "var renderPlotly = function() {\r\n",
       "    var xplotRequire = requirejs.config({context:'xplot-2.0.0',paths:{plotly:'https://cdn.plot.ly/plotly-1.49.2.min'}});\r\n",
       "    xplotRequire(['plotly'], function(Plotly) {\r\n",
       "\n",
       "            var data = [{\"type\":\"scattergl\",\"x\":[0.09,0.17,0.05,0.06,0.04,0.05,0.48,0.33,0.25,0.1,0.04,0.03,0.09,0.13,0.12,0.16,0.09,0.04,0.13,0.06,0.04,0.06,0.21,0.31,0.05,0.05,0.05,0.11,0.05,0.07,0.04,0.06,0.38,0.1,0.03,0.03,0.11,0.04,0.1,0.06,0.04,0.04,0.03,0.01,0.15,0.12,0.06,0.05,0.12,0.11,0.09,0.07,0.07,0.14,0.11,0.11,0.15,0.22,0.04,0.04,0.06,0.03,0.03,0.07,0.11,0.22,0.18,0.09,0.03,0.1,0.16,0.1,0.1,0.22,0.07,0.27,0.12,0.12,0.08,0.13,0.04,0.08,0.1,0.14,0.06,0.05,0.08,0.18,0.09,0.04,0.08,0.12,0.07,0.07,0.11,0.13,0.06,0.06,0.12,0.09,0.34,0.18,0.39,0.18,0.04,0.03,0.07,0.03,0.02,0.06,0.06,0.06,0.11,0.1,0.01,0.06,0.04,0.17,0.14,0.12,0.1,0.1,0.04,0.04,0.12,0.07,0.04,0.07,0.06,0.2,0.05,0.1,0.11,0.05,0.12,0.11,0.2,0.08,0.02,0.02,0.07,0.02,0.1,0.17,0.03,0.06,0.02,0.12,0.1,0.05,0.04,0.12,0.04,0.06,0.05,0.04,0.09,0.04,0.02,0.03,0.01,0.01,0.01,0.02,0.1,0.23,0.27,0.32,0.05,0.05,0.05,0.06,0.01,0.09,0.07,0.09,0.05,0.03,0.08,0.03,0.15,0.06,0.05,0.02,0.05,0.06,0.06,0.07,0.05,0.08,0.06,0.24,0.09,0.15,0.07,0.13,0.04,0.12,0.07,0.09,0.07,0.07,0.09,0.11,0.05,0.04,0.04,0.03,0.23,0.02,0.19,0.14,0.13,0.05,0.07,0.01,0.07,0.32,0.09,0.09,0.08,0.09,0.05,0.09,0.13,0.05,0.04,0.03,0.29,0.13,0.11,0.17,0.05,0.06,0.12,0.04,0.03,0.02,0.03,0.2,0.06,0.15,0.15,0.12,0.1,0.14,0.11,0.2,0.02,0.1,0.09,0.06,0.23,0.21,0.22,0.14,0.32,0.1,0.13,0.42,0.08,0.18,0.2,0.28,0.46,0.14,0.18,0.2,0.08,0.08,0.05,0.02,0.07,0.16,0.07,0.21,0.25,0.14,0.06,0.14,0.32,0.14,0.41,0.28,0.57,0.1,0.14,0.1,0.06,0.17,0.12,0.11,0.11,0.1,0.14,0.1,0.11,0.2,0.12,0.14,0.09,0.19,0.15,0.09,0.05,0.07,0.11,0.04,0.12,0.08,0.13,0.05,0.11,0.07,0.11,0.18,0.25,0.09,0.13,0.05,0.12,0.12,0.12,0.2,0.08,0.32,0.17,0.01,0.04,0.05,0.11,0.13,0.1,0.19,0.3,0.1,0.12,0.05,0.06,0.11,0.16,0.2,0.22,0.11,0.08,0.39,0.08,0.15,0.19,0.15,0.26,0.14,0.14,0.11,0.09,0.15,0.18,0.08,0.1,0.12,0.15,0.16,0.05,0.11,0.1,0.03,0.17,0.15,0.17,0.03,0.06,0.12,0.37,0.31,0.21,0.24,0.06,0.07,0.07,0.06,0.06,0.09,0.08,0.06,0.07,0.16,0.07,0.15,0.13,0.09,0.03,0.41,0.13,0.08,0.12,0.12,0.03,0.12,0.08],\"y\":[0.09844494,0.07980559,0.07004871,0.06055344,0.10689027,0.07694481,0.31696492,0.09635506,0.11208055,0.14023435,0.091995366,0.117182225,0.097983226,0.094421715,0.10703036,0.10289903,0.08666176,0.07963617,0.07172478,0.092424735,0.09754818,0.08739655,0.2747672,0.28274402,0.1296527,0.10245589,0.11374681,0.1073035,0.088153064,0.15691067,0.0761364,0.21357517,0.13429931,0.10038908,0.06386821,0.061096605,0.11819451,0.082733564,0.11848179,0.095753245,0.085465856,0.09472029,0.08310838,0.05604004,0.19397117,0.19582415,0.07454329,0.06619818,0.096873626,0.0962797,0.08156415,0.117162675,0.09985953,0.07974613,0.06468166,0.08595185,0.08763121,0.14684233,0.080060765,0.06524107,0.103068344,0.06231853,0.04845188,0.110743605,0.096490495,0.13687725,0.1745871,0.055623624,0.097196735,0.08439703,0.07569645,0.07252104,0.08526209,0.10487275,0.1126366,0.29380062,0.16175282,0.13086219,0.10153699,0.108994514,0.06420282,0.063941374,0.07028076,0.14090401,0.06521054,0.08006644,0.082062505,0.13091159,0.09802075,0.11520036,0.10997965,0.12724634,0.101562075,0.0741016,0.0840053,0.084206454,0.08706839,0.0724692,0.10150835,0.07536476,0.30055046,0.14620739,0.19435705,0.22173364,0.09596856,0.09878472,0.09296612,0.10454757,0.055801585,0.08732597,0.10782174,0.09269667,0.10515555,0.112449706,0.085733816,0.100527495,0.084914595,0.2500216,0.2706271,0.09478759,0.08165627,0.11847737,0.06429039,0.08976335,0.09366114,0.105488166,0.07241047,0.06369168,0.069050826,0.09820893,0.09028433,0.11641866,0.09276026,0.10077738,0.07546046,0.094418354,0.10310668,0.076991245,0.10678939,0.07185087,0.24418825,0.030182619,0.10893289,0.115163535,0.113571845,0.067032546,0.09717615,0.10308771,0.08366763,0.11309396,0.10740212,0.080248706,0.12117907,0.08251992,0.13757934,0.064654894,0.08664796,0.09532898,0.06880286,0.081185505,0.04723774,0.09703093,0.15100668,0.08085945,0.059800263,0.0753743,0.14627779,0.060019605,0.034960426,0.08431935,0.10296006,0.04243537,0.08201976,0.10865608,0.1015973,0.053963915,0.08713621,0.07723519,0.09446336,0.064061396,0.10995272,0.088232584,0.10839964,0.09796506,0.12731618,0.11889376,0.10546153,0.1198764,0.121042766,0.090116136,0.11150653,0.33854178,0.096094236,0.14503111,0.07747791,0.18627228,0.12573327,0.11069661,0.13726385,0.10425385,0.0989602,0.105758876,0.1145393,0.09504813,0.11255205,0.11157061,0.07251673,0.10029292,0.09769567,0.08471409,0.10552159,0.10128988,0.08956695,0.08300005,0.07177056,0.088652976,0.121882066,0.11438045,0.103548944,0.08596231,0.085477136,0.097432315,0.090639025,0.17327923,0.1104955,0.1031411,0.1546438,0.20057519,0.34831262,0.12111212,0.13453373,0.11728912,0.07930621,0.124397814,0.09746915,0.09971344,0.094702445,0.09031606,0.122084245,0.14880568,0.12031913,0.09765739,0.11356854,0.17063056,0.11557789,0.12954646,0.06646147,0.29944122,0.06406547,0.09515672,0.12575795,0.07278447,0.14939456,0.15244994,0.13609965,0.08489674,0.3220873,0.08903617,0.15052444,0.34333134,0.13215192,0.22528219,0.25140187,0.15823726,0.38487834,0.14100964,0.14281614,0.14343394,0.15860358,0.13992198,0.112717316,0.12082936,0.12872708,0.105151035,0.05177414,0.11208366,0.13782218,0.12204904,0.09161211,0.166399,0.2079394,0.1277397,0.36512688,0.12706338,0.3667093,0.08172069,0.059991006,0.066604085,0.079118796,0.13305011,0.11367922,0.11498829,0.11525503,0.106163315,0.11495876,0.1016082,0.11163906,0.163794,0.41256896,0.124349244,0.08443984,0.28378,0.08994684,0.08415099,0.106016226,0.10138339,0.12474529,0.10139259,0.1427935,0.12200869,0.16152474,0.11797071,0.10334784,0.13022143,0.107270695,0.15760426,0.10882468,0.11704571,0.07544958,0.15273225,0.09990198,0.18356355,0.13054794,0.12576696,0.104607284,0.102580324,0.111793995,0.08057835,0.10842995,0.04059944,0.08006529,0.11514099,0.10908799,0.12017321,0.19020355,0.12099661,0.120981954,0.08697723,0.064481445,0.11696673,0.10447848,0.12593126,0.13130805,0.09195615,0.08777923,0.14998218,0.17756239,0.13938582,0.11816105,0.06579641,0.23673056,0.1904473,0.12075884,0.108171955,0.091112755,0.1616511,0.10573697,0.07647467,0.10486463,0.11644751,0.1032199,0.113939114,0.08193585,0.07663901,0.11886051,0.21153766,0.48174968,0.32883903,0.16991143,0.08956506,0.11562414,0.08479054,0.15748788,0.17068462,0.24147423,0.075229764,0.12784015,0.09927373,0.15844725,0.11591411,0.10023409,0.09295406,0.10285259,0.08029037,0.09613702,0.10802509,0.08833376,0.12783283,0.15438186,0.110991955,0.15429536,0.19541068,0.09904614,0.09666599,0.103068165,0.069726095,0.093139835,0.09634056,0.09412426],\"mode\":\"markers\"},{\"type\":\"scattergl\",\"x\":[0.0,0.57],\"y\":[0.0,0.57],\"mode\":\"lines\"}];\n",
       "            var layout = {\"showlegend\":false,\"xaxis\":{\"title\":\"True Values\",\"_isSubplotObj\":true},\"yaxis\":{\"title\":\"Predicted Values\",\"_isSubplotObj\":true}};\n",
       "            Plotly.newPlot('3893c70d-d71c-44d2-95a8-458d5bb6e41e', data, layout);\n",
       "        });\r\n",
       "};\r\n",
       "if ((typeof(requirejs) !==  typeof(Function)) || (typeof(requirejs.config) !== typeof(Function))) { \r\n",
       "    var script = document.createElement(\"script\"); \r\n",
       "    script.setAttribute(\"src\", \"https://cdnjs.cloudflare.com/ajax/libs/require.js/2.3.6/require.min.js\"); \r\n",
       "    script.onload = function(){\r\n",
       "        renderPlotly();\r\n",
       "    };\r\n",
       "    document.getElementsByTagName(\"head\")[0].appendChild(script); \r\n",
       "}\r\n",
       "else {\r\n",
       "    renderPlotly();\r\n",
       "}\r\n",
       "</script>"
      ]
     },
     "metadata": {},
     "output_type": "display_data"
    },
    {
     "data": {
      "text/plain": [
       "Do AutoML for KTK in 60 secs"
      ]
     },
     "metadata": {},
     "output_type": "display_data"
    },
    {
     "data": {
      "text/plain": [
       "Best Trainer:FastTreeRegression"
      ]
     },
     "metadata": {},
     "output_type": "display_data"
    },
    {
     "data": {
      "text/plain": [
       "*************************************************"
      ]
     },
     "metadata": {},
     "output_type": "display_data"
    },
    {
     "data": {
      "text/plain": [
       "*       Metrics for regression model      "
      ]
     },
     "metadata": {},
     "output_type": "display_data"
    },
    {
     "data": {
      "text/plain": [
       "*------------------------------------------------"
      ]
     },
     "metadata": {},
     "output_type": "display_data"
    },
    {
     "data": {
      "text/plain": [
       "*       LossFn:        54.37"
      ]
     },
     "metadata": {},
     "output_type": "display_data"
    },
    {
     "data": {
      "text/plain": [
       "*       R2 Score:      0.51"
      ]
     },
     "metadata": {},
     "output_type": "display_data"
    },
    {
     "data": {
      "text/plain": [
       "*       Absolute loss: 5.6"
      ]
     },
     "metadata": {},
     "output_type": "display_data"
    },
    {
     "data": {
      "text/plain": [
       "*       Squared loss:  54.37"
      ]
     },
     "metadata": {},
     "output_type": "display_data"
    },
    {
     "data": {
      "text/plain": [
       "*       RMS loss:      7.37"
      ]
     },
     "metadata": {},
     "output_type": "display_data"
    },
    {
     "data": {
      "text/plain": [
       "*************************************************"
      ]
     },
     "metadata": {},
     "output_type": "display_data"
    },
    {
     "data": {
      "text/plain": [
       "=============== Saving the model  ==============="
      ]
     },
     "metadata": {},
     "output_type": "display_data"
    },
    {
     "data": {
      "text/plain": [
       "The model is saved to c:\\jobs\\BalitTanah.SoilSensingv2\\BalitTanah.SoilSensingKit.Modelv2\\Notebook\\..\\CSModel\\MLModels\\KTK.zip"
      ]
     },
     "metadata": {},
     "output_type": "display_data"
    },
    {
     "data": {
      "text/html": [
       "<div id=\"f0f8aa4e-f1b0-486e-b63c-fbd3d48b3fe8\" style=\"width: 900px; height: 500px;\"></div><script type=\"text/javascript\">\r\n",
       "\r\n",
       "var renderPlotly = function() {\r\n",
       "    var xplotRequire = requirejs.config({context:'xplot-2.0.0',paths:{plotly:'https://cdn.plot.ly/plotly-1.49.2.min'}});\r\n",
       "    xplotRequire(['plotly'], function(Plotly) {\r\n",
       "\n",
       "            var data = [{\"type\":\"scattergl\",\"x\":[4.3972454999999995],\"y\":[5.684488941552275],\"mode\":\"markers\",\"marker\":{\"size\":12},\"name\":\"SdcaRegression\"},{\"type\":\"scattergl\",\"x\":[5.1054968999999994,2.0656901999999997],\"y\":[5.082010271220372,5.772105915933593],\"mode\":\"markers\",\"marker\":{\"size\":12},\"name\":\"LightGbmRegression\"},{\"type\":\"scattergl\",\"x\":[7.6441916,3.9887094999999997],\"y\":[5.60194893055043,4.9902512533911345],\"mode\":\"markers\",\"marker\":{\"size\":12},\"name\":\"FastTreeRegression\"},{\"type\":\"scattergl\",\"x\":[7.9561950999999995,58.052448],\"y\":[5.060752012418664,13.963855131330162],\"mode\":\"markers\",\"marker\":{\"size\":12},\"name\":\"FastTreeTweedieRegression\"},{\"type\":\"scattergl\",\"x\":[7.2515499],\"y\":[5.239606564439188],\"mode\":\"markers\",\"marker\":{\"size\":12},\"name\":\"FastForestRegression\"},{\"type\":\"scattergl\",\"x\":[1.7157741],\"y\":[5.680480575561523],\"mode\":\"markers\",\"marker\":{\"size\":12},\"name\":\"LbfgsPoissonRegression\"},{\"type\":\"scattergl\",\"x\":[0.8259896],\"y\":[26459.498530993096],\"mode\":\"markers\",\"marker\":{\"size\":12},\"name\":\"OnlineGradientDescentRegression\"}];\n",
       "            var layout = {\"xaxis\":{\"title\":\"Training Time\",\"_isSubplotObj\":true},\"yaxis\":{\"title\":\"Error\",\"_isSubplotObj\":true}};\n",
       "            Plotly.newPlot('f0f8aa4e-f1b0-486e-b63c-fbd3d48b3fe8', data, layout);\n",
       "        });\r\n",
       "};\r\n",
       "if ((typeof(requirejs) !==  typeof(Function)) || (typeof(requirejs.config) !== typeof(Function))) { \r\n",
       "    var script = document.createElement(\"script\"); \r\n",
       "    script.setAttribute(\"src\", \"https://cdnjs.cloudflare.com/ajax/libs/require.js/2.3.6/require.min.js\"); \r\n",
       "    script.onload = function(){\r\n",
       "        renderPlotly();\r\n",
       "    };\r\n",
       "    document.getElementsByTagName(\"head\")[0].appendChild(script); \r\n",
       "}\r\n",
       "else {\r\n",
       "    renderPlotly();\r\n",
       "}\r\n",
       "</script>"
      ]
     },
     "metadata": {},
     "output_type": "display_data"
    },
    {
     "data": {
      "text/html": [
       "<div id=\"c37c4586-4c46-4103-bfc4-a548720135bf\" style=\"width: 600px; height: 600px;\"></div><script type=\"text/javascript\">\r\n",
       "\r\n",
       "var renderPlotly = function() {\r\n",
       "    var xplotRequire = requirejs.config({context:'xplot-2.0.0',paths:{plotly:'https://cdn.plot.ly/plotly-1.49.2.min'}});\r\n",
       "    xplotRequire(['plotly'], function(Plotly) {\r\n",
       "\n",
       "            var data = [{\"type\":\"scattergl\",\"x\":[19.34,11.13,25.29,23.07,12.49,12.71,26.22,25.63,22.51,21.06,33.38,2.17,31.62,13.16,15.68,15.25,15.8,17.61,16.44,15.45,17.72,17.74,19.06,18.11,25.35,27.92,22.26,21.01,35.01,38.19,13.9,11.86,21.41,22.16,12.05,23.29,12.51,16.65,12.97,12.58,15.67,17.79,17.88,24.83,16.61,17.84,9.97,9.24,14.74,18.06,13.56,16.67,17.12,23.08,17.75,16.35,18.73,30.8,18.71,17.8,12.93,11.07,10.06,25.54,1.81,5.32,17.54,11.71,11.07,19.55,18.44,16.38,26.5,27.98,18.92,1.26,15.59,15.59,20.07,22.76,18.92,23.72,24.31,17.83,33.55,30.0,19.31,11.47,9.62,10.26,19.42,20.58,33.38,6.56,32.83,12.58,42.31,39.03,23.05,20.88,7.84,24.18,1.89,2.68,22.84,19.53,19.25,22.8,26.75,22.46,13.96,17.62,24.97,19.62,15.51,15.2,24.86,22.45,22.29,41.64,40.39,24.28,18.73,14.85,16.4,20.52,27.82,26.64,20.16,29.09,45.04,20.79,29.91,28.29,28.21,18.95,20.08,18.2,21.91,17.69,5.46,7.71,7.33,29.28,29.38,10.77,15.67,11.44,29.88,10.47,10.89,27.28,24.02,16.57,6.79,14.59,11.68,10.83,18.71,15.03,0.96,1.4,5.39,1.24,8.48,6.2,9.16,20.57,33.56,5.01,7.22,11.17,13.36,4.93,2.41,8.21,10.22,5.8,9.02,7.61,7.39,23.52,22.16,17.34,16.25,21.21,18.89,16.58,21.42,20.01,9.94,15.13,22.32,4.04,6.18,6.29,19.73,20.47,12.03,12.53,25.29,29.06,21.46,21.42,36.06,31.41,20.96,19.13,20.15,25.9,29.14,24.77,27.88,20.14,32.0,14.74,14.69,17.13,30.5,13.66,11.13,11.2,9.29,6.35,19.31,20.95,1.91,2.72,1.84,18.78,15.74,14.31,28.49,12.63,26.89,14.01,10.69,16.08,9.13,17.16,12.07,27.82,24.22,9.26,16.39,41.66,42.0,25.9,35.37,21.96,40.56,37.4,45.05,39.53,35.49,12.06,14.98,15.12,8.53,13.16,24.67,27.34,25.17,16.14,28.75,23.05,10.13,7.34,23.65,9.25,13.16,7.1,20.1,15.28,42.04,25.8,30.9,34.02,30.15,13.11,17.84,9.75,19.61,14.72,6.46,17.8,11.82,3.72,5.91,6.88,15.11,10.28,14.65,20.93,30.64,23.85,24.83,36.85,29.14,8.89,12.4,12.05,10.2,6.86,12.39,25.67,9.97,16.78,45.39,42.05,30.71,43.43,36.97,36.54,35.02,26.06,42.36,20.85,14.33,17.05,17.02,8.37,27.82,28.1,32.05,31.21,50.32,17.79,3.55,3.34,6.65,4.72,6.19,40.05,39.38,43.26,20.88,13.28,41.67,25.31,22.04,42.11332,11.15,16.34043,32.26,27.57,26.87,19.32,10.48,15.63,10.75,22.94,10.14,8.81,22.75,14.2,4.355205,16.93196,17.45,23.22,25.8,7.19,33.66,21.53,49.21,14.36,9.36,19.46,28.18,29.4,29.47,23.75,43.92,49.8,31.72,32.25,10.66,26.9,28.43,37.81,34.19,18.96,13.96,13.2,11.82,28.91,38.23,36.97,32.09,34.65,15.86,14.61163,6.04792,3.916395,5.89,5.81,4.82,10.59,11.91],\"y\":[20.284355,28.261864,26.623093,27.114449,17.679388,12.113502,15.70197,9.730766,26.175644,23.303196,19.885902,26.926962,21.51006,18.197498,17.69689,20.293411,16.805363,11.6943865,16.199272,18.645172,20.098186,13.503724,15.971983,12.75415,26.416094,25.663662,22.063643,17.587307,20.241333,26.545467,16.10247,13.039289,18.361166,19.318491,9.74017,19.550436,16.795952,21.30348,13.187758,29.035023,23.541468,20.096426,8.047573,19.116417,13.012821,16.753895,15.206163,16.677643,13.50701,19.16211,17.10661,27.643608,19.421125,25.751625,15.723147,12.744294,11.512785,29.252235,14.144258,15.184577,12.132739,14.264632,11.249458,26.41502,19.343319,3.8014107,17.63843,22.057014,22.650717,25.362183,23.82913,20.431929,21.71991,23.570992,28.640985,15.523693,21.235928,16.375349,22.96775,34.148125,15.891829,21.018812,27.519436,23.23215,25.797983,27.958519,16.292713,14.160312,18.258347,17.906088,20.34919,19.865715,25.811275,5.78944,34.47188,22.998272,28.928394,25.270075,26.800467,26.496675,7.5844135,20.158821,4.0194464,6.3127394,27.188894,28.456997,34.707256,34.03991,27.56111,29.44329,19.388676,21.569004,25.411924,12.084243,22.359787,20.959597,23.247955,36.005615,35.87884,32.425144,18.85144,36.211365,24.491251,13.348199,39.463768,19.813915,14.086133,16.655392,15.485669,32.70497,35.171776,21.125866,22.978601,20.294527,24.9829,18.524805,16.59053,20.672733,12.679027,14.539031,7.3491073,11.922574,20.696419,22.316454,26.711432,9.406122,16.04187,29.519995,32.726906,25.245281,24.940456,31.58801,32.582386,25.8536,25.311306,12.408088,9.220349,14.808255,19.993803,22.16176,1.5248003,7.9838986,9.575743,6.767974,5.7483673,5.9898615,11.144477,11.552652,8.573313,5.5008764,9.844491,13.0636635,10.433206,7.165492,7.142638,12.54901,14.704138,9.102646,25.930632,7.81233,10.595692,30.96739,27.779392,21.943863,16.98547,19.58005,21.936167,23.212517,27.293015,30.61494,19.134014,15.720868,32.51145,10.384943,6.9726105,4.02074,21.886187,31.707188,13.669856,17.927013,33.49621,35.567017,31.367884,23.524748,34.722466,27.86428,25.53575,27.354115,24.886044,20.369799,26.714333,30.017567,22.869461,24.228008,32.873104,14.137521,23.453283,17.716084,36.854053,8.14869,15.14548,12.127525,6.839195,11.716186,31.973597,21.507294,37.331184,41.999313,23.755306,15.964389,16.140089,28.76701,28.432755,11.109043,30.398418,21.237717,18.206556,15.002075,17.883131,14.973825,13.274214,21.683914,34.48184,13.101877,11.706975,25.501926,21.676046,28.411545,25.755453,27.665516,28.30471,33.161556,27.660978,27.76765,32.716347,7.60712,10.230212,11.670038,24.131374,12.691296,20.114794,18.699667,31.203148,20.56953,16.09207,27.247938,15.285299,13.011229,10.441893,8.509748,8.059859,11.125561,11.748496,17.814886,27.244831,23.031998,27.77552,31.434212,22.941187,10.027404,12.520168,14.958304,19.05386,16.4073,10.715205,17.587519,7.3759284,6.5005364,8.483612,5.353118,9.896619,17.822262,23.615921,26.164812,35.307087,26.602154,23.662685,28.970707,32.71033,18.430008,12.333514,9.612661,14.303775,6.210454,9.311863,16.253872,16.581179,22.43858,26.180058,38.939472,26.412418,17.33352,27.273336,21.79169,32.81763,24.450144,21.155516,18.982853,19.272282,14.551536,8.187504,13.482661,35.773964,28.376257,30.650314,28.561455,30.894323,9.92909,8.390361,4.203536,5.147852,6.505495,10.560496,32.292088,37.012775,41.83298,36.10383,9.607195,39.014187,21.36985,15.777804,16.718042,19.261978,11.099666,16.814253,14.250786,38.943436,27.068777,5.3968167,10.563221,12.811226,38.629856,4.014278,14.299591,37.83133,26.99576,3.6115346,20.622988,26.853624,37.382523,26.280977,8.307123,28.16589,16.145943,23.735996,9.481954,14.751764,23.361458,17.975111,22.160809,28.766035,23.749722,16.256124,31.678614,32.158634,21.728104,16.150532,29.115274,18.43238,19.534464,22.396963,23.15326,18.149643,8.778329,8.301388,24.316696,31.352762,27.330324,31.731226,29.977482,19.75254,16.54351,12.423636,6.1391287,10.828709,5.21047,8.441814,10.807734,12.057466],\"mode\":\"markers\"},{\"type\":\"scattergl\",\"x\":[0.0,50.32],\"y\":[0.0,50.32],\"mode\":\"lines\"}];\n",
       "            var layout = {\"showlegend\":false,\"xaxis\":{\"title\":\"True Values\",\"_isSubplotObj\":true},\"yaxis\":{\"title\":\"Predicted Values\",\"_isSubplotObj\":true}};\n",
       "            Plotly.newPlot('c37c4586-4c46-4103-bfc4-a548720135bf', data, layout);\n",
       "        });\r\n",
       "};\r\n",
       "if ((typeof(requirejs) !==  typeof(Function)) || (typeof(requirejs.config) !== typeof(Function))) { \r\n",
       "    var script = document.createElement(\"script\"); \r\n",
       "    script.setAttribute(\"src\", \"https://cdnjs.cloudflare.com/ajax/libs/require.js/2.3.6/require.min.js\"); \r\n",
       "    script.onload = function(){\r\n",
       "        renderPlotly();\r\n",
       "    };\r\n",
       "    document.getElementsByTagName(\"head\")[0].appendChild(script); \r\n",
       "}\r\n",
       "else {\r\n",
       "    renderPlotly();\r\n",
       "}\r\n",
       "</script>"
      ]
     },
     "metadata": {},
     "output_type": "display_data"
    },
    {
     "data": {
      "text/plain": [
       "Do AutoML for Mg in 60 secs"
      ]
     },
     "metadata": {},
     "output_type": "display_data"
    },
    {
     "data": {
      "text/plain": [
       "Best Trainer:FastTreeRegression"
      ]
     },
     "metadata": {},
     "output_type": "display_data"
    },
    {
     "data": {
      "text/plain": [
       "*************************************************"
      ]
     },
     "metadata": {},
     "output_type": "display_data"
    },
    {
     "data": {
      "text/plain": [
       "*       Metrics for regression model      "
      ]
     },
     "metadata": {},
     "output_type": "display_data"
    },
    {
     "data": {
      "text/plain": [
       "*------------------------------------------------"
      ]
     },
     "metadata": {},
     "output_type": "display_data"
    },
    {
     "data": {
      "text/plain": [
       "*       LossFn:        20.03"
      ]
     },
     "metadata": {},
     "output_type": "display_data"
    },
    {
     "data": {
      "text/plain": [
       "*       R2 Score:      0.48"
      ]
     },
     "metadata": {},
     "output_type": "display_data"
    },
    {
     "data": {
      "text/plain": [
       "*       Absolute loss: 2.87"
      ]
     },
     "metadata": {},
     "output_type": "display_data"
    },
    {
     "data": {
      "text/plain": [
       "*       Squared loss:  20.03"
      ]
     },
     "metadata": {},
     "output_type": "display_data"
    },
    {
     "data": {
      "text/plain": [
       "*       RMS loss:      4.47"
      ]
     },
     "metadata": {},
     "output_type": "display_data"
    },
    {
     "data": {
      "text/plain": [
       "*************************************************"
      ]
     },
     "metadata": {},
     "output_type": "display_data"
    },
    {
     "data": {
      "text/plain": [
       "=============== Saving the model  ==============="
      ]
     },
     "metadata": {},
     "output_type": "display_data"
    },
    {
     "data": {
      "text/plain": [
       "The model is saved to c:\\jobs\\BalitTanah.SoilSensingv2\\BalitTanah.SoilSensingKit.Modelv2\\Notebook\\..\\CSModel\\MLModels\\Mg.zip"
      ]
     },
     "metadata": {},
     "output_type": "display_data"
    },
    {
     "data": {
      "text/html": [
       "<div id=\"5929f91e-e1db-4fbf-990e-114c8c73995e\" style=\"width: 900px; height: 500px;\"></div><script type=\"text/javascript\">\r\n",
       "\r\n",
       "var renderPlotly = function() {\r\n",
       "    var xplotRequire = requirejs.config({context:'xplot-2.0.0',paths:{plotly:'https://cdn.plot.ly/plotly-1.49.2.min'}});\r\n",
       "    xplotRequire(['plotly'], function(Plotly) {\r\n",
       "\n",
       "            var data = [{\"type\":\"scattergl\",\"x\":[5.4357042],\"y\":[3.1190741923256],\"mode\":\"markers\",\"marker\":{\"size\":12},\"name\":\"SdcaRegression\"},{\"type\":\"scattergl\",\"x\":[5.7803895,1.9279175],\"y\":[2.7797165597074254,3.886110492294929],\"mode\":\"markers\",\"marker\":{\"size\":12},\"name\":\"LightGbmRegression\"},{\"type\":\"scattergl\",\"x\":[8.7739006,23.8295006],\"y\":[2.8522707521915436,2.86835277951875],\"mode\":\"markers\",\"marker\":{\"size\":12},\"name\":\"FastTreeRegression\"},{\"type\":\"scattergl\",\"x\":[8.5619285],\"y\":[2.5712406872085825],\"mode\":\"markers\",\"marker\":{\"size\":12},\"name\":\"FastTreeTweedieRegression\"},{\"type\":\"scattergl\",\"x\":[7.638611999999999],\"y\":[2.8445691625445577],\"mode\":\"markers\",\"marker\":{\"size\":12},\"name\":\"FastForestRegression\"},{\"type\":\"scattergl\",\"x\":[2.3044159],\"y\":[3.091424335029211],\"mode\":\"markers\",\"marker\":{\"size\":12},\"name\":\"LbfgsPoissonRegression\"},{\"type\":\"scattergl\",\"x\":[0.8453969],\"y\":[4958.963666292506],\"mode\":\"markers\",\"marker\":{\"size\":12},\"name\":\"OnlineGradientDescentRegression\"}];\n",
       "            var layout = {\"xaxis\":{\"title\":\"Training Time\",\"_isSubplotObj\":true},\"yaxis\":{\"title\":\"Error\",\"_isSubplotObj\":true}};\n",
       "            Plotly.newPlot('5929f91e-e1db-4fbf-990e-114c8c73995e', data, layout);\n",
       "        });\r\n",
       "};\r\n",
       "if ((typeof(requirejs) !==  typeof(Function)) || (typeof(requirejs.config) !== typeof(Function))) { \r\n",
       "    var script = document.createElement(\"script\"); \r\n",
       "    script.setAttribute(\"src\", \"https://cdnjs.cloudflare.com/ajax/libs/require.js/2.3.6/require.min.js\"); \r\n",
       "    script.onload = function(){\r\n",
       "        renderPlotly();\r\n",
       "    };\r\n",
       "    document.getElementsByTagName(\"head\")[0].appendChild(script); \r\n",
       "}\r\n",
       "else {\r\n",
       "    renderPlotly();\r\n",
       "}\r\n",
       "</script>"
      ]
     },
     "metadata": {},
     "output_type": "display_data"
    },
    {
     "data": {
      "text/html": [
       "<div id=\"173f1a2c-ed7f-4936-9628-4d9192dc3336\" style=\"width: 600px; height: 600px;\"></div><script type=\"text/javascript\">\r\n",
       "\r\n",
       "var renderPlotly = function() {\r\n",
       "    var xplotRequire = requirejs.config({context:'xplot-2.0.0',paths:{plotly:'https://cdn.plot.ly/plotly-1.49.2.min'}});\r\n",
       "    xplotRequire(['plotly'], function(Plotly) {\r\n",
       "\n",
       "            var data = [{\"type\":\"scattergl\",\"x\":[3.35,2.54,24.8,23.26,7.77,0.93,0.16,0.13,0.13,9.31,1.92,0.25,4.65,3.58,0.7,1.44,1.03,1.12,0.93,1.62,2.99,3.69,0.33,0.26,9.2,8.82,2.73,4.73,1.33,1.73,9.16,0.83,5.41,7.8,7.43,0.89,8.26,2.48,4.72,1.28,1.48,1.22,1.34,0.72,0.57,0.43,0.22,0.21,0.52,15.64,0.9,1.57,3.5,17.05,18.52,3.42,5.48,11.02,1.58,1.78,1.31,1.6,1.35,4.24,0.75,0.32,0.2,0.94,5.13,4.14,1.7,1.61,1.53,9.47,2.8,0.9,1.66,1.66,2.42,2.65,4.04,2.86,4.68,6.67,3.86,5.9,2.15,1.23,1.42,1.11,1.27,1.23,4.79,9.66,5.09,6.06,8.23,11.47,6.21,8.06,1.9,1.04,1.43,2.9,0.48,5.6,1.63,2.78,12.09,3.29,2.93,3.82,4.57,6.82,9.02,8.53,11.89,0.49,0.3,0.18,0.22,1.5,3.61,8.22,6.56,2.95,4.5,4.92,5.03,16.49,17.53,2.66,4.76,17.13,17.55,1.84,5.33,4.4,1.81,1.86,0.23,0.13,0.57,3.29,40.22,36.33,3.66,34.95,4.47,12.8,2.01,0.97,0.96,33.54,0.87,0.12,0.15,0.2,10.43,10.22,0.91,0.17,0.17,0.14,5.07,1.58,0.25,0.19,2.77,1.06,1.69,1.31,9.25,9.52,4.68,2.36,3.69,0.8,0.9,17.92,8.67,5.64,8.75,2.51,4.71,5.03,4.33,2.45,4.09,13.42,11.46,2.29,7.19,0.22,0.31,0.54,0.98,4.48,21.23,20.16,5.22,5.06,5.3,5.39,9.11,10.35,10.89,10.32,11.07,3.0,1.25,1.37,4.56,13.12,8.52,7.22,14.48,14.51,3.69,6.04,4.0,8.04,3.37,0.91,11.56,4.45,4.28,4.94,0.52,5.1,5.2,5.35,4.86,4.81,0.95,15.58,14.66,3.47,0.7,0.55,5.53,3.57,6.17,3.03,5.53,1.37,6.06,8.01,7.31,6.71,2.58,1.1,4.98,5.6,6.38,4.9,9.77,0.77,1.63,2.32,1.53,0.85,1.03,3.38,2.07,1.87,2.93,1.55,0.92,0.87,0.46,0.39,0.86,5.86,2.62,12.04,5.84,2.28,1.8,6.53,1.72,1.22,3.85,2.25,1.56,5.8,0.28,0.71,1.01,0.9,0.81,0.16,0.74,4.76,5.64,4.35,5.64,7.51,6.28,1.21,0.89,0.59,0.52,0.85,1.07,0.37,0.37,1.01,2.36,2.72,6.01,5.23,2.99,6.99,6.79,4.51,4.11,12.32,4.58,10.25,7.32,1.59,9.58,3.55,14.22,2.62,8.48,7.59,9.49,3.02,6.73,5.54,10.24,0.32,13.59,2.9,7.23,2.13,4.48,0.29,0.24,2.7,6.39,10.01,2.42,5.74,2.78,2.01,5.89,1.29,0.65,5.04,1.12,1.25,1.53,1.61,0.56,0.51,0.35,36.66,0.24,0.51,0.84,0.76,7.83,7.89,9.73,11.9,0.55,0.37,1.12,2.11,0.83,0.83,1.93,3.91,3.11,1.0,1.5,0.98,9.54,6.37,6.57,5.13,7.85,4.79,2.6,0.28,0.6,1.36,5.2,1.36,8.04,10.56,0.29,1.44,0.16,0.31,0.16,1.36,1.19],\"y\":[4.681929,6.4696417,21.49006,16.940756,3.3307877,1.2139615,3.0260203,1.6728582,1.6922826,4.5584764,2.9150913,7.161551,4.8775992,7.3544497,1.8718352,2.1503074,2.4515078,3.241893,2.0293114,2.3084428,3.0482986,7.060562,3.2000825,2.4803011,5.2278523,5.7226186,17.932287,4.3313394,3.1720796,1.4606487,17.17746,1.8780901,2.2181828,2.6042433,9.378187,1.0597957,4.8377004,3.238697,2.7766416,1.9005187,5.3756433,3.957945,5.1590457,1.9652565,2.3124747,1.8300204,1.8078194,1.8788848,1.6219954,6.53514,2.0405056,5.571613,6.5065207,5.438547,5.0834746,2.8404202,2.3902533,10.051162,3.415509,2.4485657,1.2418519,2.6431322,3.4976025,5.1990156,1.1417446,1.2479409,1.8485569,2.7077096,6.4514003,7.209849,6.4883294,3.4399285,2.9378388,6.063709,3.0238118,3.3028073,8.418684,7.9157705,23.923086,6.2946963,8.619235,4.6224327,10.325229,3.4374802,3.501216,6.780889,5.59308,2.4915593,3.268743,2.884602,3.305856,3.4636233,5.7437124,8.24151,8.721629,4.7507753,6.104082,5.9210334,8.349182,5.5312405,1.9335527,2.2629347,2.1516473,3.3385677,1.4162692,2.165007,12.770451,4.403614,4.8038926,4.4174705,2.3312209,3.1337192,3.3286023,5.2290173,6.9356284,10.612465,9.474502,2.4703355,2.1176522,1.6875645,1.4036558,1.5584172,2.3448026,6.349267,8.370169,3.2213151,2.738926,3.3114505,1.97144,8.94261,5.4597154,2.8038056,3.320441,5.116667,6.448963,3.1836798,5.3914638,3.596853,3.1578658,3.2247543,2.2798526,3.8844523,3.3471777,2.549893,24.794489,27.574339,1.4350488,12.08053,3.1756167,10.754398,3.1568663,5.409284,6.083704,17.090927,4.669673,3.321683,2.2365963,1.070746,8.807287,15.795277,2.7033317,1.1275263,0.9859211,1.2878028,3.1250648,1.2314574,1.4620659,1.3770839,1.11544,1.2081649,0.9859211,1.2275462,2.9501143,2.8677735,1.653897,1.401409,8.965062,3.2932096,3.3297722,12.571484,5.489828,8.132062,8.027629,3.5348482,4.4369593,3.6132972,3.0238652,4.929916,4.764465,9.349164,8.37568,2.3318374,7.5041637,1.070746,1.7790203,1.1853063,0.96822625,4.2598825,4.6654387,10.634442,2.1560056,7.1116056,12.834756,6.9197764,8.845588,10.055571,7.5808597,9.784727,15.9863205,3.5567193,5.1438155,6.6042566,5.813918,8.359066,5.81881,7.3947897,12.466074,15.128045,8.383273,9.4481,7.02082,4.665245,3.1556454,2.6483355,13.153226,4.458819,4.907133,5.266198,1.934749,4.459762,4.7168717,9.069978,7.8277884,6.4252043,1.1649656,13.619643,18.217234,11.103681,3.5793822,2.1004608,3.3891406,8.089235,10.025315,6.8499465,6.392184,1.9618901,7.3804708,11.681868,6.058085,6.6917644,6.291448,2.6934302,2.935057,3.9037983,4.194025,4.005038,7.35149,1.0953126,1.8328615,2.1560056,5.305349,1.2479409,2.160379,1.3852994,4.2877917,2.8725264,2.4877565,2.0663884,1.1539911,1.6951036,1.0085348,1.3910139,6.6790514,3.2204182,1.6312621,13.8544235,22.212275,9.376885,5.8270726,7.5607285,1.426318,3.135535,1.2641953,1.8256402,2.0952997,1.7251912,1.1529548,1.070746,1.4084501,1.1319355,1.1027633,1.2130116,1.1319355,5.4231997,6.779351,6.4584293,4.600957,5.3608346,7.4323955,1.1400158,1.7389581,2.751626,1.6109047,1.3039258,1.4350488,1.2641953,1.0953126,6.5977435,2.67754,2.9947202,2.7813666,4.004019,2.1695552,2.5451663,4.8698173,2.9678779,2.7601967,4.4789186,3.5766375,6.7104554,1.9867404,1.4502695,2.3729606,5.0180774,9.152235,2.201996,4.951073,6.644661,3.7867227,2.6051579,3.3141747,4.8537726,3.5917394,1.1319355,9.529546,2.3662212,5.5708146,8.78859,9.974013,1.7757959,1.2258406,1.9239794,6.2758894,4.556413,2.7754436,14.583704,7.623105,6.620195,4.81921,7.1688924,1.2479409,2.1560056,1.0361125,1.2641953,1.1291171,3.4453688,1.1209373,1.070746,1.0198568,3.1010723,0.8918817,3.6232386,1.0557529,0.7167829,6.5344405,5.9239016,7.2459507,4.513866,2.0233977,2.0349634,1.749537,2.8684778,2.2862298,4.1179376,2.3320165,2.7315915,1.9121271,8.315268,8.518362,1.8372315,7.781556,4.58508,4.2783628,3.6859133,4.721907,1.9341389,5.666222,1.7853383,2.1421044,7.323847,9.371595,8.078205,16.727163,5.139429,1.2130116,2.7958946,1.1417446,1.1448556,1.1539911,1.8030136,2.1603553],\"mode\":\"markers\"},{\"type\":\"scattergl\",\"x\":[0.0,40.22],\"y\":[0.0,40.22],\"mode\":\"lines\"}];\n",
       "            var layout = {\"showlegend\":false,\"xaxis\":{\"title\":\"True Values\",\"_isSubplotObj\":true},\"yaxis\":{\"title\":\"Predicted Values\",\"_isSubplotObj\":true}};\n",
       "            Plotly.newPlot('173f1a2c-ed7f-4936-9628-4d9192dc3336', data, layout);\n",
       "        });\r\n",
       "};\r\n",
       "if ((typeof(requirejs) !==  typeof(Function)) || (typeof(requirejs.config) !== typeof(Function))) { \r\n",
       "    var script = document.createElement(\"script\"); \r\n",
       "    script.setAttribute(\"src\", \"https://cdnjs.cloudflare.com/ajax/libs/require.js/2.3.6/require.min.js\"); \r\n",
       "    script.onload = function(){\r\n",
       "        renderPlotly();\r\n",
       "    };\r\n",
       "    document.getElementsByTagName(\"head\")[0].appendChild(script); \r\n",
       "}\r\n",
       "else {\r\n",
       "    renderPlotly();\r\n",
       "}\r\n",
       "</script>"
      ]
     },
     "metadata": {},
     "output_type": "display_data"
    },
    {
     "data": {
      "text/plain": [
       "Do AutoML for Morgan_K2O in 60 secs"
      ]
     },
     "metadata": {},
     "output_type": "display_data"
    },
    {
     "data": {
      "text/plain": [
       "Best Trainer:FastForestRegression"
      ]
     },
     "metadata": {},
     "output_type": "display_data"
    },
    {
     "data": {
      "text/plain": [
       "*************************************************"
      ]
     },
     "metadata": {},
     "output_type": "display_data"
    },
    {
     "data": {
      "text/plain": [
       "*       Metrics for regression model      "
      ]
     },
     "metadata": {},
     "output_type": "display_data"
    },
    {
     "data": {
      "text/plain": [
       "*------------------------------------------------"
      ]
     },
     "metadata": {},
     "output_type": "display_data"
    },
    {
     "data": {
      "text/plain": [
       "*       LossFn:        0"
      ]
     },
     "metadata": {},
     "output_type": "display_data"
    },
    {
     "data": {
      "text/plain": [
       "*       R2 Score:      0"
      ]
     },
     "metadata": {},
     "output_type": "display_data"
    },
    {
     "data": {
      "text/plain": [
       "*       Absolute loss: "
      ]
     },
     "metadata": {},
     "output_type": "display_data"
    },
    {
     "data": {
      "text/plain": [
       "*       Squared loss:  "
      ]
     },
     "metadata": {},
     "output_type": "display_data"
    },
    {
     "data": {
      "text/plain": [
       "*       RMS loss:      "
      ]
     },
     "metadata": {},
     "output_type": "display_data"
    },
    {
     "data": {
      "text/plain": [
       "*************************************************"
      ]
     },
     "metadata": {},
     "output_type": "display_data"
    },
    {
     "data": {
      "text/plain": [
       "=============== Saving the model  ==============="
      ]
     },
     "metadata": {},
     "output_type": "display_data"
    },
    {
     "data": {
      "text/plain": [
       "The model is saved to c:\\jobs\\BalitTanah.SoilSensingv2\\BalitTanah.SoilSensingKit.Modelv2\\Notebook\\..\\CSModel\\MLModels\\Morgan_K2O.zip"
      ]
     },
     "metadata": {},
     "output_type": "display_data"
    },
    {
     "data": {
      "text/html": [
       "<div id=\"0cecb22a-e3e5-4334-ae70-dc7967123f23\" style=\"width: 900px; height: 500px;\"></div><script type=\"text/javascript\">\r\n",
       "\r\n",
       "var renderPlotly = function() {\r\n",
       "    var xplotRequire = requirejs.config({context:'xplot-2.0.0',paths:{plotly:'https://cdn.plot.ly/plotly-1.49.2.min'}});\r\n",
       "    xplotRequire(['plotly'], function(Plotly) {\r\n",
       "\n",
       "            var data = [{\"type\":\"scattergl\",\"x\":[4.5026056,0.46113309999999996,0.449702,0.47107069999999995,0.4671611],\"y\":[34.06623160839081,64.56625991128385,59.85072793960571,65.31584787368774,56.32143363952637],\"mode\":\"markers\",\"marker\":{\"size\":12},\"name\":\"SdcaRegression\"},{\"type\":\"scattergl\",\"x\":[0.9933668999999999],\"y\":[60.81237879666415],\"mode\":\"markers\",\"marker\":{\"size\":12},\"name\":\"LightGbmRegression\"},{\"type\":\"scattergl\",\"x\":[4.0042729],\"y\":[52.03711847464243],\"mode\":\"markers\",\"marker\":{\"size\":12},\"name\":\"FastTreeRegression\"},{\"type\":\"scattergl\",\"x\":[4.0475487,3.7898343999999997,8.2455693,3.1471046,4.5887221],\"y\":[32.602365692456566,58.594610679149625,77.57419967651367,55.472441577911376,78.96397701899211],\"mode\":\"markers\",\"marker\":{\"size\":12},\"name\":\"FastTreeTweedieRegression\"},{\"type\":\"scattergl\",\"x\":[3.8814815,5.6024698,7.0758623,5.7987201,3.0998362],\"y\":[71.73618920644124,73.25250387191772,60.689920043945314,73.25250387191772,0.0],\"mode\":\"markers\",\"marker\":{\"size\":12},\"name\":\"FastForestRegression\"},{\"type\":\"scattergl\",\"x\":[1.2314072],\"y\":[44.05678156774272],\"mode\":\"markers\",\"marker\":{\"size\":12},\"name\":\"LbfgsPoissonRegression\"},{\"type\":\"scattergl\",\"x\":[0.4516481],\"y\":[78168191.1530594],\"mode\":\"markers\",\"marker\":{\"size\":12},\"name\":\"OnlineGradientDescentRegression\"}];\n",
       "            var layout = {\"xaxis\":{\"title\":\"Training Time\",\"_isSubplotObj\":true},\"yaxis\":{\"title\":\"Error\",\"_isSubplotObj\":true}};\n",
       "            Plotly.newPlot('0cecb22a-e3e5-4334-ae70-dc7967123f23', data, layout);\n",
       "        });\r\n",
       "};\r\n",
       "if ((typeof(requirejs) !==  typeof(Function)) || (typeof(requirejs.config) !== typeof(Function))) { \r\n",
       "    var script = document.createElement(\"script\"); \r\n",
       "    script.setAttribute(\"src\", \"https://cdnjs.cloudflare.com/ajax/libs/require.js/2.3.6/require.min.js\"); \r\n",
       "    script.onload = function(){\r\n",
       "        renderPlotly();\r\n",
       "    };\r\n",
       "    document.getElementsByTagName(\"head\")[0].appendChild(script); \r\n",
       "}\r\n",
       "else {\r\n",
       "    renderPlotly();\r\n",
       "}\r\n",
       "</script>"
      ]
     },
     "metadata": {},
     "output_type": "display_data"
    },
    {
     "data": {
      "text/html": [
       "<div id=\"906803ed-a1cf-4678-9187-5a6aadf71e44\" style=\"width: 600px; height: 600px;\"></div><script type=\"text/javascript\">\r\n",
       "\r\n",
       "var renderPlotly = function() {\r\n",
       "    var xplotRequire = requirejs.config({context:'xplot-2.0.0',paths:{plotly:'https://cdn.plot.ly/plotly-1.49.2.min'}});\r\n",
       "    xplotRequire(['plotly'], function(Plotly) {\r\n",
       "\n",
       "            var data = [{\"type\":\"scattergl\",\"x\":[22.0,17.0,78.0,28.0,31.0933,35.99723,113.2665,4.880981,10.77466,28.16778,47.06502,4.872435,16.17069,36.54837,54.47432,79.06257,37.33382,93.35598,20.5211,19.52819,69.83089,30.54284,37.92324,29.17556,19.07479,104.0378,188.0141,15.894],\"y\":[\"NaN\",\"NaN\",\"NaN\",\"NaN\",\"NaN\",\"NaN\",\"NaN\",\"NaN\",\"NaN\",\"NaN\",\"NaN\",\"NaN\",\"NaN\",\"NaN\",\"NaN\",\"NaN\",\"NaN\",\"NaN\",\"NaN\",\"NaN\",\"NaN\",\"NaN\",\"NaN\",\"NaN\",\"NaN\",\"NaN\",\"NaN\",\"NaN\"],\"mode\":\"markers\"},{\"type\":\"scattergl\",\"x\":[0.0,\"NaN\"],\"y\":[0.0,\"NaN\"],\"mode\":\"lines\"}];\n",
       "            var layout = {\"showlegend\":false,\"xaxis\":{\"title\":\"True Values\",\"_isSubplotObj\":true},\"yaxis\":{\"title\":\"Predicted Values\",\"_isSubplotObj\":true}};\n",
       "            Plotly.newPlot('906803ed-a1cf-4678-9187-5a6aadf71e44', data, layout);\n",
       "        });\r\n",
       "};\r\n",
       "if ((typeof(requirejs) !==  typeof(Function)) || (typeof(requirejs.config) !== typeof(Function))) { \r\n",
       "    var script = document.createElement(\"script\"); \r\n",
       "    script.setAttribute(\"src\", \"https://cdnjs.cloudflare.com/ajax/libs/require.js/2.3.6/require.min.js\"); \r\n",
       "    script.onload = function(){\r\n",
       "        renderPlotly();\r\n",
       "    };\r\n",
       "    document.getElementsByTagName(\"head\")[0].appendChild(script); \r\n",
       "}\r\n",
       "else {\r\n",
       "    renderPlotly();\r\n",
       "}\r\n",
       "</script>"
      ]
     },
     "metadata": {},
     "output_type": "display_data"
    },
    {
     "data": {
      "text/plain": [
       "Do AutoML for Na in 60 secs"
      ]
     },
     "metadata": {},
     "output_type": "display_data"
    },
    {
     "data": {
      "text/plain": [
       "Best Trainer:FastTreeTweedieRegression"
      ]
     },
     "metadata": {},
     "output_type": "display_data"
    },
    {
     "data": {
      "text/plain": [
       "*************************************************"
      ]
     },
     "metadata": {},
     "output_type": "display_data"
    },
    {
     "data": {
      "text/plain": [
       "*       Metrics for regression model      "
      ]
     },
     "metadata": {},
     "output_type": "display_data"
    },
    {
     "data": {
      "text/plain": [
       "*------------------------------------------------"
      ]
     },
     "metadata": {},
     "output_type": "display_data"
    },
    {
     "data": {
      "text/plain": [
       "*       LossFn:        24.09"
      ]
     },
     "metadata": {},
     "output_type": "display_data"
    },
    {
     "data": {
      "text/plain": [
       "*       R2 Score:      0.04"
      ]
     },
     "metadata": {},
     "output_type": "display_data"
    },
    {
     "data": {
      "text/plain": [
       "*       Absolute loss: .96"
      ]
     },
     "metadata": {},
     "output_type": "display_data"
    },
    {
     "data": {
      "text/plain": [
       "*       Squared loss:  24.09"
      ]
     },
     "metadata": {},
     "output_type": "display_data"
    },
    {
     "data": {
      "text/plain": [
       "*       RMS loss:      4.91"
      ]
     },
     "metadata": {},
     "output_type": "display_data"
    },
    {
     "data": {
      "text/plain": [
       "*************************************************"
      ]
     },
     "metadata": {},
     "output_type": "display_data"
    },
    {
     "data": {
      "text/plain": [
       "=============== Saving the model  ==============="
      ]
     },
     "metadata": {},
     "output_type": "display_data"
    },
    {
     "data": {
      "text/plain": [
       "The model is saved to c:\\jobs\\BalitTanah.SoilSensingv2\\BalitTanah.SoilSensingKit.Modelv2\\Notebook\\..\\CSModel\\MLModels\\Na.zip"
      ]
     },
     "metadata": {},
     "output_type": "display_data"
    },
    {
     "data": {
      "text/html": [
       "<div id=\"a2487233-a482-4545-9526-f6ae165e4cdd\" style=\"width: 900px; height: 500px;\"></div><script type=\"text/javascript\">\r\n",
       "\r\n",
       "var renderPlotly = function() {\r\n",
       "    var xplotRequire = requirejs.config({context:'xplot-2.0.0',paths:{plotly:'https://cdn.plot.ly/plotly-1.49.2.min'}});\r\n",
       "    xplotRequire(['plotly'], function(Plotly) {\r\n",
       "\n",
       "            var data = [{\"type\":\"scattergl\",\"x\":[3.4489234,1.4121766,1.4734403999999999],\"y\":[0.5830415904555204,0.6075633967858415,0.7866347304119145],\"mode\":\"markers\",\"marker\":{\"size\":12},\"name\":\"SdcaRegression\"},{\"type\":\"scattergl\",\"x\":[5.0663949],\"y\":[0.719884604924492],\"mode\":\"markers\",\"marker\":{\"size\":12},\"name\":\"LightGbmRegression\"},{\"type\":\"scattergl\",\"x\":[8.1206251],\"y\":[0.7619356964209456],\"mode\":\"markers\",\"marker\":{\"size\":12},\"name\":\"FastTreeRegression\"},{\"type\":\"scattergl\",\"x\":[7.8330717,6.7715307,4.7669254],\"y\":[0.29871466463165625,0.4439339248762865,0.9555940548176164],\"mode\":\"markers\",\"marker\":{\"size\":12},\"name\":\"FastTreeTweedieRegression\"},{\"type\":\"scattergl\",\"x\":[7.4007722,4.4687774,12.550875399999999],\"y\":[0.5190168822169766,0.7383464276482744,0.7212844793646296],\"mode\":\"markers\",\"marker\":{\"size\":12},\"name\":\"FastForestRegression\"},{\"type\":\"scattergl\",\"x\":[2.0403365],\"y\":[0.4831871017921976],\"mode\":\"markers\",\"marker\":{\"size\":12},\"name\":\"LbfgsPoissonRegression\"},{\"type\":\"scattergl\",\"x\":[0.8162349999999999],\"y\":[916.4416625802058],\"mode\":\"markers\",\"marker\":{\"size\":12},\"name\":\"OnlineGradientDescentRegression\"}];\n",
       "            var layout = {\"xaxis\":{\"title\":\"Training Time\",\"_isSubplotObj\":true},\"yaxis\":{\"title\":\"Error\",\"_isSubplotObj\":true}};\n",
       "            Plotly.newPlot('a2487233-a482-4545-9526-f6ae165e4cdd', data, layout);\n",
       "        });\r\n",
       "};\r\n",
       "if ((typeof(requirejs) !==  typeof(Function)) || (typeof(requirejs.config) !== typeof(Function))) { \r\n",
       "    var script = document.createElement(\"script\"); \r\n",
       "    script.setAttribute(\"src\", \"https://cdnjs.cloudflare.com/ajax/libs/require.js/2.3.6/require.min.js\"); \r\n",
       "    script.onload = function(){\r\n",
       "        renderPlotly();\r\n",
       "    };\r\n",
       "    document.getElementsByTagName(\"head\")[0].appendChild(script); \r\n",
       "}\r\n",
       "else {\r\n",
       "    renderPlotly();\r\n",
       "}\r\n",
       "</script>"
      ]
     },
     "metadata": {},
     "output_type": "display_data"
    },
    {
     "data": {
      "text/html": [
       "<div id=\"45a02642-4e0c-4ba7-ae6b-bb94d8cf5de2\" style=\"width: 600px; height: 600px;\"></div><script type=\"text/javascript\">\r\n",
       "\r\n",
       "var renderPlotly = function() {\r\n",
       "    var xplotRequire = requirejs.config({context:'xplot-2.0.0',paths:{plotly:'https://cdn.plot.ly/plotly-1.49.2.min'}});\r\n",
       "    xplotRequire(['plotly'], function(Plotly) {\r\n",
       "\n",
       "            var data = [{\"type\":\"scattergl\",\"x\":[1.54,0.77,3.25,2.47,0.08,0.03,0.02,0.03,0.04,0.13,0.26,0.19,0.92,0.34,0.06,0.08,0.09,0.09,0.05,0.06,0.23,0.25,0.06,0.03,0.21,0.39,0.41,0.24,0.07,0.13,0.45,0.03,0.88,0.17,0.27,0.02,0.29,0.4,0.43,0.13,0.21,0.79,0.22,0.03,0.03,0.1,0.06,0.08,0.05,0.14,0.07,0.03,0.04,0.08,0.14,0.05,0.14,0.07,0.03,0.03,0.04,0.1,0.14,0.18,0.13,0.08,0.03,0.01,0.13,0.19,0.08,0.22,0.35,0.15,0.06,0.06,0.06,0.06,0.14,0.02,0.18,0.01,0.03,0.04,0.06,0.23,0.06,0.0,0.04,0.01,0.01,0.27,0.73,1.2,0.71,0.84,0.2,0.37,0.54,0.5,0.05,0.15,0.11,0.11,0.08,0.23,0.04,0.04,0.42,0.05,0.07,0.08,0.31,0.42,0.48,0.72,0.01,0.02,0.03,0.09,0.14,0.06,0.04,0.25,0.29,0.11,0.02,0.02,0.02,0.15,0.06,0.23,0.06,0.03,0.09,0.21,0.36,0.23,0.19,0.18,0.02,0.03,0.07,0.19,0.1,0.15,0.25,0.34,0.05,0.29,0.08,0.14,0.12,0.51,0.4,0.03,0.03,0.04,0.42,0.18,0.04,0.05,0.03,0.04,0.05,0.01,0.01,0.07,0.01,0.03,0.17,0.04,0.02,0.01,0.23,0.17,0.31,0.03,0.37,5.09,2.31,0.56,0.66,0.0,0.04,0.08,0.05,0.06,0.14,0.69,1.15,1.03,0.41,0.01,0.04,0.06,0.07,0.36,12.6,17.62,0.22,0.13,0.08,0.23,0.11,0.4,1.4,1.23,0.94,0.07,0.06,0.05,0.06,0.36,0.14,0.1,17.97,5.78,0.08,0.29,0.79,0.27,0.08,0.07,0.38,0.28,0.4,0.5,0.2,0.2,0.36,0.11,0.09,0.08,0.1,0.24,0.3,0.21,0.01,0.01,0.36,0.47,0.41,0.16,0.31,0.1,0.36,0.22,0.24,0.14,0.13,0.07,0.13,0.06,0.13,0.07,0.27,0.05,0.05,0.22,0.09,0.11,0.1,0.07,0.09,0.07,0.24,0.11,0.03,0.01,0.12,0.15,0.15,0.16,0.03,0.2,0.45,0.28,0.14,0.21,0.05,0.1,0.16,0.07,0.04,0.15,0.02,0.05,0.04,0.04,0.06,0.13,0.13,0.08864266,0.34,0.86,1.57,0.57,0.78,0.27,0.47,0.24,0.13,0.25,0.33,0.3,0.15,0.12,0.14,0.19,0.19,0.38,0.31,0.38,0.11,0.07,0.05,0.11,0.18,0.1,0.2,0.13,0.37,0.33,0.6,0.36,1.07,1.23,1.98,0.3,0.15,0.81,0.49,0.01,1.27,0.41,0.26,0.64,0.1,0.06,0.12,0.36,1.49,1.94,2.75,0.21,0.24,0.78,0.07,0.12,0.33,0.05,0.01,0.09,0.03,0.14,0.08,0.1,0.01,0.15,0.03,0.31,0.17,0.18,0.17,0.17,0.26,0.07,0.03,0.11,0.1,0.22,0.31,0.11,0.17,0.09,0.09,0.09,0.04,0.16,0.15,0.39,0.53,0.44,0.02,0.37,0.07,0.0,0.37,0.02,0.01,0.28,0.05,0.04,0.03,0.27,0.05,0.01,0.04,0.08,0.03],\"y\":[0.8561794,0.7615407,1.0153861,1.0501299,0.4500036,0.20228747,0.3828144,0.3535971,0.5891325,0.37866914,0.19712235,0.7831546,0.35933638,1.0746897,0.20642012,0.29421845,0.21556537,0.22960643,0.2105068,0.19359486,0.19321783,0.6064787,0.5235031,0.29665282,0.5923416,0.54327106,1.5639685,0.5524848,0.4232065,0.17767134,0.8477945,0.298238,0.3991563,0.35298744,0.5846302,0.19083887,0.26210436,0.26587546,0.25858185,0.25366423,0.5382776,0.52938205,0.708068,0.16580333,0.26081938,0.29030856,0.18078603,0.2602105,0.14745203,0.8563304,0.23688301,0.9026619,0.54972434,0.61126226,0.35807103,0.3122637,0.32772836,0.6428201,0.18078603,0.23554361,0.22628848,0.23984703,0.28388524,0.5864328,0.2930656,0.28360114,0.4862487,0.20876649,0.8593804,0.3334622,0.6149816,0.47995618,0.4032029,0.53584653,0.42078203,0.563758,0.4119645,0.648005,0.37730855,0.73508656,0.9267858,0.38841876,0.49207544,0.35081536,0.2708509,0.50822365,0.28977266,0.2928339,0.27553582,0.30262652,0.2928339,0.38713273,0.480261,1.3106571,0.9470207,0.3742468,0.44283774,0.44665214,0.9631228,0.49381942,0.47465935,0.42998108,0.7377405,1.0708972,0.37039953,0.4725832,0.9384854,0.27851877,0.5657035,0.4097785,0.31257245,0.49265456,0.23709413,0.47356978,0.41833833,0.4549127,1.0388391,0.24350671,0.37688187,0.53252864,0.40171883,0.31753618,0.20320652,0.58540934,0.80488014,0.34960446,0.28608486,0.2802301,0.28100413,0.39529833,0.69147396,0.21512999,0.24733104,0.46210158,0.45956475,0.3991194,0.32654962,0.2229441,0.571938,0.5265799,0.34319758,0.5803168,0.48826867,0.2194821,0.6910288,0.3924035,0.51736456,0.59013027,0.31763428,0.6406909,0.36589777,0.44166327,0.5803168,0.4480157,0.32182306,0.94921136,0.24059479,0.224366,0.9895755,0.6097704,0.31261435,0.23636845,0.19195352,0.19534126,0.8567219,0.6890821,0.2443793,0.24836004,0.33059928,0.36854878,0.20302954,0.2948907,0.32176912,0.53390294,0.19401337,0.26494655,1.6167339,0.6142153,0.61282045,1.007306,0.6824923,0.44308186,0.9258718,0.25728592,0.25055957,0.24301,0.28103405,0.87392,0.47416702,2.1571636,0.91218954,0.21262252,0.70274675,0.24223775,0.2570493,0.37196738,0.3799624,0.69682485,0.5533594,0.8778142,0.40312377,0.9545539,1.750758,1.0765449,0.5682418,0.77563137,0.5475222,1.1041949,1.5224233,0.31385618,0.63853276,0.67404866,0.37118813,1.0290722,0.70193034,0.9072041,0.8521364,1.367212,0.96885556,0.68472385,0.754973,0.67002547,0.40258,0.3929366,0.72364044,0.26782823,0.43465742,0.38059166,0.47106525,0.60069966,0.5940652,0.5861617,0.50216943,0.4804446,0.3094817,0.44522142,0.43880254,1.9389575,0.58501476,0.7411056,0.81563926,0.9740343,0.5515802,0.65323204,0.94283545,0.56210107,0.7145062,0.8412843,1.2715358,0.4454152,0.8680465,1.2388375,0.5194282,1.3221447,0.4598311,0.36070803,0.4886661,0.37753293,0.37684816,0.38122422,1.6835533,0.43875903,0.22473335,0.2565444,0.3767659,0.8004171,0.5946089,0.39439467,0.36230275,0.30568486,0.2230766,0.32293728,0.5097072,0.23389396,0.30866486,1.0376983,1.0842506,0.96959496,0.29399213,0.76150537,0.27996588,0.28925982,0.24122566,0.5076928,0.23477979,0.3222755,0.23636845,0.82478875,0.35099322,0.27347085,0.26407042,0.28443563,0.25622898,0.27885216,0.73699033,0.41979805,0.63192403,0.8426938,0.35374716,0.2120106,0.23993883,0.30836618,0.7398143,0.45375314,0.3307713,0.42388606,0.31406766,0.25069115,0.27297285,0.42209935,0.9865421,0.25956738,0.51255184,0.60275537,0.61711425,0.19786465,0.51904994,0.6776982,0.50496286,0.814323,0.33826903,0.8396586,0.48303425,0.3856771,0.72787887,0.41342214,0.813898,0.86223084,0.361599,0.28773156,0.43350685,0.30930915,0.78613544,0.26257178,0.50817853,0.5385013,1.1642088,0.43506113,0.22469251,0.22502704,0.378418,0.98050135,0.96692765,0.9306394,0.22280426,0.9086235,0.94715166,0.6693536,1.0126026,0.8883698,0.38122422,0.34874147,0.29465082,0.7000314,0.59091026,0.62755305,0.28767172,0.17458187,0.30713704,0.25034946,0.37753293,0.7079867,0.98050135,0.43350685,0.8065558,0.723935,0.5761649,0.20905887,0.4004556,0.39697552,0.20470622,1.5224233,0.30236813,0.5004712,0.22847015,0.47554672,0.5701101,0.49879774,0.5313056,0.5144125,0.45772594,0.83035934,0.55707896,0.5021966,0.24049546,0.8582288,0.7000596,0.48670027,0.5446907,0.5755602,0.82059336,1.1406124,0.43649828,0.5419305,0.24853224,0.4682202,0.28555924,0.29279378,0.36450297,0.30386916,0.36967373],\"mode\":\"markers\"},{\"type\":\"scattergl\",\"x\":[0.0,17.97],\"y\":[0.0,17.97],\"mode\":\"lines\"}];\n",
       "            var layout = {\"showlegend\":false,\"xaxis\":{\"title\":\"True Values\",\"_isSubplotObj\":true},\"yaxis\":{\"title\":\"Predicted Values\",\"_isSubplotObj\":true}};\n",
       "            Plotly.newPlot('45a02642-4e0c-4ba7-ae6b-bb94d8cf5de2', data, layout);\n",
       "        });\r\n",
       "};\r\n",
       "if ((typeof(requirejs) !==  typeof(Function)) || (typeof(requirejs.config) !== typeof(Function))) { \r\n",
       "    var script = document.createElement(\"script\"); \r\n",
       "    script.setAttribute(\"src\", \"https://cdnjs.cloudflare.com/ajax/libs/require.js/2.3.6/require.min.js\"); \r\n",
       "    script.onload = function(){\r\n",
       "        renderPlotly();\r\n",
       "    };\r\n",
       "    document.getElementsByTagName(\"head\")[0].appendChild(script); \r\n",
       "}\r\n",
       "else {\r\n",
       "    renderPlotly();\r\n",
       "}\r\n",
       "</script>"
      ]
     },
     "metadata": {},
     "output_type": "display_data"
    },
    {
     "data": {
      "text/plain": [
       "Do AutoML for Olsen_P2O5 in 60 secs"
      ]
     },
     "metadata": {},
     "output_type": "display_data"
    },
    {
     "data": {
      "text/plain": [
       "Best Trainer:FastTreeTweedieRegression"
      ]
     },
     "metadata": {},
     "output_type": "display_data"
    },
    {
     "data": {
      "text/plain": [
       "*************************************************"
      ]
     },
     "metadata": {},
     "output_type": "display_data"
    },
    {
     "data": {
      "text/plain": [
       "*       Metrics for regression model      "
      ]
     },
     "metadata": {},
     "output_type": "display_data"
    },
    {
     "data": {
      "text/plain": [
       "*------------------------------------------------"
      ]
     },
     "metadata": {},
     "output_type": "display_data"
    },
    {
     "data": {
      "text/plain": [
       "*       LossFn:        6606.01"
      ]
     },
     "metadata": {},
     "output_type": "display_data"
    },
    {
     "data": {
      "text/plain": [
       "*       R2 Score:      -0.19"
      ]
     },
     "metadata": {},
     "output_type": "display_data"
    },
    {
     "data": {
      "text/plain": [
       "*       Absolute loss: 37.49"
      ]
     },
     "metadata": {},
     "output_type": "display_data"
    },
    {
     "data": {
      "text/plain": [
       "*       Squared loss:  6606.01"
      ]
     },
     "metadata": {},
     "output_type": "display_data"
    },
    {
     "data": {
      "text/plain": [
       "*       RMS loss:      81.28"
      ]
     },
     "metadata": {},
     "output_type": "display_data"
    },
    {
     "data": {
      "text/plain": [
       "*************************************************"
      ]
     },
     "metadata": {},
     "output_type": "display_data"
    },
    {
     "data": {
      "text/plain": [
       "=============== Saving the model  ==============="
      ]
     },
     "metadata": {},
     "output_type": "display_data"
    },
    {
     "data": {
      "text/plain": [
       "The model is saved to c:\\jobs\\BalitTanah.SoilSensingv2\\BalitTanah.SoilSensingKit.Modelv2\\Notebook\\..\\CSModel\\MLModels\\Olsen_P2O5.zip"
      ]
     },
     "metadata": {},
     "output_type": "display_data"
    },
    {
     "data": {
      "text/html": [
       "<div id=\"f461e823-b879-42ac-b4d6-8343cdc0a42d\" style=\"width: 900px; height: 500px;\"></div><script type=\"text/javascript\">\r\n",
       "\r\n",
       "var renderPlotly = function() {\r\n",
       "    var xplotRequire = requirejs.config({context:'xplot-2.0.0',paths:{plotly:'https://cdn.plot.ly/plotly-1.49.2.min'}});\r\n",
       "    xplotRequire(['plotly'], function(Plotly) {\r\n",
       "\n",
       "            var data = [{\"type\":\"scattergl\",\"x\":[3.9181171,0.6405235,1.0061005],\"y\":[21.714639596536127,27.246481127209133,19.884197060490997],\"mode\":\"markers\",\"marker\":{\"size\":12},\"name\":\"SdcaRegression\"},{\"type\":\"scattergl\",\"x\":[3.4900989],\"y\":[28.11039640995818],\"mode\":\"markers\",\"marker\":{\"size\":12},\"name\":\"LightGbmRegression\"},{\"type\":\"scattergl\",\"x\":[7.6708167],\"y\":[24.599098099548307],\"mode\":\"markers\",\"marker\":{\"size\":12},\"name\":\"FastTreeRegression\"},{\"type\":\"scattergl\",\"x\":[7.4388944,6.4529549,36.5029901],\"y\":[37.4946694720176,19.04325028911966,37.279258405008626],\"mode\":\"markers\",\"marker\":{\"size\":12},\"name\":\"FastTreeTweedieRegression\"},{\"type\":\"scattergl\",\"x\":[6.9025789],\"y\":[26.26341039793832],\"mode\":\"markers\",\"marker\":{\"size\":12},\"name\":\"FastForestRegression\"},{\"type\":\"scattergl\",\"x\":[2.2602298999999997,1.0027007],\"y\":[19.181173915594396,19.706620585750525],\"mode\":\"markers\",\"marker\":{\"size\":12},\"name\":\"LbfgsPoissonRegression\"},{\"type\":\"scattergl\",\"x\":[0.5917019],\"y\":[113244.92131252443],\"mode\":\"markers\",\"marker\":{\"size\":12},\"name\":\"OnlineGradientDescentRegression\"}];\n",
       "            var layout = {\"xaxis\":{\"title\":\"Training Time\",\"_isSubplotObj\":true},\"yaxis\":{\"title\":\"Error\",\"_isSubplotObj\":true}};\n",
       "            Plotly.newPlot('f461e823-b879-42ac-b4d6-8343cdc0a42d', data, layout);\n",
       "        });\r\n",
       "};\r\n",
       "if ((typeof(requirejs) !==  typeof(Function)) || (typeof(requirejs.config) !== typeof(Function))) { \r\n",
       "    var script = document.createElement(\"script\"); \r\n",
       "    script.setAttribute(\"src\", \"https://cdnjs.cloudflare.com/ajax/libs/require.js/2.3.6/require.min.js\"); \r\n",
       "    script.onload = function(){\r\n",
       "        renderPlotly();\r\n",
       "    };\r\n",
       "    document.getElementsByTagName(\"head\")[0].appendChild(script); \r\n",
       "}\r\n",
       "else {\r\n",
       "    renderPlotly();\r\n",
       "}\r\n",
       "</script>"
      ]
     },
     "metadata": {},
     "output_type": "display_data"
    },
    {
     "data": {
      "text/html": [
       "<div id=\"0b0a7722-f876-4b91-9651-b9c6ed766c40\" style=\"width: 600px; height: 600px;\"></div><script type=\"text/javascript\">\r\n",
       "\r\n",
       "var renderPlotly = function() {\r\n",
       "    var xplotRequire = requirejs.config({context:'xplot-2.0.0',paths:{plotly:'https://cdn.plot.ly/plotly-1.49.2.min'}});\r\n",
       "    xplotRequire(['plotly'], function(Plotly) {\r\n",
       "\n",
       "            var data = [{\"type\":\"scattergl\",\"x\":[11.446689,28.037878,16.0,12.489233,36.0,7.760549,51.480648,7.760549,38.483246,181.95135,74.0,38.0,65.0,9.0,4.097506,3.0084178,4.7867084,34.502983,25.30698,4.0,5.8677735,9.692132,42.19827,28.06419,4.0,4.7368565,19.870005,7.6009474,1.6433053,2.0783978,5.0,12.499539,50.523212,19.195139,24.11323,76.0,8.0,10.0,6.0,46.0,19.0,5.0,42.0,7.344366,67.60513,150.1744,6.712232,25.333584,37.682858,11.334182,3.3831666,3.5927722,7.0,20.538265,10.3,37.30011,20.924051,4.977193,8.9675865,6.0,6.333714,6.634621,7.0,10.155177,7.2684917,5.0,7.4044733,4.561084,5.6077733,4.0,38.0,30.0,37.895565,32.154243,10.834024,14.0,15.617459,13.0,15.0,13.653975,10.792324,18.708271,15.931112,30.0,19.23465,16.51003,57.950855,63.0,29.188902,40.0,48.0,53.192326,20.303022,24.804735,68.974594,65.043655,43.923767,34.0,27.06706,46.0,63.47789,3.794665,3.7563772,69.632225,16.239079,19.755104,7.2003675,38.595207,33.79028,19.0,7.0,11.0,9.0,10.0,112.0,23.0,7.658216,12.74753,7.72549,10.77872,11.93732,20.06119,23.35165,21.87787,9.385008,18.74475,6.122569,7.396242,77.49688,15.0,25.0,37.08341,32.55784,18.0,16.9587,11.0,24.7181,18.0,18.20805,115.8155,78.96145,47.44867,16.28005,15.20424,18.19374,6.094243,13.75297,705.0,432.0,37.77879,36.82467,11.23957,15.95162,19.62093,45.88853,29.0,32.0,16.80032,17.0,16.0,30.0,12.0,6.677034,6.80255,9.0,6.0,4.0,19.0,218.5105,177.8873,131.8815,314.0,69.95036,19.20516,23.40199,20.59031,40.44388,19.92179,174.6598,29.48756,31.79681,9.228662,103.9112,41.28368,59.73166,126.2485,33.46229,52.33133,51.37171,45.52755,32.1634,17.12966],\"y\":[62.272076,32.094692,16.75471,28.835777,22.052275,25.786903,8.27173,16.05884,26.487093,24.668028,27.212875,23.051743,13.959075,45.27939,21.196764,17.184954,3.7788756,4.1945004,7.1804776,10.509017,4.4529223,5.2066793,34.748154,29.295126,29.430166,17.90694,8.607926,16.57946,4.280164,35.00501,8.333954,27.08753,14.515107,13.2577915,11.3882885,40.219017,14.408126,32.02432,23.316391,15.7120905,11.644081,3.960549,37.190002,23.663324,8.831018,15.887884,11.497615,8.052005,13.662134,37.77062,21.465363,3.1046288,2.9871178,16.753143,5.8802114,53.714264,7.5044723,13.47745,10.008596,7.287418,6.9015546,11.965272,6.7846155,10.982825,10.231558,13.201124,7.864175,36.036232,10.717068,14.323277,75.23268,10.241003,5.3594823,39.873936,15.398434,11.959602,24.922676,15.078368,13.220341,19.596432,29.538225,15.200061,28.76233,12.611033,32.269714,21.780584,13.020009,24.057255,6.108791,25.299139,16.705364,49.9454,34.645138,18.11166,17.453093,59.800606,31.608915,32.925327,23.926636,18.015057,32.37909,4.269239,16.664375,28.904333,24.708223,23.26725,10.863091,25.357908,32.954723,20.308844,31.723984,38.58781,15.168329,29.99466,36.16559,43.089935,19.070412,18.684793,18.145433,9.513315,11.61656,16.683914,29.574495,9.395157,53.13425,29.465132,14.393949,6.8480463,25.318628,12.6421585,23.668268,10.194143,47.29191,52.824734,7.2260838,4.352867,46.07812,48.42016,16.233519,45.30349,30.48629,31.728455,20.799809,24.242014,9.251038,57.919018,20.919481,24.710804,50.632923,15.470571,18.608107,19.080053,51.413517,52.22604,70.78063,25.568562,32.906044,27.090643,13.048823,11.470134,17.921274,17.59275,20.997494,16.849998,33.762608,23.109379,30.10932,38.701923,75.2414,23.898672,8.080569,27.343142,29.952425,41.331192,14.326757,19.345482,42.539505,24.913582,93.026344,12.457069,13.384832,28.565912,50.344784,22.495491,12.8286295,18.82376,15.351074,60.897747,35.85359,18.269773,57.681,11.38471],\"mode\":\"markers\"},{\"type\":\"scattergl\",\"x\":[0.0,705.0],\"y\":[0.0,705.0],\"mode\":\"lines\"}];\n",
       "            var layout = {\"showlegend\":false,\"xaxis\":{\"title\":\"True Values\",\"_isSubplotObj\":true},\"yaxis\":{\"title\":\"Predicted Values\",\"_isSubplotObj\":true}};\n",
       "            Plotly.newPlot('0b0a7722-f876-4b91-9651-b9c6ed766c40', data, layout);\n",
       "        });\r\n",
       "};\r\n",
       "if ((typeof(requirejs) !==  typeof(Function)) || (typeof(requirejs.config) !== typeof(Function))) { \r\n",
       "    var script = document.createElement(\"script\"); \r\n",
       "    script.setAttribute(\"src\", \"https://cdnjs.cloudflare.com/ajax/libs/require.js/2.3.6/require.min.js\"); \r\n",
       "    script.onload = function(){\r\n",
       "        renderPlotly();\r\n",
       "    };\r\n",
       "    document.getElementsByTagName(\"head\")[0].appendChild(script); \r\n",
       "}\r\n",
       "else {\r\n",
       "    renderPlotly();\r\n",
       "}\r\n",
       "</script>"
      ]
     },
     "metadata": {},
     "output_type": "display_data"
    },
    {
     "data": {
      "text/plain": [
       "Do AutoML for PH_H2O in 60 secs"
      ]
     },
     "metadata": {},
     "output_type": "display_data"
    },
    {
     "data": {
      "text/plain": [
       "Best Trainer:FastTreeRegression"
      ]
     },
     "metadata": {},
     "output_type": "display_data"
    },
    {
     "data": {
      "text/plain": [
       "*************************************************"
      ]
     },
     "metadata": {},
     "output_type": "display_data"
    },
    {
     "data": {
      "text/plain": [
       "*       Metrics for regression model      "
      ]
     },
     "metadata": {},
     "output_type": "display_data"
    },
    {
     "data": {
      "text/plain": [
       "*------------------------------------------------"
      ]
     },
     "metadata": {},
     "output_type": "display_data"
    },
    {
     "data": {
      "text/plain": [
       "*       LossFn:        0.56"
      ]
     },
     "metadata": {},
     "output_type": "display_data"
    },
    {
     "data": {
      "text/plain": [
       "*       R2 Score:      0.58"
      ]
     },
     "metadata": {},
     "output_type": "display_data"
    },
    {
     "data": {
      "text/plain": [
       "*       Absolute loss: .57"
      ]
     },
     "metadata": {},
     "output_type": "display_data"
    },
    {
     "data": {
      "text/plain": [
       "*       Squared loss:  .56"
      ]
     },
     "metadata": {},
     "output_type": "display_data"
    },
    {
     "data": {
      "text/plain": [
       "*       RMS loss:      .75"
      ]
     },
     "metadata": {},
     "output_type": "display_data"
    },
    {
     "data": {
      "text/plain": [
       "*************************************************"
      ]
     },
     "metadata": {},
     "output_type": "display_data"
    },
    {
     "data": {
      "text/plain": [
       "=============== Saving the model  ==============="
      ]
     },
     "metadata": {},
     "output_type": "display_data"
    },
    {
     "data": {
      "text/plain": [
       "The model is saved to c:\\jobs\\BalitTanah.SoilSensingv2\\BalitTanah.SoilSensingKit.Modelv2\\Notebook\\..\\CSModel\\MLModels\\PH_H2O.zip"
      ]
     },
     "metadata": {},
     "output_type": "display_data"
    },
    {
     "data": {
      "text/html": [
       "<div id=\"1fd248d7-ef0e-41a4-8802-7fbce288304b\" style=\"width: 900px; height: 500px;\"></div><script type=\"text/javascript\">\r\n",
       "\r\n",
       "var renderPlotly = function() {\r\n",
       "    var xplotRequire = requirejs.config({context:'xplot-2.0.0',paths:{plotly:'https://cdn.plot.ly/plotly-1.49.2.min'}});\r\n",
       "    xplotRequire(['plotly'], function(Plotly) {\r\n",
       "\n",
       "            var data = [{\"type\":\"scattergl\",\"x\":[4.427349599999999],\"y\":[0.5770509328160968],\"mode\":\"markers\",\"marker\":{\"size\":12},\"name\":\"SdcaRegression\"},{\"type\":\"scattergl\",\"x\":[5.2557034,1.9325790999999999],\"y\":[0.5460543306464822,0.703225398467759],\"mode\":\"markers\",\"marker\":{\"size\":12},\"name\":\"LightGbmRegression\"},{\"type\":\"scattergl\",\"x\":[8.1379162,20.8256546],\"y\":[0.6030255103296087,0.570519857628401],\"mode\":\"markers\",\"marker\":{\"size\":12},\"name\":\"FastTreeRegression\"},{\"type\":\"scattergl\",\"x\":[8.220623999999999],\"y\":[0.5770185344903044],\"mode\":\"markers\",\"marker\":{\"size\":12},\"name\":\"FastTreeTweedieRegression\"},{\"type\":\"scattergl\",\"x\":[7.7895376],\"y\":[0.5797366142272949],\"mode\":\"markers\",\"marker\":{\"size\":12},\"name\":\"FastForestRegression\"},{\"type\":\"scattergl\",\"x\":[1.8258059,2.9427991],\"y\":[0.5718891535486493,0.5639874339103699],\"mode\":\"markers\",\"marker\":{\"size\":12},\"name\":\"LbfgsPoissonRegression\"},{\"type\":\"scattergl\",\"x\":[0.8119848],\"y\":[26884.74255440975],\"mode\":\"markers\",\"marker\":{\"size\":12},\"name\":\"OnlineGradientDescentRegression\"}];\n",
       "            var layout = {\"xaxis\":{\"title\":\"Training Time\",\"_isSubplotObj\":true},\"yaxis\":{\"title\":\"Error\",\"_isSubplotObj\":true}};\n",
       "            Plotly.newPlot('1fd248d7-ef0e-41a4-8802-7fbce288304b', data, layout);\n",
       "        });\r\n",
       "};\r\n",
       "if ((typeof(requirejs) !==  typeof(Function)) || (typeof(requirejs.config) !== typeof(Function))) { \r\n",
       "    var script = document.createElement(\"script\"); \r\n",
       "    script.setAttribute(\"src\", \"https://cdnjs.cloudflare.com/ajax/libs/require.js/2.3.6/require.min.js\"); \r\n",
       "    script.onload = function(){\r\n",
       "        renderPlotly();\r\n",
       "    };\r\n",
       "    document.getElementsByTagName(\"head\")[0].appendChild(script); \r\n",
       "}\r\n",
       "else {\r\n",
       "    renderPlotly();\r\n",
       "}\r\n",
       "</script>"
      ]
     },
     "metadata": {},
     "output_type": "display_data"
    },
    {
     "data": {
      "text/html": [
       "<div id=\"2cadbc2a-3428-41cf-8f74-b2f931e94fda\" style=\"width: 600px; height: 600px;\"></div><script type=\"text/javascript\">\r\n",
       "\r\n",
       "var renderPlotly = function() {\r\n",
       "    var xplotRequire = requirejs.config({context:'xplot-2.0.0',paths:{plotly:'https://cdn.plot.ly/plotly-1.49.2.min'}});\r\n",
       "    xplotRequire(['plotly'], function(Plotly) {\r\n",
       "\n",
       "            var data = [{\"type\":\"scattergl\",\"x\":[6.3,6.3,6.731,5.939,6.06,4.6,4.5,4.558,4.5,6.29,7.7,6.2,7.45,6.1,4.5,4.7,4.5,4.7,4.2,4.9,5.2,5.1,4.3,4.7,6.4,7.6,7.6,5.1,4.9,5.1,7.6,5.1,5.32,5.288,5.0,4.912,7.0,7.0,6.09,5.0,6.7,6.3,4.6,5.0,4.441,4.495,4.581,4.313,4.695,5.322,4.745,4.396,4.636,5.804,6.067,4.918,5.5,4.972,5.1,4.986,5.306,5.109,5.017,5.2,5.4,4.45,5.1,4.385,6.44,5.115,4.735,4.827,5.033,6.001,5.3,5.14,6.58,6.58,6.0,5.2,6.223,5.29,5.6,5.451,4.647,5.133,4.84,5.285,5.5,5.5,5.7,5.439,6.04,8.22,7.6,8.0,5.2,5.8,7.46,7.4,6.4,6.3,6.7,6.3,6.2,6.0,8.1,8.3,8.4,5.4,5.8,5.8,5.9,5.4,6.0,6.2,6.0,5.063,5.5,5.6,5.2,5.628,6.49,6.88,7.32,5.218,4.9,4.91,4.754,6.0,7.322,6.689,6.4,6.149,6.185,4.823,6.032,5.984,5.106,4.96,5.4,5.5,5.2,5.3,8.68,8.3,7.67,8.43,8.23,7.68,7.16,6.641,7.113,7.681,5.7,5.8,4.803,4.249,5.048,5.073,6.0,5.2,5.2,5.1,6.03,5.07,4.83,4.54,5.54,4.46,3.59,4.1,5.58,4.95,7.36,6.033,7.948,6.39,6.44,8.45,8.8,8.56,8.54,5.12,5.88,6.03,6.0,7.35,6.69,7.43,7.92,6.29,8.0,5.44,5.38,5.6,5.6,5.9,5.96,6.76,7.44,7.7,7.8,8.23,7.77,7.68,7.9,8.0,8.2,6.3,8.103,8.236,4.853,7.073,6.2,5.9,7.4,7.1,8.42,8.225,7.7,6.3,5.3,6.4,5.4,7.9,7.9,8.3,6.5,5.9,5.7,5.8,5.4,5.1,5.2,5.2,5.2,5.6,5.42,5.07,6.26,5.3,6.0,5.2,6.06,6.0,7.41,5.0,7.0,6.14,8.5,7.4,6.74,7.0,5.1,5.3,6.5,6.7,6.06,6.05,5.2,6.79,5.2,6.09,7.43,5.26,5.92,6.9,5.24,5.0,5.2,5.21,5.42,6.21,6.26,6.5,6.63,8.0,7.04,7.05,5.26,5.3,7.33,5.36,6.25,5.0,5.0,5.0,4.63,5.44,4.92,4.8,5.81,7.3,7.02,6.54,6.1,6.92,6.95,5.5,6.11,5.66,6.4,5.42,5.5,5.5,5.85,6.85,6.64,6.6,6.5,6.97,6.29,6.47,6.44,6.18,6.27,6.68,6.086,7.65,6.0,5.3,7.4,5.39,7.23,6.84,8.29,7.85,8.24,5.31,6.09,6.546,7.95,4.65,7.59,6.05,6.72,8.15,7.73,6.32,5.3,6.7,7.7,8.6,6.2,7.21,8.4,8.35,8.34,7.86,5.44,8.2,4.72,4.86,6.79,6.26,4.85,4.47,5.17,4.92,4.67,5.5,7.1,7.37,6.78,7.03,6.89,6.78,6.37,6.22,6.13,5.32,4.68,5.89,5.41,6.52,6.9,8.03,7.88,6.05,6.9,6.96,7.65,6.92,8.0,6.45,5.37,4.54,6.44,8.36,5.37,8.27,7.34,6.5,4.93,5.36,4.5,4.67,4.7,5.06,4.81],\"y\":[6.8039713,6.150953,7.339812,6.011064,6.2236085,4.43402,6.234366,5.841005,5.710896,5.6035852,5.349506,6.558331,6.510548,7.3919907,5.167097,5.955917,5.2085786,5.9118013,4.7327747,4.7134447,5.5341277,4.8306904,5.0418935,4.6537743,5.65034,7.7648873,7.738505,5.649066,5.3892193,4.499078,6.36746,4.9199586,5.3662076,5.5439334,5.429851,4.6766677,6.2429767,5.0847993,5.4750714,5.2309346,5.7926598,7.0522265,6.466804,5.0989985,4.778278,5.439936,5.0279713,5.2649217,4.9902844,5.631082,4.692741,5.2872477,5.145903,5.7847733,5.7451344,5.54793,5.787781,6.5670834,5.359382,5.619183,5.340093,5.099913,4.748345,5.4540544,4.7240534,5.4277997,5.4980493,5.8236446,6.585352,5.797399,6.208764,6.622365,5.23493,6.6545515,5.5323153,5.713706,7.4779525,7.9301515,6.8191466,6.285652,7.49626,5.554409,5.503778,6.398086,4.7875395,5.025672,5.470259,5.8591814,6.865554,6.4149814,6.7331753,4.833403,6.3081484,7.6611366,7.255117,7.125233,6.355275,6.4635277,7.078146,7.9050527,6.026263,5.751838,6.195908,6.0697784,6.355795,6.546932,7.543209,7.3253794,8.22111,6.121616,5.8975163,5.1755905,4.9983425,6.701027,6.226139,5.807731,7.0064855,6.2737584,5.720829,6.060455,5.3707976,6.1297727,5.152465,6.050386,6.602592,5.8371625,5.041688,4.9436088,5.22736,6.973156,7.024897,5.8562617,5.9298463,5.9705114,6.2705145,6.1811514,5.4426765,5.3220096,5.0586796,5.1918354,5.363723,6.0902467,5.1146846,5.4944324,7.5811453,7.585047,7.0346518,8.307376,7.9237804,7.0842977,7.304599,6.373768,6.408999,6.7284946,6.887827,6.287037,4.5361457,4.350281,5.1461096,5.9531164,5.738734,4.875249,4.825921,5.049384,5.256942,5.0764318,4.4687867,3.8972218,5.0567408,4.601486,4.7983093,4.821844,5.382923,5.283288,5.914825,5.425003,5.856205,6.4146986,6.5060987,7.7721267,7.9907064,7.5893235,7.925927,6.3421226,5.5071235,5.985586,5.587456,5.8768783,5.804766,7.5101666,8.023924,5.6833253,7.566894,4.9086423,4.950373,5.864435,6.0329714,6.044188,6.885775,7.164916,6.5177455,7.0813494,6.941645,7.656739,7.0008926,7.6517224,7.278268,7.242312,6.8262224,5.570757,7.691365,7.361707,5.580601,7.550568,6.210344,7.6586776,6.9571357,6.586877,7.7472396,8.153842,7.4972634,6.14634,5.8214765,6.157793,6.628546,7.2685256,7.0814614,6.89457,5.6178203,6.414639,6.5067363,5.870898,5.8465767,7.1239944,5.050318,6.2066317,6.898514,7.016507,6.359509,5.7576094,5.272432,5.7065845,7.3495293,6.7035375,7.1603646,5.760581,7.729756,6.2636356,7.1839433,5.771875,7.7940526,5.409898,6.577974,5.9860363,6.281236,6.67754,7.0092344,5.4178457,4.9987464,5.9414515,5.243829,5.2250066,5.9726624,5.8873296,5.5400453,6.4189177,5.3299036,6.5891557,5.1026654,4.9102874,4.7253585,4.990124,4.4903917,6.096664,5.659529,6.808104,5.863245,7.13401,5.4182677,7.0163608,4.752171,5.071177,5.8224406,6.00907,6.0864987,5.6506214,5.007065,4.6117907,5.7257924,5.0181613,4.7905126,4.937719,5.155022,6.768746,7.127137,6.8481345,6.672371,6.787228,7.250359,5.2976174,6.564582,7.3291435,5.777989,5.0927777,5.9804044,5.5701904,5.371035,5.291473,5.4709873,5.6781898,6.435919,5.715202,5.749096,5.3362513,6.3491573,5.7087827,5.1634817,6.193219,6.2886205,7.5791354,5.499587,5.166962,6.5353584,5.3911867,7.5197053,6.9333205,7.9907355,6.374264,6.008524,5.5792623,5.878188,6.7469177,6.049478,4.8717856,7.9802685,5.391863,7.3766203,7.902525,7.526645,5.043942,6.4889784,7.8076043,7.2260494,6.5128837,6.9037805,7.336464,6.31013,7.033587,7.509725,6.051789,5.01429,6.1651716,4.3818626,5.6513267,6.2547445,5.63751,4.769405,4.5430274,5.2850366,5.3818054,4.607572,5.9473157,7.280621,6.5183926,7.1042643,6.808836,7.087151,6.5723753,5.9932237,6.710194,5.9602065,5.4869704,5.3230767,5.692607,5.4395776,5.4152226,5.254063,7.583194,6.678182,5.3939857,6.4533005,6.8046427,5.512583,6.137642,7.291526,6.2532454,4.798818,5.2712398,5.972711,7.7226377,6.9054775,7.473056,6.7513757,7.504243,4.148671,6.1648674,4.8083653,4.8550534,4.7414217,4.7086697,4.5514016],\"mode\":\"markers\"},{\"type\":\"scattergl\",\"x\":[0.0,8.8],\"y\":[0.0,8.8],\"mode\":\"lines\"}];\n",
       "            var layout = {\"showlegend\":false,\"xaxis\":{\"title\":\"True Values\",\"_isSubplotObj\":true},\"yaxis\":{\"title\":\"Predicted Values\",\"_isSubplotObj\":true}};\n",
       "            Plotly.newPlot('2cadbc2a-3428-41cf-8f74-b2f931e94fda', data, layout);\n",
       "        });\r\n",
       "};\r\n",
       "if ((typeof(requirejs) !==  typeof(Function)) || (typeof(requirejs.config) !== typeof(Function))) { \r\n",
       "    var script = document.createElement(\"script\"); \r\n",
       "    script.setAttribute(\"src\", \"https://cdnjs.cloudflare.com/ajax/libs/require.js/2.3.6/require.min.js\"); \r\n",
       "    script.onload = function(){\r\n",
       "        renderPlotly();\r\n",
       "    };\r\n",
       "    document.getElementsByTagName(\"head\")[0].appendChild(script); \r\n",
       "}\r\n",
       "else {\r\n",
       "    renderPlotly();\r\n",
       "}\r\n",
       "</script>"
      ]
     },
     "metadata": {},
     "output_type": "display_data"
    },
    {
     "data": {
      "text/plain": [
       "Do AutoML for PH_KCL in 60 secs"
      ]
     },
     "metadata": {},
     "output_type": "display_data"
    },
    {
     "data": {
      "text/plain": [
       "Best Trainer:LightGbmRegression"
      ]
     },
     "metadata": {},
     "output_type": "display_data"
    },
    {
     "data": {
      "text/plain": [
       "*************************************************"
      ]
     },
     "metadata": {},
     "output_type": "display_data"
    },
    {
     "data": {
      "text/plain": [
       "*       Metrics for regression model      "
      ]
     },
     "metadata": {},
     "output_type": "display_data"
    },
    {
     "data": {
      "text/plain": [
       "*------------------------------------------------"
      ]
     },
     "metadata": {},
     "output_type": "display_data"
    },
    {
     "data": {
      "text/plain": [
       "*       LossFn:        0.44"
      ]
     },
     "metadata": {},
     "output_type": "display_data"
    },
    {
     "data": {
      "text/plain": [
       "*       R2 Score:      0.5"
      ]
     },
     "metadata": {},
     "output_type": "display_data"
    },
    {
     "data": {
      "text/plain": [
       "*       Absolute loss: .52"
      ]
     },
     "metadata": {},
     "output_type": "display_data"
    },
    {
     "data": {
      "text/plain": [
       "*       Squared loss:  .44"
      ]
     },
     "metadata": {},
     "output_type": "display_data"
    },
    {
     "data": {
      "text/plain": [
       "*       RMS loss:      .66"
      ]
     },
     "metadata": {},
     "output_type": "display_data"
    },
    {
     "data": {
      "text/plain": [
       "*************************************************"
      ]
     },
     "metadata": {},
     "output_type": "display_data"
    },
    {
     "data": {
      "text/plain": [
       "=============== Saving the model  ==============="
      ]
     },
     "metadata": {},
     "output_type": "display_data"
    },
    {
     "data": {
      "text/plain": [
       "The model is saved to c:\\jobs\\BalitTanah.SoilSensingv2\\BalitTanah.SoilSensingKit.Modelv2\\Notebook\\..\\CSModel\\MLModels\\PH_KCL.zip"
      ]
     },
     "metadata": {},
     "output_type": "display_data"
    },
    {
     "data": {
      "text/html": [
       "<div id=\"33339e4e-a05b-4e24-85d6-2fafc22d29b9\" style=\"width: 900px; height: 500px;\"></div><script type=\"text/javascript\">\r\n",
       "\r\n",
       "var renderPlotly = function() {\r\n",
       "    var xplotRequire = requirejs.config({context:'xplot-2.0.0',paths:{plotly:'https://cdn.plot.ly/plotly-1.49.2.min'}});\r\n",
       "    xplotRequire(['plotly'], function(Plotly) {\r\n",
       "\n",
       "            var data = [{\"type\":\"scattergl\",\"x\":[3.1207026],\"y\":[0.5927439726005166],\"mode\":\"markers\",\"marker\":{\"size\":12},\"name\":\"SdcaRegression\"},{\"type\":\"scattergl\",\"x\":[5.8164595,3.7827642,2.3131724],\"y\":[0.5414180796025163,0.5239453069094954,0.5379393988642199],\"mode\":\"markers\",\"marker\":{\"size\":12},\"name\":\"LightGbmRegression\"},{\"type\":\"scattergl\",\"x\":[8.379294699999999,4.8933626,5.0736433],\"y\":[0.5712079040763914,0.6907990828965062,0.5654617042864784],\"mode\":\"markers\",\"marker\":{\"size\":12},\"name\":\"FastTreeRegression\"},{\"type\":\"scattergl\",\"x\":[8.3812107],\"y\":[0.540160083770752],\"mode\":\"markers\",\"marker\":{\"size\":12},\"name\":\"FastTreeTweedieRegression\"},{\"type\":\"scattergl\",\"x\":[7.6127671999999995,7.2571705],\"y\":[0.5999456505442775,0.6043491382007451],\"mode\":\"markers\",\"marker\":{\"size\":12},\"name\":\"FastForestRegression\"},{\"type\":\"scattergl\",\"x\":[2.1144692],\"y\":[0.599333041805332],\"mode\":\"markers\",\"marker\":{\"size\":12},\"name\":\"LbfgsPoissonRegression\"},{\"type\":\"scattergl\",\"x\":[0.865968],\"y\":[27217.992406910864],\"mode\":\"markers\",\"marker\":{\"size\":12},\"name\":\"OnlineGradientDescentRegression\"}];\n",
       "            var layout = {\"xaxis\":{\"title\":\"Training Time\",\"_isSubplotObj\":true},\"yaxis\":{\"title\":\"Error\",\"_isSubplotObj\":true}};\n",
       "            Plotly.newPlot('33339e4e-a05b-4e24-85d6-2fafc22d29b9', data, layout);\n",
       "        });\r\n",
       "};\r\n",
       "if ((typeof(requirejs) !==  typeof(Function)) || (typeof(requirejs.config) !== typeof(Function))) { \r\n",
       "    var script = document.createElement(\"script\"); \r\n",
       "    script.setAttribute(\"src\", \"https://cdnjs.cloudflare.com/ajax/libs/require.js/2.3.6/require.min.js\"); \r\n",
       "    script.onload = function(){\r\n",
       "        renderPlotly();\r\n",
       "    };\r\n",
       "    document.getElementsByTagName(\"head\")[0].appendChild(script); \r\n",
       "}\r\n",
       "else {\r\n",
       "    renderPlotly();\r\n",
       "}\r\n",
       "</script>"
      ]
     },
     "metadata": {},
     "output_type": "display_data"
    },
    {
     "data": {
      "text/html": [
       "<div id=\"456ec728-9c52-4b3c-8e55-6afab9e77fb1\" style=\"width: 600px; height: 600px;\"></div><script type=\"text/javascript\">\r\n",
       "\r\n",
       "var renderPlotly = function() {\r\n",
       "    var xplotRequire = requirejs.config({context:'xplot-2.0.0',paths:{plotly:'https://cdn.plot.ly/plotly-1.49.2.min'}});\r\n",
       "    xplotRequire(['plotly'], function(Plotly) {\r\n",
       "\n",
       "            var data = [{\"type\":\"scattergl\",\"x\":[5.15,4.9,5.226,4.987,5.062,4.245,4.1,4.2,4.1,5.43,6.301,4.892,6.411,4.824,3.4,3.5,3.5,3.3,3.1,3.4,4.3,4.1,4.0,4.3,5.0,6.2,6.2,4.2,4.6,4.6,6.8,4.1,4.26,4.305,3.83,4.546,5.5,5.4,5.449,4.34,5.714,5.059,3.7,4.3,4.267,4.301,4.011,3.975,4.047,4.145,4.072,3.793,3.85,4.856,4.649,4.077,4.944,3.875,3.922,3.931,4.403,4.131,3.977,3.789,4.419,3.841,4.8,3.966,5.466,3.761,3.982,4.106,4.392,5.065,4.553,3.759,5.523,5.523,4.716,4.3,4.905,4.0,4.325,4.366,3.786,4.0,3.993,4.548,4.778,4.8,5.0,4.541,4.605,6.899,6.294,6.613,3.78,4.406,6.503,6.087,5.5,5.4,5.2,4.9,5.5,4.7,7.1,7.2,7.3,4.9,4.4,4.4,4.6,4.2,4.5,4.7,4.9,4.7,5.015,5.3,4.902,5.1,5.17,5.2,5.36,3.908,3.9,3.812,3.819,4.344,5.881,5.047,5.3,4.8,4.92,3.947,4.871,4.894,4.12,4.059,4.5,4.33,4.08,4.06,7.46,7.0,6.43,6.64,7.1,6.8,6.08,5.416,6.085,6.635,4.9,4.852,3.707,4.0,3.652,3.719,5.206,4.3,4.34,4.66,5.09,3.79,3.81,3.91,4.77,3.52,3.1,3.37,4.85,4.28,6.42,5.693,7.31,5.346,4.691,6.882,7.254,7.073,7.128,3.805,4.501,4.685,4.678,5.921,4.943,5.787,6.082,5.0,6.585,4.74,4.37,4.74,4.87,4.45,5.12,5.53,6.64,6.41,6.37,6.93,6.6,6.33,6.5,6.57,6.76,4.89,7.068,7.167,3.708,5.627,4.822,4.581,6.4,6.2,7.223,7.209,6.2,4.9,4.5,5.4,4.8,6.8,6.6,6.9,5.5,4.5,4.3,4.3,4.2,3.7,4.2,4.0,4.2,4.2,4.322,4.176,4.954,4.132,4.835,4.269,4.831,5.084,6.09,4.023,5.6,4.597,6.957,6.5,5.499,5.288,4.29,3.963,4.776,5.516,4.779,5.025,4.1,5.617,4.08,4.904,5.999,4.205,4.847,5.863,4.175,4.191,4.252,4.2,4.354,4.458,4.9501,4.827,4.631,7.128,5.91,6.0,4.2,4.086,6.334,4.1,4.963,4.181,4.075,4.062,3.878,4.716,4.234,4.283,4.717,5.7,5.635,5.064,4.721,5.401,5.431,4.554,4.7,4.315,4.9,4.333,4.329,4.048,4.6,5.903,5.0,5.172,5.1,5.8,5.056,5.154,4.7345,4.606,4.659,5.37,5.186,6.716,4.857,4.33,6.341,3.917,5.829,5.527,6.917,6.636,7.008,3.884,4.683,5.426,7.099,4.132,6.511,4.941,5.575,7.376,6.848,5.725,4.256,5.3,5.7,6.5,5.0,6.357,6.683,6.821,7.163,6.765,4.125,7.213,3.93,4.19,5.768,5.043,4.061,4.064,4.315,4.282,4.229,4.398,5.698,5.884,5.038,5.184,5.682,5.623,5.538,5.478,5.131,4.169,4.03,4.878,4.179,5.347,5.85,6.814,6.92,4.512,5.771,5.983,6.427,5.851,6.621,5.279,3.926,3.748,5.35,6.963,4.319,7.007,6.471,5.089,4.023,4.307,4.021,4.093,4.064,3.972,3.865],\"y\":[5.4231014,4.6609693,5.448684,4.674951,4.8301234,4.1243467,5.171808,4.8631573,4.850276,4.730133,4.478068,5.3239727,5.2123985,5.6566668,4.3029013,4.610538,4.2968545,4.6066403,4.1746674,4.154542,4.854395,4.2201056,4.3969665,4.430921,4.796094,6.3295064,5.7354465,4.6310587,4.5274224,4.071885,5.0520167,4.6246805,4.436236,4.560105,4.300693,4.29528,5.4273224,4.3761854,4.688889,4.378131,5.6376452,5.5738945,4.736632,4.313336,4.4008226,4.580002,4.118466,4.123513,4.334728,4.542047,4.154741,4.517904,4.210909,4.5639935,4.4776707,4.3895726,4.653155,4.782243,4.194987,4.3016996,4.5160456,4.119584,4.0423236,4.53742,4.3383603,4.656509,4.9873757,4.3044186,5.484468,4.385172,4.6100645,4.856496,4.49065,5.4671764,4.5129423,4.642405,6.303699,6.3332314,5.8370686,5.055247,5.398146,4.5093236,4.3787785,4.8375173,4.0517473,4.3900614,4.205858,5.1101875,5.6541004,5.569299,5.60307,4.556711,4.884336,6.106742,5.941886,5.841797,4.826332,5.0414553,5.6703053,6.457531,4.8149347,4.8972316,5.0952983,5.2138376,5.199348,4.9897385,5.8793497,5.9067187,6.4256988,4.6630406,4.6936274,4.520274,4.325698,5.416044,4.614109,4.5603456,5.6089144,5.790526,5.231244,5.3778944,5.1707854,5.256646,4.266319,4.709009,5.697912,4.8522673,4.217606,4.093162,4.176777,5.3218923,5.538786,4.678986,4.9380465,4.842285,4.8185086,4.415525,4.495328,4.50311,4.3764186,4.3876834,4.385084,5.17936,4.7301655,4.261679,6.5072083,6.3167686,4.870398,6.306682,6.571394,5.2765207,5.8163457,5.325316,5.1855717,6.0718317,5.417989,5.308147,4.0425243,3.9784248,4.336344,4.70281,4.446289,4.108736,4.205745,4.26835,4.1163607,3.9383163,3.9873817,3.845299,4.4520097,3.8665495,3.920806,3.9094644,4.0591393,3.959002,4.4752884,4.5139694,4.4887447,5.501943,4.7776027,6.3391695,6.535755,5.944873,6.0217834,4.6636252,4.4514236,4.589092,4.476769,4.8722234,4.6280174,6.277467,6.397685,4.4919853,6.014381,4.167399,4.158887,4.9596972,5.1869698,4.7159624,5.993113,6.047948,4.8965254,6.0939417,5.4264946,6.1528063,6.1414537,5.869085,5.8770785,5.6631207,4.9731183,4.4933,6.416447,6.246104,4.7181425,5.7864614,5.28058,5.780456,4.9917026,5.197437,6.2071567,6.361931,5.604473,5.0914936,4.577941,4.90756,5.6317964,5.6621037,5.643001,5.6137614,4.87476,5.163229,4.974474,5.3147836,5.1915283,6.005543,4.3105164,4.9129057,5.0263247,5.567415,4.966648,5.1421237,4.608412,4.5602775,5.682302,5.075669,5.5358725,4.524933,6.0026746,4.6039667,6.0570197,4.642381,6.335747,4.4456224,5.1724143,5.2945585,5.270873,5.381545,5.121731,4.4964685,4.177096,5.253801,4.474575,4.5996766,5.3258934,4.9836545,4.6222525,4.8643556,4.475672,5.1202683,4.269825,4.37898,4.199704,3.9622803,4.0695305,4.7097063,4.4349227,5.420054,4.623919,5.680162,4.5351887,6.04021,4.1585875,4.218431,4.673897,4.664955,4.766984,4.984812,4.170682,3.9298675,4.4311557,3.9798672,3.9271672,4.0624337,4.1019335,5.6676016,5.6511464,5.4215283,5.2283916,5.6416306,5.740834,4.978334,4.781445,5.5883307,4.500498,4.2829185,4.766576,4.6985226,4.6722717,4.9638705,4.746876,4.397521,5.282461,4.969982,4.63405,4.270822,4.937426,4.7652917,4.4432983,5.1587725,4.9130034,6.4787364,4.2257013,4.424973,5.1570587,4.669392,6.3223906,5.5405135,6.433892,5.1915865,4.960354,4.712654,4.929819,5.38996,4.8971868,3.9559722,6.37995,4.345475,6.160079,6.7103877,5.626825,4.2817607,4.731124,5.831616,6.184429,5.3824196,5.015886,5.627238,6.029536,6.173089,6.4081006,5.072577,4.556364,5.056439,4.181375,4.7954826,5.515237,4.631741,4.0035305,3.9372487,4.1499157,4.703332,4.2003803,4.8919225,5.508782,5.250162,5.5566583,5.4207263,5.7201777,5.504163,5.549085,5.179545,5.1183405,4.3332286,4.2395654,5.064247,4.243387,4.216318,4.6343603,5.8120294,5.6290493,4.455861,5.1387134,5.0330987,4.7357235,5.0053077,5.5631266,5.2582593,4.187267,4.3266506,4.735043,6.5391817,5.313336,5.887513,5.5042405,6.119175,3.7943864,4.6616507,4.1671734,3.8985057,3.9511833,4.1777163,4.0338206],\"mode\":\"markers\"},{\"type\":\"scattergl\",\"x\":[0.0,7.46],\"y\":[0.0,7.46],\"mode\":\"lines\"}];\n",
       "            var layout = {\"showlegend\":false,\"xaxis\":{\"title\":\"True Values\",\"_isSubplotObj\":true},\"yaxis\":{\"title\":\"Predicted Values\",\"_isSubplotObj\":true}};\n",
       "            Plotly.newPlot('456ec728-9c52-4b3c-8e55-6afab9e77fb1', data, layout);\n",
       "        });\r\n",
       "};\r\n",
       "if ((typeof(requirejs) !==  typeof(Function)) || (typeof(requirejs.config) !== typeof(Function))) { \r\n",
       "    var script = document.createElement(\"script\"); \r\n",
       "    script.setAttribute(\"src\", \"https://cdnjs.cloudflare.com/ajax/libs/require.js/2.3.6/require.min.js\"); \r\n",
       "    script.onload = function(){\r\n",
       "        renderPlotly();\r\n",
       "    };\r\n",
       "    document.getElementsByTagName(\"head\")[0].appendChild(script); \r\n",
       "}\r\n",
       "else {\r\n",
       "    renderPlotly();\r\n",
       "}\r\n",
       "</script>"
      ]
     },
     "metadata": {},
     "output_type": "display_data"
    },
    {
     "data": {
      "text/plain": [
       "Do AutoML for RetensiP in 60 secs"
      ]
     },
     "metadata": {},
     "output_type": "display_data"
    },
    {
     "data": {
      "text/plain": [
       "Best Trainer:LightGbmRegression"
      ]
     },
     "metadata": {},
     "output_type": "display_data"
    },
    {
     "data": {
      "text/plain": [
       "*************************************************"
      ]
     },
     "metadata": {},
     "output_type": "display_data"
    },
    {
     "data": {
      "text/plain": [
       "*       Metrics for regression model      "
      ]
     },
     "metadata": {},
     "output_type": "display_data"
    },
    {
     "data": {
      "text/plain": [
       "*------------------------------------------------"
      ]
     },
     "metadata": {},
     "output_type": "display_data"
    },
    {
     "data": {
      "text/plain": [
       "*       LossFn:        314.19"
      ]
     },
     "metadata": {},
     "output_type": "display_data"
    },
    {
     "data": {
      "text/plain": [
       "*       R2 Score:      0.65"
      ]
     },
     "metadata": {},
     "output_type": "display_data"
    },
    {
     "data": {
      "text/plain": [
       "*       Absolute loss: 14.91"
      ]
     },
     "metadata": {},
     "output_type": "display_data"
    },
    {
     "data": {
      "text/plain": [
       "*       Squared loss:  314.19"
      ]
     },
     "metadata": {},
     "output_type": "display_data"
    },
    {
     "data": {
      "text/plain": [
       "*       RMS loss:      17.73"
      ]
     },
     "metadata": {},
     "output_type": "display_data"
    },
    {
     "data": {
      "text/plain": [
       "*************************************************"
      ]
     },
     "metadata": {},
     "output_type": "display_data"
    },
    {
     "data": {
      "text/plain": [
       "=============== Saving the model  ==============="
      ]
     },
     "metadata": {},
     "output_type": "display_data"
    },
    {
     "data": {
      "text/plain": [
       "The model is saved to c:\\jobs\\BalitTanah.SoilSensingv2\\BalitTanah.SoilSensingKit.Modelv2\\Notebook\\..\\CSModel\\MLModels\\RetensiP.zip"
      ]
     },
     "metadata": {},
     "output_type": "display_data"
    },
    {
     "data": {
      "text/html": [
       "<div id=\"46948ba8-4f00-486c-ae02-119c6b9f5f5c\" style=\"width: 900px; height: 500px;\"></div><script type=\"text/javascript\">\r\n",
       "\r\n",
       "var renderPlotly = function() {\r\n",
       "    var xplotRequire = requirejs.config({context:'xplot-2.0.0',paths:{plotly:'https://cdn.plot.ly/plotly-1.49.2.min'}});\r\n",
       "    xplotRequire(['plotly'], function(Plotly) {\r\n",
       "\n",
       "            var data = [{\"type\":\"scattergl\",\"x\":[4.1101429,0.6288914999999999,15.697989,0.498364,15.6141703],\"y\":[15.296758556365967,15.36202621459961,15.776410046745749,19.145060539245605,13.256526708602905],\"mode\":\"markers\",\"marker\":{\"size\":12},\"name\":\"SdcaRegression\"},{\"type\":\"scattergl\",\"x\":[1.0787324,0.8815449999999999,0.9156829,1.6621097999999999],\"y\":[14.913502502441407,17.842971120561874,16.802218618847075,14.26060042661779],\"mode\":\"markers\",\"marker\":{\"size\":12},\"name\":\"LightGbmRegression\"},{\"type\":\"scattergl\",\"x\":[5.0048784],\"y\":[15.025947799682617],\"mode\":\"markers\",\"marker\":{\"size\":12},\"name\":\"FastTreeRegression\"},{\"type\":\"scattergl\",\"x\":[5.169277],\"y\":[16.248656272888184],\"mode\":\"markers\",\"marker\":{\"size\":12},\"name\":\"FastTreeTweedieRegression\"},{\"type\":\"scattergl\",\"x\":[4.2554009],\"y\":[16.29592918214344],\"mode\":\"markers\",\"marker\":{\"size\":12},\"name\":\"FastForestRegression\"},{\"type\":\"scattergl\",\"x\":[1.3797717,1.6591684,1.6295475,1.6378260999999998],\"y\":[15.074185562133788,15.841213703155518,15.752867889404296,15.548502826690674],\"mode\":\"markers\",\"marker\":{\"size\":12},\"name\":\"LbfgsPoissonRegression\"},{\"type\":\"scattergl\",\"x\":[0.4733327],\"y\":[31745426.99562665],\"mode\":\"markers\",\"marker\":{\"size\":12},\"name\":\"OnlineGradientDescentRegression\"}];\n",
       "            var layout = {\"xaxis\":{\"title\":\"Training Time\",\"_isSubplotObj\":true},\"yaxis\":{\"title\":\"Error\",\"_isSubplotObj\":true}};\n",
       "            Plotly.newPlot('46948ba8-4f00-486c-ae02-119c6b9f5f5c', data, layout);\n",
       "        });\r\n",
       "};\r\n",
       "if ((typeof(requirejs) !==  typeof(Function)) || (typeof(requirejs.config) !== typeof(Function))) { \r\n",
       "    var script = document.createElement(\"script\"); \r\n",
       "    script.setAttribute(\"src\", \"https://cdnjs.cloudflare.com/ajax/libs/require.js/2.3.6/require.min.js\"); \r\n",
       "    script.onload = function(){\r\n",
       "        renderPlotly();\r\n",
       "    };\r\n",
       "    document.getElementsByTagName(\"head\")[0].appendChild(script); \r\n",
       "}\r\n",
       "else {\r\n",
       "    renderPlotly();\r\n",
       "}\r\n",
       "</script>"
      ]
     },
     "metadata": {},
     "output_type": "display_data"
    },
    {
     "data": {
      "text/html": [
       "<div id=\"933836e2-e99c-4093-855a-85c97a5412bc\" style=\"width: 600px; height: 600px;\"></div><script type=\"text/javascript\">\r\n",
       "\r\n",
       "var renderPlotly = function() {\r\n",
       "    var xplotRequire = requirejs.config({context:'xplot-2.0.0',paths:{plotly:'https://cdn.plot.ly/plotly-1.49.2.min'}});\r\n",
       "    xplotRequire(['plotly'], function(Plotly) {\r\n",
       "\n",
       "            var data = [{\"type\":\"scattergl\",\"x\":[15.356627,25.428118,55.338272,54.530582,63.5,86.2,98.19686,97.29529,97.36464,64.078804,96.473785,98.02532,98.66004,97.743225,95.7,96.4,96.6,96.5,95.4,95.60888,23.81918,77.43169,94.12992,92.57933,41.07209,14.45949,39.64642,42.73538,60.75938,47.20721,42.95951,37.70046,38.71182,55.90487,33.25049,11.78993,24.0,14.2,31.5,7.5,13.3,38.58838,32.17593,40.10284,9.523044,19.33131,9.681342,9.606404],\"y\":[18.736752,55.00111,69.89402,69.030334,81.79364,71.49964,104.133675,104.314064,94.1193,65.96459,82.07368,89.224525,80.77287,88.02286,91.64495,93.24222,95.89709,94.81472,103.985504,86.76381,44.652813,67.83366,80.17072,94.13751,53.705418,28.65974,29.8339,62.84128,41.7512,34.369415,30.397894,24.862926,63.058304,39.767002,42.786808,13.573322,24.778347,21.75774,34.986378,21.75774,27.063883,70.41007,44.47828,42.921074,11.380554,10.885907,21.14884,10.394848],\"mode\":\"markers\"},{\"type\":\"scattergl\",\"x\":[0.0,104.314064],\"y\":[0.0,104.314064],\"mode\":\"lines\"}];\n",
       "            var layout = {\"showlegend\":false,\"xaxis\":{\"title\":\"True Values\",\"_isSubplotObj\":true},\"yaxis\":{\"title\":\"Predicted Values\",\"_isSubplotObj\":true}};\n",
       "            Plotly.newPlot('933836e2-e99c-4093-855a-85c97a5412bc', data, layout);\n",
       "        });\r\n",
       "};\r\n",
       "if ((typeof(requirejs) !==  typeof(Function)) || (typeof(requirejs.config) !== typeof(Function))) { \r\n",
       "    var script = document.createElement(\"script\"); \r\n",
       "    script.setAttribute(\"src\", \"https://cdnjs.cloudflare.com/ajax/libs/require.js/2.3.6/require.min.js\"); \r\n",
       "    script.onload = function(){\r\n",
       "        renderPlotly();\r\n",
       "    };\r\n",
       "    document.getElementsByTagName(\"head\")[0].appendChild(script); \r\n",
       "}\r\n",
       "else {\r\n",
       "    renderPlotly();\r\n",
       "}\r\n",
       "</script>"
      ]
     },
     "metadata": {},
     "output_type": "display_data"
    },
    {
     "data": {
      "text/plain": [
       "Do AutoML for SAND in 60 secs"
      ]
     },
     "metadata": {},
     "output_type": "display_data"
    },
    {
     "data": {
      "text/plain": [
       "Best Trainer:LightGbmRegression"
      ]
     },
     "metadata": {},
     "output_type": "display_data"
    },
    {
     "data": {
      "text/plain": [
       "*************************************************"
      ]
     },
     "metadata": {},
     "output_type": "display_data"
    },
    {
     "data": {
      "text/plain": [
       "*       Metrics for regression model      "
      ]
     },
     "metadata": {},
     "output_type": "display_data"
    },
    {
     "data": {
      "text/plain": [
       "*------------------------------------------------"
      ]
     },
     "metadata": {},
     "output_type": "display_data"
    },
    {
     "data": {
      "text/plain": [
       "*       LossFn:        233.12"
      ]
     },
     "metadata": {},
     "output_type": "display_data"
    },
    {
     "data": {
      "text/plain": [
       "*       R2 Score:      0.42"
      ]
     },
     "metadata": {},
     "output_type": "display_data"
    },
    {
     "data": {
      "text/plain": [
       "*       Absolute loss: 11.99"
      ]
     },
     "metadata": {},
     "output_type": "display_data"
    },
    {
     "data": {
      "text/plain": [
       "*       Squared loss:  233.12"
      ]
     },
     "metadata": {},
     "output_type": "display_data"
    },
    {
     "data": {
      "text/plain": [
       "*       RMS loss:      15.27"
      ]
     },
     "metadata": {},
     "output_type": "display_data"
    },
    {
     "data": {
      "text/plain": [
       "*************************************************"
      ]
     },
     "metadata": {},
     "output_type": "display_data"
    },
    {
     "data": {
      "text/plain": [
       "=============== Saving the model  ==============="
      ]
     },
     "metadata": {},
     "output_type": "display_data"
    },
    {
     "data": {
      "text/plain": [
       "The model is saved to c:\\jobs\\BalitTanah.SoilSensingv2\\BalitTanah.SoilSensingKit.Modelv2\\Notebook\\..\\CSModel\\MLModels\\SAND.zip"
      ]
     },
     "metadata": {},
     "output_type": "display_data"
    },
    {
     "data": {
      "text/html": [
       "<div id=\"2bef6d7f-3377-47a6-84cc-59ce8c20698b\" style=\"width: 900px; height: 500px;\"></div><script type=\"text/javascript\">\r\n",
       "\r\n",
       "var renderPlotly = function() {\r\n",
       "    var xplotRequire = requirejs.config({context:'xplot-2.0.0',paths:{plotly:'https://cdn.plot.ly/plotly-1.49.2.min'}});\r\n",
       "    xplotRequire(['plotly'], function(Plotly) {\r\n",
       "\n",
       "            var data = [{\"type\":\"scattergl\",\"x\":[5.2348491],\"y\":[12.671847375772767],\"mode\":\"markers\",\"marker\":{\"size\":12},\"name\":\"SdcaRegression\"},{\"type\":\"scattergl\",\"x\":[4.8833198,4.7839406],\"y\":[12.167854507927034,11.991380683446335],\"mode\":\"markers\",\"marker\":{\"size\":12},\"name\":\"LightGbmRegression\"},{\"type\":\"scattergl\",\"x\":[9.0428295,8.3675961],\"y\":[11.831988492254483,12.573287915375273],\"mode\":\"markers\",\"marker\":{\"size\":12},\"name\":\"FastTreeRegression\"},{\"type\":\"scattergl\",\"x\":[8.6230265],\"y\":[11.860880702988714],\"mode\":\"markers\",\"marker\":{\"size\":12},\"name\":\"FastTreeTweedieRegression\"},{\"type\":\"scattergl\",\"x\":[8.0214749,9.905509499999999],\"y\":[12.821797988453849,13.331351013870927],\"mode\":\"markers\",\"marker\":{\"size\":12},\"name\":\"FastForestRegression\"},{\"type\":\"scattergl\",\"x\":[3.0260550999999998],\"y\":[13.270490238809177],\"mode\":\"markers\",\"marker\":{\"size\":12},\"name\":\"LbfgsPoissonRegression\"},{\"type\":\"scattergl\",\"x\":[0.8229369],\"y\":[47557.52192300053],\"mode\":\"markers\",\"marker\":{\"size\":12},\"name\":\"OnlineGradientDescentRegression\"}];\n",
       "            var layout = {\"xaxis\":{\"title\":\"Training Time\",\"_isSubplotObj\":true},\"yaxis\":{\"title\":\"Error\",\"_isSubplotObj\":true}};\n",
       "            Plotly.newPlot('2bef6d7f-3377-47a6-84cc-59ce8c20698b', data, layout);\n",
       "        });\r\n",
       "};\r\n",
       "if ((typeof(requirejs) !==  typeof(Function)) || (typeof(requirejs.config) !== typeof(Function))) { \r\n",
       "    var script = document.createElement(\"script\"); \r\n",
       "    script.setAttribute(\"src\", \"https://cdnjs.cloudflare.com/ajax/libs/require.js/2.3.6/require.min.js\"); \r\n",
       "    script.onload = function(){\r\n",
       "        renderPlotly();\r\n",
       "    };\r\n",
       "    document.getElementsByTagName(\"head\")[0].appendChild(script); \r\n",
       "}\r\n",
       "else {\r\n",
       "    renderPlotly();\r\n",
       "}\r\n",
       "</script>"
      ]
     },
     "metadata": {},
     "output_type": "display_data"
    },
    {
     "data": {
      "text/html": [
       "<div id=\"b1e7c782-993a-43ac-a308-1b6902371ba0\" style=\"width: 600px; height: 600px;\"></div><script type=\"text/javascript\">\r\n",
       "\r\n",
       "var renderPlotly = function() {\r\n",
       "    var xplotRequire = requirejs.config({context:'xplot-2.0.0',paths:{plotly:'https://cdn.plot.ly/plotly-1.49.2.min'}});\r\n",
       "    xplotRequire(['plotly'], function(Plotly) {\r\n",
       "\n",
       "            var data = [{\"type\":\"scattergl\",\"x\":[23.0,40.0,8.0,1.0,17.0,3.0,15.0,16.0,10.0,19.0,34.0,42.0,19.0,23.0,25.0,19.0,22.0,24.0,24.0,25.0,16.0,63.0,20.0,18.0,28.0,15.0,20.0,25.0,11.0,29.0,13.0,28.0,11.0,12.0,18.0,3.0,21.0,48.0,7.0,12.0,19.0,79.0,19.0,25.0,19.0,21.0,7.0,8.0,9.0,12.0,5.0,8.0,8.0,10.0,4.0,6.0,3.0,4.0,8.0,7.0,17.0,37.0,38.0,16.0,59.0,71.0,21.0,9.0,64.0,7.0,6.0,5.0,5.0,8.0,4.0,55.0,14.0,14.0,14.0,12.0,14.0,5.0,5.0,13.0,2.0,18.0,3.0,54.0,47.0,53.0,53.0,5.0,22.0,24.0,27.0,31.0,33.0,28.0,13.0,8.0,34.0,30.0,40.0,47.0,51.0,51.0,65.0,69.0,5.0,16.0,11.0,9.0,16.0,29.0,8.0,8.0,18.0,24.0,33.0,39.0,25.0,8.0,4.0,4.0,13.0,22.0,10.0,7.0,6.0,33.0,35.0,4.0,6.0,4.0,5.0,10.0,13.0,9.0,4.0,3.0,41.0,95.0,64.0,47.0,18.0,32.0,38.0,68.0,17.0,11.0,38.0,34.0,32.0,25.0,9.0,14.0,19.0,20.0,2.0,26.0,2.0,91.0,88.0,91.0,25.0,29.0,14.0,17.0,12.0,51.0,20.0,46.0,1.0,1.0,43.0,80.0,73.0,70.0,37.0,8.0,87.0,8.0,5.0,10.0,6.0,6.0,13.0,23.0,22.0,4.0,9.0,8.0,11.0,66.0,67.0,49.0,42.0,22.0,16.0,19.0,38.0,26.0,25.0,26.0,17.0,17.0,26.0,32.0,34.0,27.0,23.0,22.0,22.0,23.0,27.0,45.0,46.0,50.0,3.0,1.0,18.0,17.0,22.0,34.0,17.0,13.0,28.0,25.0,18.0,28.0,39.0,33.0,28.0,41.0,24.0,29.0,28.0,61.0,42.0,59.0,42.0,34.0,18.0,40.0,21.0,76.0,7.0,22.0,41.0,9.0,5.0,23.0,37.0,24.0,29.0,12.0,19.0,81.0,26.0,55.0,46.0,46.0,44.0,26.0,61.0,26.0,9.0,67.0,70.0,79.0,73.0,49.0,51.0,14.0,5.0,10.0,33.0,3.0,3.0,14.0,57.0,29.0,28.0,40.0,27.0,15.0,34.0,55.0,15.0,38.0,47.0,46.0,42.0,11.0,3.0,8.0,13.0,12.0,12.0,17.0,12.0,28.0,34.0,20.0,6.0,49.0,14.0,59.0,49.0,35.0,10.0,29.0,40.0,2.0,17.0,9.0,29.0,48.0,22.0,6.0,2.0,6.0,29.0,9.0,6.0,52.0,14.0,22.0,6.0,10.0,15.0,38.0,4.0,46.0,1.0,12.0,31.0,43.0,1.0,9.0,15.0,45.0,23.0,12.0,13.0,1.0,2.0,6.0,10.0,35.0,34.0,6.0,1.0,35.0,72.0,42.0,57.0,5.0,51.0,2.0,33.0,18.0,46.9,38.9,9.0,14.0,2.0,2.0,73.0,72.0,20.0,20.0,4.0,82.0,3.0,26.0,41.0,10.0,5.0,24.0,30.0,32.0,9.0,25.0,21.0,25.0,4.0,25.0,44.0,6.0,28.0,12.0,8.0,14.0,66.0,13.0,67.0,40.0,45.0,44.0,23.0],\"y\":[14.848713,14.852282,5.6663523,11.521908,21.237389,7.7981925,24.323565,35.330868,32.582973,8.910841,11.418836,18.26354,20.193531,25.157509,9.929604,18.263666,14.33237,11.720495,14.953158,11.823249,10.260142,28.174397,31.749525,25.522207,13.265642,9.246662,8.276916,13.729967,27.784836,12.191979,11.153613,16.574678,35.848,27.576752,1.9680821,4.8823476,26.61535,21.70896,14.660371,13.679852,16.2366,33.59509,26.635683,19.475918,12.001679,16.849907,10.35558,6.97789,12.635514,14.998256,11.964491,17.008307,10.892876,35.410755,37.90872,10.880222,27.420769,11.230086,7.760295,6.1997504,28.051556,23.327082,28.32372,16.107218,42.53882,47.415657,21.200806,12.179178,24.510416,15.581405,25.681026,38.474766,15.382031,20.171537,19.338032,34.990505,13.709994,53.566208,15.4011135,22.737696,16.22828,41.31113,7.0392194,12.364788,13.342244,23.929184,12.71651,44.966312,43.071205,44.977386,39.145493,14.962205,24.906046,20.406214,23.182053,11.353907,27.028425,37.02596,23.221792,12.9770355,29.745846,31.674435,28.697695,19.387094,49.13503,29.81866,20.951887,17.00461,10.230737,19.333603,13.99554,13.92873,13.573989,14.450048,36.4288,26.610992,9.981404,42.554585,27.80331,33.59526,36.92834,29.064434,4.8146753,19.203646,19.661312,26.487785,14.204563,15.845726,10.954462,40.487698,24.250328,6.7934265,5.6358237,22.82855,14.779546,16.406027,10.761374,8.474794,29.41156,12.242752,19.58436,34.434933,35.943165,29.5841,19.857014,16.497595,55.30791,77.22378,21.9561,15.244813,30.797762,13.697554,36.549305,24.439423,24.496685,17.993301,26.810362,34.229576,4.875882,18.240414,7.945337,68.04811,70.86559,36.521072,27.736076,33.746525,35.935356,33.812016,52.271408,38.21506,45.989147,42.49044,36.273518,36.325054,46.53877,30.295778,33.785164,63.140358,29.411829,15.859971,38.643345,31.163439,14.648296,9.232385,12.036529,6.399359,9.937545,19.934229,20.979006,6.2147045,12.713838,20.98524,22.713543,48.120163,47.52653,36.841496,27.59709,19.057981,11.965383,9.197872,49.956,18.452269,8.394298,8.939537,11.813473,13.615741,8.615836,5.308457,7.385003,11.967363,16.663805,24.878532,21.42538,15.087043,26.278915,16.582216,26.366535,19.942019,12.515803,19.282768,30.84718,22.932655,13.533591,24.072502,11.915367,23.395561,12.918697,22.110544,32.45107,19.049006,21.961596,32.895344,28.463724,16.942139,17.733566,25.159561,25.561678,13.180777,21.301033,37.12823,16.310692,15.780914,12.879096,18.301954,21.643723,50.442516,22.434334,22.678045,24.24864,9.626972,11.629455,18.980608,39.410793,17.676125,39.96164,20.59788,23.730513,70.088875,35.71965,54.71897,24.245085,40.574707,34.161846,51.276234,25.820942,46.139294,33.27581,44.491592,41.269863,28.46649,47.92127,28.815592,11.872964,16.855923,27.731369,12.3959255,25.39341,6.8465962,13.432996,10.558486,38.01045,28.274199,55.431072,31.648285,51.453526,43.07539,34.074883,40.000744,36.324665,35.80316,48.0639,56.315487,29.433525,47.636093,21.058191,21.407804,25.85988,28.78812,17.671593,5.8690133,53.37449,41.83937,28.355186,20.729006,42.798615,45.291653,62.836285,13.737243,33.71617,42.154118,35.39784,17.506313,21.124561,14.622018,26.367628,21.124798,18.529459,14.125977,11.160817,15.261212,28.906464,13.13903,39.914165,16.047907,14.547102,45.07352,16.379274,25.06713,21.657389,26.610683,23.454956,28.633831,20.417568,49.728367,12.650811,17.231016,18.761808,17.519363,21.211012,28.362925,36.060665,43.442383,15.431653,26.97956,36.785946,12.96034,21.139355,12.921264,8.902564,26.396086,39.122578,48.50966,15.599634,46.052116,51.41321,25.382854,53.67266,42.911522,59.452854,34.219707,58.676773,23.696882,50.0462,62.021576,20.039705,20.501226,7.110158,17.244745,26.855268,51.49898,41.233242,16.649137,12.641617,64.54417,19.318808,11.048386,34.11516,16.368723,23.787352,61.223274,27.56608,24.234535,19.876146,27.83238,30.156685,38.06796,21.70918,34.53001,25.896418,12.339101,8.667041,12.677895,13.987338,24.554153,47.538815,17.05633,43.54127,50.638374,55.05443,46.67446,21.481438],\"mode\":\"markers\"},{\"type\":\"scattergl\",\"x\":[0.0,95.0],\"y\":[0.0,95.0],\"mode\":\"lines\"}];\n",
       "            var layout = {\"showlegend\":false,\"xaxis\":{\"title\":\"True Values\",\"_isSubplotObj\":true},\"yaxis\":{\"title\":\"Predicted Values\",\"_isSubplotObj\":true}};\n",
       "            Plotly.newPlot('b1e7c782-993a-43ac-a308-1b6902371ba0', data, layout);\n",
       "        });\r\n",
       "};\r\n",
       "if ((typeof(requirejs) !==  typeof(Function)) || (typeof(requirejs.config) !== typeof(Function))) { \r\n",
       "    var script = document.createElement(\"script\"); \r\n",
       "    script.setAttribute(\"src\", \"https://cdnjs.cloudflare.com/ajax/libs/require.js/2.3.6/require.min.js\"); \r\n",
       "    script.onload = function(){\r\n",
       "        renderPlotly();\r\n",
       "    };\r\n",
       "    document.getElementsByTagName(\"head\")[0].appendChild(script); \r\n",
       "}\r\n",
       "else {\r\n",
       "    renderPlotly();\r\n",
       "}\r\n",
       "</script>"
      ]
     },
     "metadata": {},
     "output_type": "display_data"
    },
    {
     "data": {
      "text/plain": [
       "Do AutoML for SILT in 60 secs"
      ]
     },
     "metadata": {},
     "output_type": "display_data"
    },
    {
     "data": {
      "text/plain": [
       "Best Trainer:FastForestRegression"
      ]
     },
     "metadata": {},
     "output_type": "display_data"
    },
    {
     "data": {
      "text/plain": [
       "*************************************************"
      ]
     },
     "metadata": {},
     "output_type": "display_data"
    },
    {
     "data": {
      "text/plain": [
       "*       Metrics for regression model      "
      ]
     },
     "metadata": {},
     "output_type": "display_data"
    },
    {
     "data": {
      "text/plain": [
       "*------------------------------------------------"
      ]
     },
     "metadata": {},
     "output_type": "display_data"
    },
    {
     "data": {
      "text/plain": [
       "*       LossFn:        179.23"
      ]
     },
     "metadata": {},
     "output_type": "display_data"
    },
    {
     "data": {
      "text/plain": [
       "*       R2 Score:      0.23"
      ]
     },
     "metadata": {},
     "output_type": "display_data"
    },
    {
     "data": {
      "text/plain": [
       "*       Absolute loss: 10.84"
      ]
     },
     "metadata": {},
     "output_type": "display_data"
    },
    {
     "data": {
      "text/plain": [
       "*       Squared loss:  179.23"
      ]
     },
     "metadata": {},
     "output_type": "display_data"
    },
    {
     "data": {
      "text/plain": [
       "*       RMS loss:      13.39"
      ]
     },
     "metadata": {},
     "output_type": "display_data"
    },
    {
     "data": {
      "text/plain": [
       "*************************************************"
      ]
     },
     "metadata": {},
     "output_type": "display_data"
    },
    {
     "data": {
      "text/plain": [
       "=============== Saving the model  ==============="
      ]
     },
     "metadata": {},
     "output_type": "display_data"
    },
    {
     "data": {
      "text/plain": [
       "The model is saved to c:\\jobs\\BalitTanah.SoilSensingv2\\BalitTanah.SoilSensingKit.Modelv2\\Notebook\\..\\CSModel\\MLModels\\SILT.zip"
      ]
     },
     "metadata": {},
     "output_type": "display_data"
    },
    {
     "data": {
      "text/html": [
       "<div id=\"f6ba6cdb-e863-48bc-8145-a224157ff648\" style=\"width: 900px; height: 500px;\"></div><script type=\"text/javascript\">\r\n",
       "\r\n",
       "var renderPlotly = function() {\r\n",
       "    var xplotRequire = requirejs.config({context:'xplot-2.0.0',paths:{plotly:'https://cdn.plot.ly/plotly-1.49.2.min'}});\r\n",
       "    xplotRequire(['plotly'], function(Plotly) {\r\n",
       "\n",
       "            var data = [{\"type\":\"scattergl\",\"x\":[6.4738577,7.720725799999999],\"y\":[9.94916900766307,10.967829489493155],\"mode\":\"markers\",\"marker\":{\"size\":12},\"name\":\"SdcaRegression\"},{\"type\":\"scattergl\",\"x\":[4.8498936],\"y\":[11.736094070693193],\"mode\":\"markers\",\"marker\":{\"size\":12},\"name\":\"LightGbmRegression\"},{\"type\":\"scattergl\",\"x\":[8.8095615],\"y\":[11.508743981183585],\"mode\":\"markers\",\"marker\":{\"size\":12},\"name\":\"FastTreeRegression\"},{\"type\":\"scattergl\",\"x\":[9.166607299999999],\"y\":[10.273461736481766],\"mode\":\"markers\",\"marker\":{\"size\":12},\"name\":\"FastTreeTweedieRegression\"},{\"type\":\"scattergl\",\"x\":[8.4969372,11.886301099999999],\"y\":[9.686310038073309,10.841643883010088],\"mode\":\"markers\",\"marker\":{\"size\":12},\"name\":\"FastForestRegression\"},{\"type\":\"scattergl\",\"x\":[2.2191255],\"y\":[10.987569499660182],\"mode\":\"markers\",\"marker\":{\"size\":12},\"name\":\"LbfgsPoissonRegression\"},{\"type\":\"scattergl\",\"x\":[0.8114292999999999],\"y\":[27499.41148040254],\"mode\":\"markers\",\"marker\":{\"size\":12},\"name\":\"OnlineGradientDescentRegression\"}];\n",
       "            var layout = {\"xaxis\":{\"title\":\"Training Time\",\"_isSubplotObj\":true},\"yaxis\":{\"title\":\"Error\",\"_isSubplotObj\":true}};\n",
       "            Plotly.newPlot('f6ba6cdb-e863-48bc-8145-a224157ff648', data, layout);\n",
       "        });\r\n",
       "};\r\n",
       "if ((typeof(requirejs) !==  typeof(Function)) || (typeof(requirejs.config) !== typeof(Function))) { \r\n",
       "    var script = document.createElement(\"script\"); \r\n",
       "    script.setAttribute(\"src\", \"https://cdnjs.cloudflare.com/ajax/libs/require.js/2.3.6/require.min.js\"); \r\n",
       "    script.onload = function(){\r\n",
       "        renderPlotly();\r\n",
       "    };\r\n",
       "    document.getElementsByTagName(\"head\")[0].appendChild(script); \r\n",
       "}\r\n",
       "else {\r\n",
       "    renderPlotly();\r\n",
       "}\r\n",
       "</script>"
      ]
     },
     "metadata": {},
     "output_type": "display_data"
    },
    {
     "data": {
      "text/html": [
       "<div id=\"dd448d0a-8f4e-4e55-9bf0-e9438636254f\" style=\"width: 600px; height: 600px;\"></div><script type=\"text/javascript\">\r\n",
       "\r\n",
       "var renderPlotly = function() {\r\n",
       "    var xplotRequire = requirejs.config({context:'xplot-2.0.0',paths:{plotly:'https://cdn.plot.ly/plotly-1.49.2.min'}});\r\n",
       "    xplotRequire(['plotly'], function(Plotly) {\r\n",
       "\n",
       "            var data = [{\"type\":\"scattergl\",\"x\":[47.0,30.0,27.0,21.0,41.0,21.0,54.0,48.0,57.0,43.0,25.0,47.0,32.0,37.0,39.0,44.0,46.0,39.0,33.0,33.0,39.0,10.0,32.0,38.0,44.0,35.0,32.0,38.0,24.0,41.0,17.0,27.0,48.0,31.0,25.0,12.0,49.0,19.0,54.0,34.0,49.0,13.0,30.0,21.0,32.0,36.0,19.0,20.0,17.0,32.0,21.0,41.0,40.0,27.0,36.0,18.0,5.0,22.0,20.0,25.0,42.0,33.0,34.0,50.0,12.0,13.0,44.0,44.0,13.0,28.0,33.0,29.0,39.0,53.0,31.0,18.0,42.0,42.0,46.0,48.0,34.0,41.0,32.0,39.0,18.0,29.0,2.0,18.0,19.0,15.0,17.0,51.0,30.0,12.0,25.0,14.0,22.0,27.0,25.0,14.0,34.0,32.0,33.0,35.0,41.0,33.0,23.0,20.0,10.0,59.0,40.0,39.0,44.0,38.0,43.0,33.0,37.0,40.0,38.0,22.0,25.0,14.0,18.0,27.0,19.0,36.0,18.0,20.0,16.0,27.0,29.0,18.0,21.0,32.0,30.0,32.0,17.0,28.0,11.0,15.0,39.0,1.0,19.0,21.0,51.0,28.0,51.0,14.0,14.0,21.0,24.0,23.0,26.0,26.0,75.0,57.0,16.0,45.0,32.0,32.0,38.0,4.0,8.0,1.0,32.0,38.0,44.0,47.0,39.0,28.0,39.0,31.0,42.0,36.0,29.0,8.0,14.0,13.0,28.0,37.0,7.0,37.0,39.0,5.0,2.0,13.0,6.0,33.0,35.0,25.0,31.0,32.0,30.0,3.0,17.0,32.0,25.0,41.0,41.0,41.0,35.0,42.0,48.0,46.0,39.0,46.0,33.0,33.0,28.0,26.0,35.0,36.0,43.0,38.0,42.0,26.0,25.0,21.0,27.0,32.0,44.0,35.0,37.0,39.0,50.0,49.0,40.0,49.0,62.0,45.0,41.0,43.0,39.0,30.0,42.0,23.0,24.0,19.0,28.0,25.0,36.0,37.0,41.0,31.0,27.0,10.0,29.0,35.0,30.0,22.0,21.0,21.0,32.0,23.0,44.0,37.0,38.0,8.0,27.0,30.0,38.0,22.0,32.0,28.0,12.0,47.0,42.0,21.0,8.0,2.0,4.0,4.0,12.0,31.0,14.0,29.0,40.0,22.0,27.0,27.0,14.0,49.0,31.0,30.0,52.0,40.0,17.0,20.0,50.0,12.0,11.0,18.0,22.0,41.0,52.0,61.0,47.0,39.0,36.0,58.0,71.0,46.0,45.0,33.0,63.0,39.0,71.0,26.0,29.0,30.0,46.0,37.0,32.0,44.0,35.0,61.0,29.0,26.0,22.0,51.0,30.0,26.0,51.0,53.0,43.0,33.0,48.0,48.0,60.0,55.0,29.0,26.0,55.0,20.0,42.0,54.0,49.0,33.0,33.0,75.0,65.0,39.0,36.0,67.0,59.0,30.0,45.0,51.0,37.0,38.0,46.0,64.0,18.0,45.0,22.0,35.0,8.0,26.0,13.0,46.0,31.0,59.0,35.4,52.0,55.0,56.0,25.0,32.0,20.0,16.0,56.0,54.0,66.0,9.0,37.0,43.0,28.0,64.0,66.0,66.0,50.0,49.0,48.0,49.0,57.0,51.0,54.0,49.0,34.0,21.0,36.0,25.0,41.0,47.0,5.0,23.0,13.0,22.0,13.0,25.0,27.0],\"y\":[46.15,34.94082,26.40436,27.716377,42.5123,23.072285,44.782173,43.983017,40.617558,39.296925,25.640541,44.22028,43.268368,38.869232,33.12727,31.922329,31.381271,27.94354,27.908245,31.871828,26.719582,25.695427,45.463917,43.839928,38.90927,36.693317,30.869455,41.123085,27.499119,36.651627,25.8197,48.17827,34.304882,31.63512,25.658716,20.130383,39.51128,28.825203,32.980087,32.830235,40.99141,40.46427,26.732311,25.311611,34.60177,40.618324,24.518522,24.920794,28.387512,30.401785,26.46365,38.501583,29.559507,24.670176,24.554914,23.381102,28.565685,30.81216,29.405735,23.633884,40.156963,26.043615,25.710289,39.444225,21.973492,26.91052,45.878525,25.13278,40.767067,31.600647,31.01519,21.074593,23.796768,38.929386,26.595257,33.177616,30.333118,26.535585,28.306713,43.5647,25.41946,20.634,23.555603,32.161373,22.864351,23.324085,22.95675,39.271244,37.891808,34.089233,36.113785,42.16513,30.914719,35.61636,28.192839,40.20483,29.292412,25.666582,34.538467,32.89467,42.167004,42.577793,40.913383,44.033497,36.851883,40.793396,34.41861,38.28557,31.447754,42.704132,33.30228,29.881714,24.949438,41.132324,23.998753,25.025652,33.73404,36.660954,36.561802,38.71596,37.421436,36.83384,24.169489,31.472187,27.801,29.761873,26.860943,25.553213,25.82665,31.836746,39.841434,31.145863,26.256218,28.386631,31.028149,29.386328,25.324085,23.537395,22.870794,23.04493,35.390812,34.44821,32.658554,28.378908,32.338886,33.124485,33.82191,27.76982,34.384182,25.94624,38.291145,40.722706,33.58893,35.817986,35.393867,45.59679,23.392954,23.787739,29.782072,23.751575,25.45767,14.592258,12.357347,24.855103,29.861095,27.416601,29.57812,30.620539,23.598919,24.356813,18.586855,22.695147,29.258757,29.30095,19.575264,32.21368,29.246086,24.084446,24.157932,34.329334,27.377531,27.814543,30.48184,24.492718,25.790457,24.914322,27.622797,38.612816,31.67838,36.127678,31.665354,32.10517,31.130644,13.477483,26.695625,36.2574,37.6688,41.942886,41.102276,35.48302,36.73991,34.07407,33.316288,32.992764,40.612923,41.5614,39.06424,39.62996,31.191092,32.516666,26.096882,24.458662,33.106823,35.602272,39.513145,32.543457,28.38298,31.150175,30.786978,29.67445,32.10653,39.66055,38.338783,46.396305,33.555473,37.24546,39.847305,39.828667,42.43328,47.532272,45.156815,33.09237,35.58406,37.768414,29.962837,26.260605,27.234869,32.361794,37.49919,39.84005,31.40991,33.95215,40.16951,33.763885,32.325417,28.947325,30.614374,23.671074,33.210464,33.287804,30.611338,28.844275,33.60295,33.393696,34.81464,31.778294,36.3576,21.87133,31.559155,33.18511,28.50353,35.743225,32.121838,40.87502,40.69429,33.066402,38.990314,35.115467,25.51561,30.518082,24.349154,26.844536,27.112032,26.607475,29.72782,29.458742,24.2436,38.864513,31.427105,36.648468,33.52151,30.135971,25.859148,36.195976,39.64878,39.560112,16.904041,25.329235,34.767685,21.418238,21.22326,20.14717,25.535845,31.421995,36.652138,34.258827,38.630875,44.280746,40.576023,44.96228,25.145258,38.093754,40.206417,43.11243,32.928772,28.144583,23.222275,31.927431,44.25513,29.01249,42.26123,41.529755,31.520874,32.0359,34.948933,45.927002,32.327198,41.24253,37.11321,36.425297,35.3636,23.078117,38.58701,34.909107,40.61797,35.82371,32.40298,42.564137,43.1129,29.804092,42.48124,42.486958,43.584774,20.536192,38.48716,27.900824,40.26316,34.12259,33.631546,36.1565,36.011036,37.650177,37.24792,44.209072,44.84474,30.117971,28.260351,37.984676,33.169216,36.066837,29.903303,38.03695,15.051489,27.605173,35.36012,30.39477,14.222088,12.561597,16.24552,35.458763,14.227874,44.06264,36.81623,29.971638,46.127842,40.86037,37.36306,40.225594,34.918667,40.432186,37.75095,29.771112,31.486351,26.188313,25.431791,30.314482,27.015121,33.549126,31.820122,24.066156,34.921852,43.72144,39.444862,42.574688,36.77227,38.633312,34.806496,38.865883,39.055225,26.14293,29.244907,33.205055,35.903378,35.79171,17.837395,31.507013,22.365444,20.651812,19.938652,25.85056,28.93825],\"mode\":\"markers\"},{\"type\":\"scattergl\",\"x\":[0.0,75.0],\"y\":[0.0,75.0],\"mode\":\"lines\"}];\n",
       "            var layout = {\"showlegend\":false,\"xaxis\":{\"title\":\"True Values\",\"_isSubplotObj\":true},\"yaxis\":{\"title\":\"Predicted Values\",\"_isSubplotObj\":true}};\n",
       "            Plotly.newPlot('dd448d0a-8f4e-4e55-9bf0-e9438636254f', data, layout);\n",
       "        });\r\n",
       "};\r\n",
       "if ((typeof(requirejs) !==  typeof(Function)) || (typeof(requirejs.config) !== typeof(Function))) { \r\n",
       "    var script = document.createElement(\"script\"); \r\n",
       "    script.setAttribute(\"src\", \"https://cdnjs.cloudflare.com/ajax/libs/require.js/2.3.6/require.min.js\"); \r\n",
       "    script.onload = function(){\r\n",
       "        renderPlotly();\r\n",
       "    };\r\n",
       "    document.getElementsByTagName(\"head\")[0].appendChild(script); \r\n",
       "}\r\n",
       "else {\r\n",
       "    renderPlotly();\r\n",
       "}\r\n",
       "</script>"
      ]
     },
     "metadata": {},
     "output_type": "display_data"
    },
    {
     "data": {
      "text/plain": [
       "Do AutoML for WBC in 60 secs"
      ]
     },
     "metadata": {},
     "output_type": "display_data"
    },
    {
     "data": {
      "text/plain": [
       "Best Trainer:FastTreeRegression"
      ]
     },
     "metadata": {},
     "output_type": "display_data"
    },
    {
     "data": {
      "text/plain": [
       "*************************************************"
      ]
     },
     "metadata": {},
     "output_type": "display_data"
    },
    {
     "data": {
      "text/plain": [
       "*       Metrics for regression model      "
      ]
     },
     "metadata": {},
     "output_type": "display_data"
    },
    {
     "data": {
      "text/plain": [
       "*------------------------------------------------"
      ]
     },
     "metadata": {},
     "output_type": "display_data"
    },
    {
     "data": {
      "text/plain": [
       "*       LossFn:        1.14"
      ]
     },
     "metadata": {},
     "output_type": "display_data"
    },
    {
     "data": {
      "text/plain": [
       "*       R2 Score:      0.45"
      ]
     },
     "metadata": {},
     "output_type": "display_data"
    },
    {
     "data": {
      "text/plain": [
       "*       Absolute loss: .73"
      ]
     },
     "metadata": {},
     "output_type": "display_data"
    },
    {
     "data": {
      "text/plain": [
       "*       Squared loss:  1.14"
      ]
     },
     "metadata": {},
     "output_type": "display_data"
    },
    {
     "data": {
      "text/plain": [
       "*       RMS loss:      1.07"
      ]
     },
     "metadata": {},
     "output_type": "display_data"
    },
    {
     "data": {
      "text/plain": [
       "*************************************************"
      ]
     },
     "metadata": {},
     "output_type": "display_data"
    },
    {
     "data": {
      "text/plain": [
       "=============== Saving the model  ==============="
      ]
     },
     "metadata": {},
     "output_type": "display_data"
    },
    {
     "data": {
      "text/plain": [
       "The model is saved to c:\\jobs\\BalitTanah.SoilSensingv2\\BalitTanah.SoilSensingKit.Modelv2\\Notebook\\..\\CSModel\\MLModels\\WBC.zip"
      ]
     },
     "metadata": {},
     "output_type": "display_data"
    },
    {
     "data": {
      "text/html": [
       "<div id=\"c4ca16bb-8965-4617-a07e-690165267d7c\" style=\"width: 900px; height: 500px;\"></div><script type=\"text/javascript\">\r\n",
       "\r\n",
       "var renderPlotly = function() {\r\n",
       "    var xplotRequire = requirejs.config({context:'xplot-2.0.0',paths:{plotly:'https://cdn.plot.ly/plotly-1.49.2.min'}});\r\n",
       "    xplotRequire(['plotly'], function(Plotly) {\r\n",
       "\n",
       "            var data = [{\"type\":\"scattergl\",\"x\":[3.6871262],\"y\":[0.6621233737683511],\"mode\":\"markers\",\"marker\":{\"size\":12},\"name\":\"SdcaRegression\"},{\"type\":\"scattergl\",\"x\":[5.0080434],\"y\":[0.7514843344688416],\"mode\":\"markers\",\"marker\":{\"size\":12},\"name\":\"LightGbmRegression\"},{\"type\":\"scattergl\",\"x\":[9.2631261,19.944321199999997],\"y\":[0.5743690398521721,0.7276109962140099],\"mode\":\"markers\",\"marker\":{\"size\":12},\"name\":\"FastTreeRegression\"},{\"type\":\"scattergl\",\"x\":[9.0706834,19.242309],\"y\":[0.6729214150681455,0.6381716346368194],\"mode\":\"markers\",\"marker\":{\"size\":12},\"name\":\"FastTreeTweedieRegression\"},{\"type\":\"scattergl\",\"x\":[8.855001999999999],\"y\":[0.704923834046747],\"mode\":\"markers\",\"marker\":{\"size\":12},\"name\":\"FastForestRegression\"},{\"type\":\"scattergl\",\"x\":[2.4799013999999997],\"y\":[0.5822524484538008],\"mode\":\"markers\",\"marker\":{\"size\":12},\"name\":\"LbfgsPoissonRegression\"},{\"type\":\"scattergl\",\"x\":[0.8417878],\"y\":[3488.5157985425853],\"mode\":\"markers\",\"marker\":{\"size\":12},\"name\":\"OnlineGradientDescentRegression\"}];\n",
       "            var layout = {\"xaxis\":{\"title\":\"Training Time\",\"_isSubplotObj\":true},\"yaxis\":{\"title\":\"Error\",\"_isSubplotObj\":true}};\n",
       "            Plotly.newPlot('c4ca16bb-8965-4617-a07e-690165267d7c', data, layout);\n",
       "        });\r\n",
       "};\r\n",
       "if ((typeof(requirejs) !==  typeof(Function)) || (typeof(requirejs.config) !== typeof(Function))) { \r\n",
       "    var script = document.createElement(\"script\"); \r\n",
       "    script.setAttribute(\"src\", \"https://cdnjs.cloudflare.com/ajax/libs/require.js/2.3.6/require.min.js\"); \r\n",
       "    script.onload = function(){\r\n",
       "        renderPlotly();\r\n",
       "    };\r\n",
       "    document.getElementsByTagName(\"head\")[0].appendChild(script); \r\n",
       "}\r\n",
       "else {\r\n",
       "    renderPlotly();\r\n",
       "}\r\n",
       "</script>"
      ]
     },
     "metadata": {},
     "output_type": "display_data"
    },
    {
     "data": {
      "text/html": [
       "<div id=\"90e2c281-6346-4539-933a-c58a45a65a5a\" style=\"width: 600px; height: 600px;\"></div><script type=\"text/javascript\">\r\n",
       "\r\n",
       "var renderPlotly = function() {\r\n",
       "    var xplotRequire = requirejs.config({context:'xplot-2.0.0',paths:{plotly:'https://cdn.plot.ly/plotly-1.49.2.min'}});\r\n",
       "    xplotRequire(['plotly'], function(Plotly) {\r\n",
       "\n",
       "            var data = [{\"type\":\"scattergl\",\"x\":[1.29,1.81,0.43,0.68,0.42,0.47,4.91,3.91,2.83,0.75,0.35,0.33,0.98,1.33,1.67,1.47,0.84,0.58,1.11,0.75,0.41,0.77,5.32,4.4,0.64,0.55,0.47,1.21,0.73,0.69,0.34,0.72,4.04,1.29,0.25,0.28,1.43,0.69,1.78,1.12,0.54,0.56,0.34,0.13,2.45,1.74,0.72,0.59,1.57,1.13,0.97,0.75,0.64,1.66,0.98,1.11,1.77,2.26,0.46,0.46,0.83,0.41,0.33,0.81,1.64,2.82,3.46,0.83,0.37,0.99,2.2,1.01,0.94,2.13,0.6,3.65,1.29,1.29,0.71,1.4,0.35,0.69,1.02,1.42,0.61,0.52,1.04,2.06,0.89,0.45,0.8,1.64,0.74,1.01,1.33,1.5,0.58,0.56,1.16,1.1,5.58,5.65,1.09,0.46,1.67,0.46,0.11,0.29,0.25,1.06,1.25,0.86,0.67,2.09,0.46,0.41,1.26,8.75,6.61,3.17,6.18,6.72,1.04,1.49,0.63,0.58,0.72,0.78,0.63,1.49,2.01,1.22,0.7,1.65,1.37,1.73,1.0,0.89,0.58,0.54,1.04,0.15,1.71,0.43,0.64,0.29,0.63,0.22,5.64,0.67,1.53,0.43,0.31,1.61,2.71,0.5,0.5,0.24,1.52,0.18,0.47,0.15,0.16,0.09,1.05,1.66,3.08,0.7,0.77,0.39,0.46,1.0,0.93,0.39,0.09,1.07,1.2,0.69,0.33,1.01,0.32,0.35,0.29,0.52,0.16,0.18,0.09,0.56,0.81,1.14,0.42,0.16,0.24,0.46,0.56,2.44,5.2,0.74,1.57,1.12,0.98,0.91,0.74,0.69,1.08,0.93,1.09,0.62,0.44,0.95,0.19,0.17,1.79,0.76,0.78,0.32,0.3,0.11,0.79,1.05,1.02,1.93,1.22,3.92,0.77,0.89,1.11,0.57,0.95,1.14,0.76,1.25,1.49,0.73,0.54,0.37,0.1,0.55,0.17,0.3,0.65,2.38,1.59,0.88,1.32,1.2,1.54,1.09,1.29,1.81,1.41,1.22,3.04,7.21,3.8,4.65,6.63,6.02,1.39,2.06,1.49,1.17,7.49,9.72,4.06,8.5,5.38,1.31,5.93,1.86,0.62,0.98,0.2,1.03,0.96,1.16,1.02,1.22,0.94,0.7,3.24,3.09,1.1,3.34,1.6,3.77,0.87,1.02,2.16,1.56,0.71,1.54,0.92,1.38,1.67,0.92,1.29,1.67,1.19,1.59,2.29,2.83,2.22,1.51,1.92,3.47,1.23,0.98,1.71,2.65,2.09,1.37,0.8,1.28,0.96,3.27,2.72,3.69,3.64,1.53,3.29,4.61,1.58,0.74,0.95,2.12,1.18,0.77,2.14,2.89,1.64,1.67,1.33,1.66,1.35,1.38,5.03,1.01,1.4,0.74,1.21,0.49,2.05,2.99,0.76,1.32,1.72,1.91,1.41,3.04,2.52,2.07,3.68,1.22,1.76,1.4,2.08,1.61,3.31,1.36,1.02,0.78,2.69,1.0,1.63,1.09,1.88,0.36,0.66,1.81,0.41,2.19,1.0,1.94,4.29,4.45,2.22,1.02,0.56,2.86,0.57,1.33,2.29,0.95,1.32,0.5,1.38,0.79,1.49,2.51,1.06,1.7,8.26,3.22,0.52,1.19,1.14,0.9,1.09],\"y\":[1.2960767,0.5586145,0.6011248,0.74051553,1.4045279,1.246239,3.6167786,2.2543786,2.5950499,1.5214487,1.1070099,1.6842432,0.8897348,0.9913036,1.5800028,1.220643,1.0674418,0.8232322,1.0532762,1.1703511,1.2279314,0.8794716,5.099606,4.0761447,1.3988581,1.1496124,1.3649338,1.5842983,1.6694165,2.2363193,0.71836215,2.4633703,2.01718,1.2164098,0.7207395,1.1828052,1.9274666,0.90402687,1.8795779,1.5752143,0.7812099,0.92721874,0.40581948,0.21919021,2.4080048,2.405096,0.9495046,0.8629323,1.6992401,1.2183995,0.8396489,1.478675,1.2446591,0.55927426,0.5062798,1.5632807,0.76492006,2.015499,0.8549505,0.6000916,1.0964062,0.61314183,0.61195785,1.2116593,1.5854771,1.8170646,2.3566897,0.25720537,0.89283305,0.83600223,0.31432787,0.44376633,0.7444223,1.4391747,1.0595688,3.6015632,3.3298078,1.2637186,2.2965188,1.1852987,0.84990925,0.5192829,0.5160145,1.6785537,0.7345888,0.80809194,0.82151145,1.378289,0.9162404,0.9721733,1.3668146,2.0794034,1.1478603,0.39152238,0.9731764,1.1575103,0.9279456,0.48764303,0.6826965,0.6495648,4.1581573,4.4919395,2.9054534,1.1659535,1.7478955,0.78149587,1.907346,1.2565937,0.9623599,1.327638,1.5846022,0.8063362,0.8823772,1.2507805,0.497338,0.7555646,2.262013,5.5304327,5.8586984,3.8404574,6.0780635,3.4209685,0.8441192,1.1967193,0.9697011,1.0625137,0.7260116,0.69919026,0.18304104,1.7759837,0.95508265,1.5868332,1.2005414,0.5325195,0.70954835,1.334688,1.1566365,0.8659149,1.0541427,-0.105189726,1.5840442,1.7934244,2.1725538,0.08377241,1.3911753,1.3407531,0.9642332,1.399479,4.0715656,0.7328959,1.8706677,1.0504608,1.7313522,0.75533545,2.1147423,1.5223514,0.81425196,0.3586348,1.1044106,0.5990408,1.0742502,0.7427536,0.6472395,2.095264,0.97853184,1.2496248,0.7193783,0.95821434,1.837742,1.6432941,1.7322263,1.5756831,0.6472028,0.6092515,0.64411557,1.6003379,1.0382011,1.4584444,0.61027205,0.9918542,1.0594547,0.87078786,0.91248065,0.7542207,1.1864805,0.7790537,0.896867,1.3780918,1.1852102,1.4323627,1.25465,1.4102868,0.96429586,1.0161228,1.2421867,2.1655865,4.087136,0.8341432,1.4548569,1.0985061,1.0839049,1.3650396,1.6400269,1.4214791,1.371832,1.3375605,1.6981782,1.8451909,0.9289086,0.7161334,0.7268386,0.6715271,1.1427029,0.9878111,1.0218562,1.971677,0.4281807,0.63917035,0.92847806,1.167339,1.0390034,1.3425772,1.1473608,4.756742,1.0810418,1.13344,1.6718619,1.3862728,3.5813105,1.1336396,1.0979517,1.1309363,1.2240843,1.1619357,1.9307183,0.645491,0.5232225,0.7499566,1.0532084,1.3257302,1.5277187,2.1341522,1.1088661,2.9686208,3.0521781,1.038814,0.94344515,0.27578607,1.3552256,4.237879,1.3671976,1.2069854,1.8389933,4.0793614,1.6050119,3.6198537,3.6809342,3.892431,1.217114,2.6135454,3.0349057,1.9078993,5.0921254,3.7551055,4.595339,4.874075,5.6342425,3.903941,2.8525763,3.3672976,1.6278701,3.2664068,2.2384126,0.9110692,1.3450396,1.5089506,1.1972793,1.0926336,0.95390165,0.92546046,1.3953722,3.3031054,1.1790168,3.1051016,0.9718194,2.5126755,0.72086495,1.0038725,0.9350156,0.90577453,0.9100857,2.0217965,4.454665,0.948425,1.7369909,1.4670906,1.3636957,1.2140123,0.9150533,2.082106,1.2647281,1.2858499,1.8816534,0.98552966,1.8289009,2.4585936,2.3061438,0.5130544,0.6000069,3.0402992,2.1726732,1.485385,1.1628743,0.7814384,1.8008069,2.7193348,3.2854147,5.7715406,4.059785,1.6700051,1.7252742,4.3062224,3.5566478,1.2577597,1.2902646,2.1401877,1.7626086,0.92701185,1.1826311,1.5018492,1.6282129,1.0937437,1.0971364,1.1766331,2.415018,1.1141826,1.8213902,1.2161362,1.7006294,1.0976048,1.0316082,1.2524625,1.7320135,2.343613,1.0832485,1.0935869,1.7628331,1.9856683,1.9725218,1.576511,1.0769733,1.4062796,2.0948293,1.8148525,1.6356819,0.9585983,1.0051302,2.4063272,1.1246805,0.7517674,1.0722029,1.1605142,1.3599131,0.74730366,1.2772133,2.5096061,3.7008827,1.7814143,0.4807992,1.2343359,1.5056432,3.4700677,1.7918726,1.7190613,1.9580989,2.2509923,3.2690568,0.86156267,0.84692115,0.78255403,2.4952788,1.0044876,1.5568309,1.0247426,1.0933814,1.1315628,1.9039706,0.5451379,1.7030014,2.3226514,1.0392596,1.2805874,4.6491647,3.0636847,0.8304679,0.966764,0.52656776,1.1723313,2.4537218],\"mode\":\"markers\"},{\"type\":\"scattergl\",\"x\":[0.0,9.72],\"y\":[0.0,9.72],\"mode\":\"lines\"}];\n",
       "            var layout = {\"showlegend\":false,\"xaxis\":{\"title\":\"True Values\",\"_isSubplotObj\":true},\"yaxis\":{\"title\":\"Predicted Values\",\"_isSubplotObj\":true}};\n",
       "            Plotly.newPlot('90e2c281-6346-4539-933a-c58a45a65a5a', data, layout);\n",
       "        });\r\n",
       "};\r\n",
       "if ((typeof(requirejs) !==  typeof(Function)) || (typeof(requirejs.config) !== typeof(Function))) { \r\n",
       "    var script = document.createElement(\"script\"); \r\n",
       "    script.setAttribute(\"src\", \"https://cdnjs.cloudflare.com/ajax/libs/require.js/2.3.6/require.min.js\"); \r\n",
       "    script.onload = function(){\r\n",
       "        renderPlotly();\r\n",
       "    };\r\n",
       "    document.getElementsByTagName(\"head\")[0].appendChild(script); \r\n",
       "}\r\n",
       "else {\r\n",
       "    renderPlotly();\r\n",
       "}\r\n",
       "</script>"
      ]
     },
     "metadata": {},
     "output_type": "display_data"
    },
    {
     "data": {
      "text/plain": [
       "Selesai"
      ]
     },
     "metadata": {},
     "output_type": "display_data"
    }
   ],
   "source": [
    "string RawFilePath = GetAbsolutePath(@\"..\\CSModel\\Raw\\updated_SSK.csv\");\n",
    "string DatasetFolder = GetAbsolutePath(@\"..\\CSModel\\Dataset\");\n",
    "string PreProcessFolder = GetAbsolutePath(@\"..\\CSModel\\Preprocess\");\n",
    "string ModelFolder = GetAbsolutePath(@\"..\\CSModel\\MLModels\");\n",
    "\n",
    "if (ConsoleHelper.PrintData == null)\n",
    "    ConsoleHelper.PrintData += (object sender, string e) => { display(e); };\n",
    "\n",
    "//ConsoleHelper.Print(\"Split raw file to separate csv file (element)\");\n",
    "//SplitToMultipleCSV(RawFilePath, DatasetFolder);\n",
    "//ConsoleHelper.Print(\"Pre-process each csv file / element\");\n",
    "//PreProcessed(DatasetFolder, PreProcessFolder);\n",
    "ConsoleHelper.Print(\"Start AutoML\");\n",
    "DoAutoML(PreProcessFolder,ModelFolder,60);\n",
    "ConsoleHelper.Print(\"Selesai\");"
   ]
  },
  {
   "cell_type": "code",
   "execution_count": null,
   "metadata": {},
   "outputs": [],
   "source": []
  }
 ],
 "metadata": {
  "kernelspec": {
   "display_name": ".NET (C#)",
   "language": "C#",
   "name": ".net-csharp"
  },
  "language_info": {
   "file_extension": ".cs",
   "mimetype": "text/x-csharp",
   "name": "C#",
   "pygments_lexer": "csharp",
   "version": "8.0"
  }
 },
 "nbformat": 4,
 "nbformat_minor": 2
}
