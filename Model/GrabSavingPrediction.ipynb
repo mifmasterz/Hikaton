{
 "cells": [
  {
   "cell_type": "markdown",
   "metadata": {},
   "source": [
    "Nuget"
   ]
  },
  {
   "cell_type": "code",
   "execution_count": 5,
   "metadata": {},
   "outputs": [
    {
     "data": {
      "text/html": [
       "Installing package Microsoft.ML..done!"
      ]
     },
     "metadata": {},
     "output_type": "display_data"
    },
    {
     "data": {
      "text/html": [
       "Successfully added reference to package Microsoft.ML, version 1.4.0"
      ]
     },
     "metadata": {},
     "output_type": "display_data"
    },
    {
     "data": {
      "text/html": [
       "Installing package MathNet.Numerics..done!"
      ]
     },
     "metadata": {},
     "output_type": "display_data"
    },
    {
     "data": {
      "text/html": [
       "Successfully added reference to package MathNet.Numerics, version 4.9.0"
      ]
     },
     "metadata": {},
     "output_type": "display_data"
    },
    {
     "data": {
      "text/html": [
       "Installing package System.Data.Common..done!"
      ]
     },
     "metadata": {},
     "output_type": "display_data"
    },
    {
     "data": {
      "text/html": [
       "Successfully added reference to package System.Data.Common, version 4.3.0"
      ]
     },
     "metadata": {},
     "output_type": "display_data"
    },
    {
     "data": {
      "text/html": [
       "Installing package Microsoft.ML.AutoML..done!"
      ]
     },
     "metadata": {},
     "output_type": "display_data"
    },
    {
     "data": {
      "text/html": [
       "Successfully added reference to package Microsoft.ML.AutoML, version 0.16.0"
      ]
     },
     "metadata": {},
     "output_type": "display_data"
    },
    {
     "data": {
      "text/html": [
       "Installing package Microsoft.Data.DataFrame, version 0.1.1-e190920-1..done!"
      ]
     },
     "metadata": {},
     "output_type": "display_data"
    },
    {
     "data": {
      "text/html": [
       "Successfully added reference to package Microsoft.Data.DataFrame, version 0.1.1-e190920-1"
      ]
     },
     "metadata": {},
     "output_type": "display_data"
    },
    {
     "data": {
      "text/html": [
       "Installing package Microsoft.ML.LightGbm......done!"
      ]
     },
     "metadata": {},
     "output_type": "display_data"
    },
    {
     "data": {
      "text/html": [
       "Successfully added reference to package Microsoft.ML.LightGbm, version 1.4.0"
      ]
     },
     "metadata": {},
     "output_type": "display_data"
    }
   ],
   "source": [
    "#r \"nuget:Microsoft.ML\"\n",
    "#r \"nuget:MathNet.Numerics\"\n",
    "#r \"nuget:System.Data.Common\"\n",
    "#r \"nuget:Microsoft.ML.AutoML\"\n",
    "#r \"nuget:Microsoft.Data.DataFrame,0.1.1-e190920-1\"\n",
    "#r \"nuget:Microsoft.ML.LightGbm\"\n"
   ]
  },
  {
   "cell_type": "markdown",
   "metadata": {},
   "source": [
    "Reference"
   ]
  },
  {
   "cell_type": "code",
   "execution_count": 9,
   "metadata": {},
   "outputs": [],
   "source": [
    "using System;\n",
    "using Microsoft.ML;\n",
    "using Microsoft.ML.Data;\n",
    "using Microsoft.ML.AutoML;\n",
    "using System.IO;\n",
    "using System.Collections.Generic;\n",
    "using System.Data;\n",
    "using System.Text.RegularExpressions;\n",
    "using System.Text;\n",
    "using MathNet.Numerics.LinearAlgebra;\n",
    "using System.Linq;\n",
    "using System.Reflection;\n",
    "using Microsoft.Data;\n",
    "using XPlot.Plotly;\n",
    "using Microsoft.AspNetCore.Html;\n",
    "using Microsoft.ML.Trainers.LightGbm;\n",
    "\n",
    "Formatter<DataFrame>.Register((df, writer) =>\n",
    "{\n",
    "    var headers = new List<IHtmlContent>();\n",
    "    headers.Add(th(i(\"index\")));\n",
    "    headers.AddRange(df.Columns.Select(c => (IHtmlContent) th(c)));\n",
    "    var rows = new List<List<IHtmlContent>>();\n",
    "    var take = 20;\n",
    "    for (var i = 0; i < Math.Min(take, df.RowCount); i++)\n",
    "    {\n",
    "        var cells = new List<IHtmlContent>();\n",
    "        cells.Add(td(i));\n",
    "        foreach (var obj in df[i])\n",
    "        {\n",
    "            cells.Add(td(obj));\n",
    "        }\n",
    "        rows.Add(cells);\n",
    "    }\n",
    "    \n",
    "    var t = table(\n",
    "        thead(\n",
    "            headers),\n",
    "        tbody(\n",
    "            rows.Select(\n",
    "                r => tr(r))));\n",
    "    \n",
    "    writer.Write(t);\n",
    "}, \"text/html\");"
   ]
  },
  {
   "cell_type": "markdown",
   "metadata": {},
   "source": [
    "Model Class"
   ]
  },
  {
   "cell_type": "code",
   "execution_count": 18,
   "metadata": {},
   "outputs": [],
   "source": [
    " public class ModelInput\n",
    "    {\n",
    "        [ColumnName(\"Ride Distance (km)\"), LoadColumn(0)]\n",
    "        public float Ride_Distance__km_ { get; set; }\n",
    "\n",
    "\n",
    "        [ColumnName(\"Vehicle Type\"), LoadColumn(1)]\n",
    "        public string Vehicle_Type { get; set; }\n",
    "\n",
    "\n",
    "        [ColumnName(\"Promo Value\"), LoadColumn(2)]\n",
    "        public float Promo_Value { get; set; }\n",
    "\n",
    "\n",
    "        [ColumnName(\"Fare\"), LoadColumn(3)]\n",
    "        public float Fare { get; set; }\n",
    "\n",
    "\n",
    "        [ColumnName(\"Paid\"), LoadColumn(4)]\n",
    "        public float Paid { get; set; }\n",
    "\n",
    "\n",
    "        [ColumnName(\"Hour\"), LoadColumn(5)]\n",
    "        public float Hour { get; set; }\n",
    "\n",
    "\n",
    "        [ColumnName(\"Minute\"), LoadColumn(6)]\n",
    "        public float Minute { get; set; }\n",
    "\n",
    "\n",
    "        [ColumnName(\"Class\"), LoadColumn(7)]\n",
    "        public string Class { get; set; }\n",
    "\n",
    "\n",
    "        [ColumnName(\"Day\"), LoadColumn(8)]\n",
    "        public string Day { get; set; }\n",
    "\n",
    "\n",
    "        [ColumnName(\"Saving\"), LoadColumn(9)]\n",
    "        public float Saving { get; set; }\n",
    "\n",
    "\n",
    "    }\n",
    "    public class ModelOutput\n",
    "    {\n",
    "        public float Score { get; set; }\n",
    "    }"
   ]
  },
  {
   "cell_type": "markdown",
   "metadata": {},
   "source": [
    "function helpers"
   ]
  },
  {
   "cell_type": "code",
   "execution_count": 26,
   "metadata": {},
   "outputs": [],
   "source": [
    "        private static string TRAIN_DATA_FILEPATH = @\"BusinessProfile4.csv\";\n",
    "        private static string MODEL_FILEPATH = @\"MLModel2.zip\";\n",
    "\n",
    "        // Create MLContext to be shared across the model creation workflow objects \n",
    "        // Set a random seed for repeatable/deterministic results across multiple trainings.\n",
    "        private static MLContext mlContext = new MLContext(seed: 1);\n",
    "\n",
    "        public static void CreateModel()\n",
    "        {\n",
    "            // Load Data\n",
    "            IDataView trainingDataView = mlContext.Data.LoadFromTextFile<ModelInput>(\n",
    "                                            path: TRAIN_DATA_FILEPATH,\n",
    "                                            hasHeader: true,\n",
    "                                            separatorChar: ',',\n",
    "                                            allowQuoting: true,\n",
    "                                            allowSparse: false);\n",
    "\n",
    "            // Build training pipeline\n",
    "            IEstimator<ITransformer> trainingPipeline = BuildTrainingPipeline(mlContext);\n",
    "\n",
    "            // Evaluate quality of Model\n",
    "            Evaluate(mlContext, trainingDataView, trainingPipeline);\n",
    "\n",
    "            // Train Model\n",
    "            ITransformer mlModel = TrainModel(mlContext, trainingDataView, trainingPipeline);\n",
    "\n",
    "            // Save model\n",
    "            SaveModel(mlContext, mlModel, MODEL_FILEPATH, trainingDataView.Schema);\n",
    "        }\n",
    "\n",
    "        public static IEstimator<ITransformer> BuildTrainingPipeline(MLContext mlContext)\n",
    "        {\n",
    "           // Data process configuration with pipeline data transformations \n",
    "            var dataProcessPipeline = mlContext.Transforms.Categorical.OneHotEncoding(new[] { new InputOutputColumnPair(\"Vehicle Type\", \"Vehicle Type\"), new InputOutputColumnPair(\"Day\", \"Day\") })\n",
    "                                      .Append(mlContext.Transforms.Concatenate(\"Features\", new[] { \"Vehicle Type\", \"Day\", \"Ride Distance (km)\", \"Hour\" }));\n",
    "\n",
    "            // Set the training algorithm \n",
    "            var trainer = mlContext.Regression.Trainers.FastTree(labelColumnName: \"Saving\", featureColumnName: \"Features\");\n",
    "            var trainingPipeline = dataProcessPipeline.Append(trainer);\n",
    "\n",
    "            return trainingPipeline;\n",
    "        }\n",
    "\n",
    "        public static ITransformer TrainModel(MLContext mlContext, IDataView trainingDataView, IEstimator<ITransformer> trainingPipeline)\n",
    "        {\n",
    "            Console.WriteLine(\"=============== Training  model ===============\");\n",
    "\n",
    "            ITransformer model = trainingPipeline.Fit(trainingDataView);\n",
    "\n",
    "            Console.WriteLine(\"=============== End of training process ===============\");\n",
    "            return model;\n",
    "        }\n",
    "\n",
    "        private static void Evaluate(MLContext mlContext, IDataView trainingDataView, IEstimator<ITransformer> trainingPipeline)\n",
    "        {\n",
    "            // Cross-Validate with single dataset (since we don't have two datasets, one for training and for evaluate)\n",
    "            // in order to evaluate and get the model's accuracy metrics\n",
    "            Console.WriteLine(\"=============== Cross-validating to get model's accuracy metrics ===============\");\n",
    "            var crossValidationResults = mlContext.Regression.CrossValidate(trainingDataView, trainingPipeline, numberOfFolds: 5, labelColumnName: \"Saving\");\n",
    "            PrintRegressionFoldsAverageMetrics(crossValidationResults);\n",
    "        }\n",
    "\n",
    "        private static void SaveModel(MLContext mlContext, ITransformer mlModel, string modelRelativePath, DataViewSchema modelInputSchema)\n",
    "        {\n",
    "            // Save/persist the trained model to a .ZIP file\n",
    "            Console.WriteLine($\"=============== Saving the model  ===============\");\n",
    "            mlContext.Model.Save(mlModel, modelInputSchema, GetAbsolutePath(modelRelativePath));\n",
    "            Console.WriteLine(\"The model is saved to {0}\", GetAbsolutePath(modelRelativePath));\n",
    "        }\n",
    "\n",
    "        public static string GetAbsolutePath(string relativePath)\n",
    "        {\n",
    "             //FileInfo _dataRoot = new FileInfo(this.GetType().Assembly.Location);\n",
    "            string assemblyFolderPath = System.IO.Directory.GetCurrentDirectory();\n",
    "\n",
    "            string fullPath = Path.Combine(assemblyFolderPath, relativePath);\n",
    "\n",
    "            return fullPath;\n",
    "        }\n",
    "\n",
    "        public static void PrintRegressionMetrics(RegressionMetrics metrics)\n",
    "        {\n",
    "            Console.WriteLine($\"*************************************************\");\n",
    "            Console.WriteLine($\"*       Metrics for Regression model      \");\n",
    "            Console.WriteLine($\"*------------------------------------------------\");\n",
    "            Console.WriteLine($\"*       LossFn:        {metrics.LossFunction:0.##}\");\n",
    "            Console.WriteLine($\"*       R2 Score:      {metrics.RSquared:0.##}\");\n",
    "            Console.WriteLine($\"*       Absolute loss: {metrics.MeanAbsoluteError:#.##}\");\n",
    "            Console.WriteLine($\"*       Squared loss:  {metrics.MeanSquaredError:#.##}\");\n",
    "            Console.WriteLine($\"*       RMS loss:      {metrics.RootMeanSquaredError:#.##}\");\n",
    "            Console.WriteLine($\"*************************************************\");\n",
    "        }\n",
    "\n",
    "        public static void PrintRegressionFoldsAverageMetrics(IEnumerable<TrainCatalogBase.CrossValidationResult<RegressionMetrics>> crossValidationResults)\n",
    "        {\n",
    "            var L1 = crossValidationResults.Select(r => r.Metrics.MeanAbsoluteError);\n",
    "            var L2 = crossValidationResults.Select(r => r.Metrics.MeanSquaredError);\n",
    "            var RMS = crossValidationResults.Select(r => r.Metrics.RootMeanSquaredError);\n",
    "            var lossFunction = crossValidationResults.Select(r => r.Metrics.LossFunction);\n",
    "            var R2 = crossValidationResults.Select(r => r.Metrics.RSquared);\n",
    "\n",
    "            Console.WriteLine($\"*************************************************************************************************************\");\n",
    "            Console.WriteLine($\"*       Metrics for Regression model      \");\n",
    "            Console.WriteLine($\"*------------------------------------------------------------------------------------------------------------\");\n",
    "            Console.WriteLine($\"*       Average L1 Loss:       {L1.Average():0.###} \");\n",
    "            Console.WriteLine($\"*       Average L2 Loss:       {L2.Average():0.###}  \");\n",
    "            Console.WriteLine($\"*       Average RMS:           {RMS.Average():0.###}  \");\n",
    "            Console.WriteLine($\"*       Average Loss Function: {lossFunction.Average():0.###}  \");\n",
    "            Console.WriteLine($\"*       Average R-squared:     {R2.Average():0.###}  \");\n",
    "            Console.WriteLine($\"*************************************************************************************************************\");\n",
    "        }"
   ]
  },
  {
   "cell_type": "markdown",
   "metadata": {},
   "source": [
    "Start Training"
   ]
  },
  {
   "cell_type": "code",
   "execution_count": 27,
   "metadata": {},
   "outputs": [
    {
     "name": "stdout",
     "output_type": "stream",
     "text": [
      "=============== Cross-validating to get model's accuracy metrics ===============\n",
      "*************************************************************************************************************\n",
      "*       Metrics for Regression model      \n",
      "*------------------------------------------------------------------------------------------------------------\n",
      "*       Average L1 Loss:       9411.912 \n",
      "*       Average L2 Loss:       271179160.38  \n",
      "*       Average RMS:           14617.389  \n",
      "*       Average Loss Function: 271179172.385  \n",
      "*       Average R-squared:     0.158  \n",
      "*************************************************************************************************************\n",
      "=============== Training  model ===============\n",
      "=============== End of training process ===============\n",
      "=============== Saving the model  ===============\n",
      "The model is saved to C:\\jobs\\Hikaton\\Model\\MLModel2.zip\n"
     ]
    }
   ],
   "source": [
    "CreateModel();"
   ]
  },
  {
   "cell_type": "code",
   "execution_count": 28,
   "metadata": {},
   "outputs": [
    {
     "name": "stdout",
     "output_type": "stream",
     "text": [
      "Using model to make single prediction \n",
      "\n",
      "\n",
      "Ride Distance (km): 10\n",
      "Vehicle Type: GrabBike\n",
      "Hour: 5\n",
      "Day: Fri\n",
      "\n",
      "\n",
      "Predicted Saving: Rp.10530.258\n",
      "\n",
      "\n",
      "Using model to make single prediction \n",
      "\n",
      "\n",
      "Ride Distance (km): 10\n",
      "Vehicle Type: GrabBike\n",
      "Hour: 6\n",
      "Day: Fri\n",
      "\n",
      "\n",
      "Predicted Saving: Rp.10530.258\n",
      "\n",
      "\n",
      "Using model to make single prediction \n",
      "\n",
      "\n",
      "Ride Distance (km): 10\n",
      "Vehicle Type: GrabBike\n",
      "Hour: 7\n",
      "Day: Fri\n",
      "\n",
      "\n",
      "Predicted Saving: Rp.10530.258\n",
      "\n",
      "\n",
      "Using model to make single prediction \n",
      "\n",
      "\n",
      "Ride Distance (km): 10\n",
      "Vehicle Type: GrabBike\n",
      "Hour: 8\n",
      "Day: Fri\n",
      "\n",
      "\n",
      "Predicted Saving: Rp.10530.258\n",
      "\n",
      "\n",
      "Using model to make single prediction \n",
      "\n",
      "\n",
      "Ride Distance (km): 10\n",
      "Vehicle Type: GrabBike\n",
      "Hour: 9\n",
      "Day: Fri\n",
      "\n",
      "\n",
      "Predicted Saving: Rp.10530.258\n",
      "\n",
      "\n",
      "Using model to make single prediction \n",
      "\n",
      "\n",
      "Ride Distance (km): 10\n",
      "Vehicle Type: GrabBike\n",
      "Hour: 10\n",
      "Day: Fri\n",
      "\n",
      "\n",
      "Predicted Saving: Rp.22668.65\n",
      "\n",
      "\n",
      "Using model to make single prediction \n",
      "\n",
      "\n",
      "Ride Distance (km): 10\n",
      "Vehicle Type: GrabBike\n",
      "Hour: 11\n",
      "Day: Fri\n",
      "\n",
      "\n",
      "Predicted Saving: Rp.22668.65\n",
      "\n",
      "\n",
      "Using model to make single prediction \n",
      "\n",
      "\n",
      "Ride Distance (km): 10\n",
      "Vehicle Type: GrabBike\n",
      "Hour: 12\n",
      "Day: Fri\n",
      "\n",
      "\n",
      "Predicted Saving: Rp.25402.758\n",
      "\n",
      "\n",
      "Using model to make single prediction \n",
      "\n",
      "\n",
      "Ride Distance (km): 10\n",
      "Vehicle Type: GrabBike\n",
      "Hour: 13\n",
      "Day: Fri\n",
      "\n",
      "\n",
      "Predicted Saving: Rp.25402.758\n",
      "\n",
      "\n",
      "Using model to make single prediction \n",
      "\n",
      "\n",
      "Ride Distance (km): 10\n",
      "Vehicle Type: GrabBike\n",
      "Hour: 14\n",
      "Day: Fri\n",
      "\n",
      "\n",
      "Predicted Saving: Rp.25402.758\n",
      "\n",
      "\n",
      "Using model to make single prediction \n",
      "\n",
      "\n",
      "Ride Distance (km): 10\n",
      "Vehicle Type: GrabBike\n",
      "Hour: 15\n",
      "Day: Fri\n",
      "\n",
      "\n",
      "Predicted Saving: Rp.16413.855\n",
      "\n",
      "\n",
      "Using model to make single prediction \n",
      "\n",
      "\n",
      "Ride Distance (km): 10\n",
      "Vehicle Type: GrabBike\n",
      "Hour: 16\n",
      "Day: Fri\n",
      "\n",
      "\n",
      "Predicted Saving: Rp.26313.867\n",
      "\n",
      "\n",
      "Using model to make single prediction \n",
      "\n",
      "\n",
      "Ride Distance (km): 10\n",
      "Vehicle Type: GrabBike\n",
      "Hour: 17\n",
      "Day: Fri\n",
      "\n",
      "\n",
      "Predicted Saving: Rp.7622.114\n",
      "\n",
      "\n",
      "Using model to make single prediction \n",
      "\n",
      "\n",
      "Ride Distance (km): 10\n",
      "Vehicle Type: GrabBike\n",
      "Hour: 18\n",
      "Day: Fri\n",
      "\n",
      "\n",
      "Predicted Saving: Rp.307.5067\n",
      "\n",
      "\n",
      "Using model to make single prediction \n",
      "\n",
      "\n",
      "Ride Distance (km): 10\n",
      "Vehicle Type: GrabBike\n",
      "Hour: 19\n",
      "Day: Fri\n",
      "\n",
      "\n",
      "Predicted Saving: Rp.307.5067\n",
      "\n",
      "\n",
      "Using model to make single prediction \n",
      "\n",
      "\n",
      "Ride Distance (km): 10\n",
      "Vehicle Type: GrabBike\n",
      "Hour: 20\n",
      "Day: Fri\n",
      "\n",
      "\n",
      "Predicted Saving: Rp.307.5067\n",
      "\n",
      "\n",
      "Using model to make single prediction \n",
      "\n",
      "\n",
      "Ride Distance (km): 10\n",
      "Vehicle Type: GrabBike\n",
      "Hour: 21\n",
      "Day: Fri\n",
      "\n",
      "\n",
      "Predicted Saving: Rp.307.5067\n",
      "\n",
      "\n",
      "Using model to make single prediction \n",
      "\n",
      "\n",
      "Ride Distance (km): 10\n",
      "Vehicle Type: GrabBike\n",
      "Hour: 22\n",
      "Day: Fri\n",
      "\n",
      "\n",
      "Predicted Saving: Rp.307.5067\n",
      "\n",
      "\n",
      "Using model to make single prediction \n",
      "\n",
      "\n",
      "Ride Distance (km): 10\n",
      "Vehicle Type: GrabBike\n",
      "Hour: 23\n",
      "Day: Fri\n",
      "\n",
      "\n",
      "Predicted Saving: Rp.307.5067\n",
      "\n",
      "\n",
      "=============== End of process ===============\n"
     ]
    }
   ],
   "source": [
    "public static ModelOutput Predict(ModelInput input)\n",
    "        {\n",
    "\n",
    "            // Create new MLContext\n",
    "            MLContext mlContext = new MLContext();\n",
    "\n",
    "            // Load model & create prediction engine\n",
    "            string modelPath =  MODEL_FILEPATH;\n",
    "            ITransformer mlModel = mlContext.Model.Load(modelPath, out var modelInputSchema);\n",
    "            var predEngine = mlContext.Model.CreatePredictionEngine<ModelInput, ModelOutput>(mlModel);\n",
    "\n",
    "            // Use model to make prediction on input data\n",
    "            ModelOutput result = predEngine.Predict(input);\n",
    "            return result;\n",
    "        }\n",
    "        \n",
    "        for (int jam = 5; jam < 24; jam++)\n",
    "            {\n",
    "                // Create single instance of sample data from first line of dataset for model input\n",
    "                ModelInput sampleData = new ModelInput() { Day=\"Fri\", Hour=jam, Ride_Distance__km_=10, Vehicle_Type=\"GrabBike\" };\n",
    "\n",
    "                // Make a single prediction on the sample data and print results\n",
    "                ModelOutput predictionResult = Predict(sampleData);\n",
    "\n",
    "                Console.WriteLine(\"Using model to make single prediction \\n\\n\");\n",
    "                Console.WriteLine($\"Ride Distance (km): {sampleData.Ride_Distance__km_}\");\n",
    "                Console.WriteLine($\"Vehicle Type: {sampleData.Vehicle_Type}\");\n",
    "                Console.WriteLine($\"Hour: {sampleData.Hour}\");\n",
    "                Console.WriteLine($\"Day: {sampleData.Day}\");\n",
    "                Console.WriteLine($\"\\n\\nPredicted Saving: Rp.{predictionResult.Score}\\n\\n\");\n",
    "              \n",
    "            }\n",
    "            Console.WriteLine(\"=============== End of process ===============\");"
   ]
  },
  {
   "cell_type": "code",
   "execution_count": null,
   "metadata": {},
   "outputs": [],
   "source": []
  }
 ],
 "metadata": {
  "kernelspec": {
   "display_name": ".NET (C#)",
   "language": "C#",
   "name": ".net-csharp"
  },
  "language_info": {
   "file_extension": ".cs",
   "mimetype": "text/x-csharp",
   "name": "C#",
   "pygments_lexer": "csharp",
   "version": "8.0"
  }
 },
 "nbformat": 4,
 "nbformat_minor": 2
}
